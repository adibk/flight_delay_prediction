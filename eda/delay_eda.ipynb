{
 "cells": [
  {
   "cell_type": "markdown",
   "metadata": {},
   "source": [
    "## Script Handle data date, ids, location"
   ]
  },
  {
   "cell_type": "code",
   "execution_count": null,
   "metadata": {},
   "outputs": [],
   "source": [
    "import numpy as np\n",
    "import pandas as pd\n",
    "import matplotlib.pyplot as plt\n",
    "import seaborn as sns\n",
    "import os\n"
   ]
  },
  {
   "cell_type": "code",
   "execution_count": 2,
   "metadata": {},
   "outputs": [
    {
     "name": "stdout",
     "output_type": "stream",
     "text": [
      "File 1: (445827, 65)\n",
      "File 2: (423889, 65)\n",
      "File 3: (479122, 65)\n",
      "File 4: (479950, 65)\n",
      "File 5: (479358, 65)\n",
      "File 6: (487637, 65)\n",
      "File 7: (502457, 65)\n",
      "File 8: (498347, 65)\n",
      "File 9: (454878, 65)\n",
      "File 10: (472626, 65)\n",
      "File 11: (450938, 65)\n",
      "File 12: (460949, 65)\n"
     ]
    }
   ],
   "source": [
    "\n",
    "data_path = '../data'\n",
    "file_names = [f'2016_{str(n+1).zfill(2)}.csv' for n in range(12)]\n",
    "file_names\n",
    "\n",
    "dfs = []\n",
    "for i in range(12):\n",
    "    dtype_spec = None\n",
    "    if i in [2, 4, 5, 8, 9, 10, 11]:\n",
    "        dtype_spec = {48: 'str'}\n",
    "    elif i == 3:\n",
    "        dtype_spec = {\n",
    "            0: 'str', 1: 'str', 3: 'str', 4: 'str', 10: 'str', 11: 'str', 13: 'str',\n",
    "            19: 'str', 20: 'str', 21: 'str', 22: 'str', 30: 'str', 36: 'str', 41: 'str', 48: 'str'\n",
    "        }\n",
    "    df_part = pd.read_csv(f'{data_path}/{file_names[i]}', on_bad_lines='skip', dtype=dtype_spec)\n",
    "    print(f'File {i + 1}: {df_part.shape}')\n",
    "    dfs.append(df_part)\n",
    "df = pd.concat(dfs, ignore_index=True)\n",
    "\n",
    "if 'Unnamed: 64' in df.columns:\n",
    "    df.drop(columns=['Unnamed: 64'], inplace=True)\n",
    "if 'UNIQUE_CARRIER' in df.columns:\n",
    "    df.drop(columns=['UNIQUE_CARRIER'], inplace=True)\n",
    "df = df.loc[~df['FL_DATE'].str.startswith('5059')]\n",
    "\n",
    "df.loc[:, 'FL_DATE'] = pd.to_datetime(df['FL_DATE'])\n",
    "\n",
    "columns_to_drop = [\n",
    "    'YEAR',\n",
    "    'QUARTER',\n",
    "    'MONTH',\n",
    "    'DAY_OF_MONTH',\n",
    "    'DAY_OF_WEEK',\n",
    "    'FL_DATE_year',\n",
    "    'FL_DATE_quarter',\n",
    "    'FL_DATE_month',\n",
    "    'FL_DATE_day_of_month',\n",
    "    'FL_DATE_day_of_week'\n",
    "]\n",
    "existing_drop = [col for col in columns_to_drop if col in df.columns]\n",
    "if existing_drop:\n",
    "    df.drop(columns=existing_drop, inplace=True)\n",
    "    \n",
    "\n"
   ]
  },
  {
   "cell_type": "code",
   "execution_count": 4,
   "metadata": {},
   "outputs": [
    {
     "data": {
      "text/html": [
       "<div>\n",
       "<style scoped>\n",
       "    .dataframe tbody tr th:only-of-type {\n",
       "        vertical-align: middle;\n",
       "    }\n",
       "\n",
       "    .dataframe tbody tr th {\n",
       "        vertical-align: top;\n",
       "    }\n",
       "\n",
       "    .dataframe thead th {\n",
       "        text-align: right;\n",
       "    }\n",
       "</style>\n",
       "<table border=\"1\" class=\"dataframe\">\n",
       "  <thead>\n",
       "    <tr style=\"text-align: right;\">\n",
       "      <th></th>\n",
       "      <th>FL_DATE</th>\n",
       "      <th>AIRLINE_ID</th>\n",
       "      <th>CARRIER</th>\n",
       "      <th>TAIL_NUM</th>\n",
       "      <th>FL_NUM</th>\n",
       "      <th>ORIGIN_AIRPORT_ID</th>\n",
       "      <th>ORIGIN_AIRPORT_SEQ_ID</th>\n",
       "      <th>ORIGIN_CITY_MARKET_ID</th>\n",
       "      <th>ORIGIN</th>\n",
       "      <th>ORIGIN_CITY_NAME</th>\n",
       "      <th>...</th>\n",
       "      <th>DISTANCE</th>\n",
       "      <th>DISTANCE_GROUP</th>\n",
       "      <th>CARRIER_DELAY</th>\n",
       "      <th>WEATHER_DELAY</th>\n",
       "      <th>NAS_DELAY</th>\n",
       "      <th>SECURITY_DELAY</th>\n",
       "      <th>LATE_AIRCRAFT_DELAY</th>\n",
       "      <th>FIRST_DEP_TIME</th>\n",
       "      <th>TOTAL_ADD_GTIME</th>\n",
       "      <th>LONGEST_ADD_GTIME</th>\n",
       "    </tr>\n",
       "  </thead>\n",
       "  <tbody>\n",
       "    <tr>\n",
       "      <th>1802953</th>\n",
       "      <td>2016-04-29</td>\n",
       "      <td>20409</td>\n",
       "      <td>B6</td>\n",
       "      <td>N644JB</td>\n",
       "      <td>582700-1759</td>\n",
       "      <td>15.00</td>\n",
       "      <td>1753</td>\n",
       "      <td>1816</td>\n",
       "      <td>4.00</td>\n",
       "      <td>1829</td>\n",
       "      <td>...</td>\n",
       "      <td>NaN</td>\n",
       "      <td>NaN</td>\n",
       "      <td>NaN</td>\n",
       "      <td>NaN</td>\n",
       "      <td>NaN</td>\n",
       "      <td>NaN</td>\n",
       "      <td>NaN</td>\n",
       "      <td>NaN</td>\n",
       "      <td>NaN</td>\n",
       "      <td>NaN</td>\n",
       "    </tr>\n",
       "  </tbody>\n",
       "</table>\n",
       "<p>1 rows × 58 columns</p>\n",
       "</div>"
      ],
      "text/plain": [
       "           FL_DATE  AIRLINE_ID CARRIER TAIL_NUM       FL_NUM  \\\n",
       "1802953 2016-04-29       20409      B6   N644JB  582700-1759   \n",
       "\n",
       "        ORIGIN_AIRPORT_ID  ORIGIN_AIRPORT_SEQ_ID ORIGIN_CITY_MARKET_ID ORIGIN  \\\n",
       "1802953             15.00                   1753                  1816   4.00   \n",
       "\n",
       "        ORIGIN_CITY_NAME  ... DISTANCE  DISTANCE_GROUP CARRIER_DELAY  \\\n",
       "1802953             1829  ...      NaN             NaN           NaN   \n",
       "\n",
       "        WEATHER_DELAY NAS_DELAY SECURITY_DELAY LATE_AIRCRAFT_DELAY  \\\n",
       "1802953           NaN       NaN            NaN                 NaN   \n",
       "\n",
       "        FIRST_DEP_TIME TOTAL_ADD_GTIME LONGEST_ADD_GTIME  \n",
       "1802953            NaN             NaN               NaN  \n",
       "\n",
       "[1 rows x 58 columns]"
      ]
     },
     "execution_count": 4,
     "metadata": {},
     "output_type": "execute_result"
    }
   ],
   "source": [
    "df[df['FL_NUM'] == '582700-1759']"
   ]
  },
  {
   "cell_type": "code",
   "execution_count": 7,
   "metadata": {},
   "outputs": [],
   "source": [
    "df.drop(df[df['FL_NUM'] == '582700-1759'].index, inplace=True)\n",
    "df['FL_NUM'] = df['FL_NUM'].astype(int)\n",
    "\n",
    "df['ORIGIN_AIRPORT_ID'] = df['ORIGIN_AIRPORT_ID'].astype(int)\n",
    "df['ORIGIN_CITY_MARKET_ID'] = df['ORIGIN_CITY_MARKET_ID'].astype(int)\n",
    "df['ORIGIN_STATE_FIPS'] = df['ORIGIN_STATE_FIPS'].astype(int)\n",
    "\n",
    "df.drop(df[df['ORIGIN_STATE_NM'] == 'Illinois\",1842\"'].index, inplace=True)\n",
    "\n",
    "df['ORIGIN_WAC'] = df['ORIGIN_WAC'].replace('7.00', 7)\n",
    "df['ORIGIN_WAC'] = df['ORIGIN_WAC'].astype(int)"
   ]
  },
  {
   "cell_type": "code",
   "execution_count": 10,
   "metadata": {},
   "outputs": [],
   "source": [
    "df['DEST_AIRPORT_ID'] = df['DEST_AIRPORT_ID'].astype(int)\n",
    "df['DEST_AIRPORT_SEQ_ID'] = df['DEST_AIRPORT_SEQ_ID'].astype(int)\n",
    "df['DEST_CITY_MARKET_ID'] = df['DEST_CITY_MARKET_ID'].astype(int)\n",
    "\n",
    "df['DEST_STATE_FIPS'] = df['DEST_STATE_FIPS'].astype(int)\n",
    "\n",
    "df['DEST_WAC'] = df['DEST_WAC'].astype(int)\n",
    "\n"
   ]
  },
  {
   "cell_type": "code",
   "execution_count": 52,
   "metadata": {},
   "outputs": [
    {
     "data": {
      "text/plain": [
       "FL_DATE                  datetime64[ns]\n",
       "AIRLINE_ID                        int64\n",
       "CARRIER                          object\n",
       "TAIL_NUM                         object\n",
       "FL_NUM                            int64\n",
       "ORIGIN_AIRPORT_ID                 int64\n",
       "ORIGIN_AIRPORT_SEQ_ID             int64\n",
       "ORIGIN_CITY_MARKET_ID             int64\n",
       "ORIGIN                           object\n",
       "ORIGIN_CITY_NAME                 object\n",
       "ORIGIN_STATE_ABR                 object\n",
       "ORIGIN_STATE_FIPS                 int64\n",
       "ORIGIN_STATE_NM                  object\n",
       "ORIGIN_WAC                        int64\n",
       "DEST_AIRPORT_ID                   int64\n",
       "DEST_AIRPORT_SEQ_ID               int64\n",
       "DEST_CITY_MARKET_ID               int64\n",
       "DEST                             object\n",
       "DEST_CITY_NAME                   object\n",
       "DEST_STATE_ABR                   object\n",
       "DEST_STATE_FIPS                   int64\n",
       "DEST_STATE_NM                    object\n",
       "DEST_WAC                          int64\n",
       "CRS_DEP_TIME                      int64\n",
       "DEP_TIME                          Int64\n",
       "DEP_DELAY                         Int64\n",
       "DEP_DELAY_NEW                   float64\n",
       "DEP_DEL15                       float64\n",
       "DEP_DELAY_GROUP                 float64\n",
       "DEP_TIME_BLK                     object\n",
       "TAXI_OUT                         object\n",
       "WHEELS_OFF                      float64\n",
       "WHEELS_ON                       float64\n",
       "TAXI_IN                         float64\n",
       "CRS_ARR_TIME                    float64\n",
       "ARR_TIME                         object\n",
       "ARR_DELAY                       float64\n",
       "ARR_DELAY_NEW                   float64\n",
       "ARR_DEL15                       float64\n",
       "ARR_DELAY_GROUP                 float64\n",
       "ARR_TIME_BLK                     object\n",
       "CANCELLED                       float64\n",
       "CANCELLATION_CODE                object\n",
       "DIVERTED                        float64\n",
       "CRS_ELAPSED_TIME                float64\n",
       "ACTUAL_ELAPSED_TIME             float64\n",
       "AIR_TIME                        float64\n",
       "FLIGHTS                         float64\n",
       "DISTANCE                        float64\n",
       "DISTANCE_GROUP                  float64\n",
       "CARRIER_DELAY                   float64\n",
       "WEATHER_DELAY                   float64\n",
       "NAS_DELAY                       float64\n",
       "SECURITY_DELAY                  float64\n",
       "LATE_AIRCRAFT_DELAY             float64\n",
       "FIRST_DEP_TIME                  float64\n",
       "TOTAL_ADD_GTIME                 float64\n",
       "LONGEST_ADD_GTIME               float64\n",
       "dtype: object"
      ]
     },
     "execution_count": 52,
     "metadata": {},
     "output_type": "execute_result"
    }
   ],
   "source": [
    "df.dtypes"
   ]
  },
  {
   "cell_type": "code",
   "execution_count": 13,
   "metadata": {},
   "outputs": [
    {
     "data": {
      "text/plain": [
       "FL_DATE                        0\n",
       "AIRLINE_ID                     0\n",
       "CARRIER                        0\n",
       "TAIL_NUM                   12750\n",
       "FL_NUM                         0\n",
       "ORIGIN_AIRPORT_ID              0\n",
       "ORIGIN_AIRPORT_SEQ_ID          0\n",
       "ORIGIN_CITY_MARKET_ID          0\n",
       "ORIGIN                         0\n",
       "ORIGIN_CITY_NAME               0\n",
       "ORIGIN_STATE_ABR               0\n",
       "ORIGIN_STATE_FIPS              0\n",
       "ORIGIN_STATE_NM                0\n",
       "ORIGIN_WAC                     0\n",
       "DEST_AIRPORT_ID                0\n",
       "DEST_AIRPORT_SEQ_ID            0\n",
       "DEST_CITY_MARKET_ID            0\n",
       "DEST                           0\n",
       "DEST_CITY_NAME                 0\n",
       "DEST_STATE_ABR                 0\n",
       "DEST_STATE_FIPS                0\n",
       "DEST_STATE_NM                  0\n",
       "DEST_WAC                       0\n",
       "CRS_DEP_TIME                   0\n",
       "DEP_TIME                   63538\n",
       "DEP_DELAY                  63538\n",
       "DEP_DELAY_NEW              63538\n",
       "DEP_DEL15                  63538\n",
       "DEP_DELAY_GROUP            63538\n",
       "DEP_TIME_BLK                   0\n",
       "TAXI_OUT                   65521\n",
       "WHEELS_OFF                 65521\n",
       "WHEELS_ON                  67981\n",
       "TAXI_IN                    67981\n",
       "CRS_ARR_TIME                   1\n",
       "ARR_TIME                   67982\n",
       "ARR_DELAY                  79779\n",
       "ARR_DELAY_NEW              79779\n",
       "ARR_DEL15                  79779\n",
       "ARR_DELAY_GROUP            79779\n",
       "ARR_TIME_BLK                   1\n",
       "CANCELLED                      1\n",
       "CANCELLATION_CODE        5570001\n",
       "DIVERTED                       2\n",
       "CRS_ELAPSED_TIME               8\n",
       "ACTUAL_ELAPSED_TIME        79780\n",
       "AIR_TIME                   79780\n",
       "FLIGHTS                        2\n",
       "DISTANCE                       2\n",
       "DISTANCE_GROUP                 2\n",
       "CARRIER_DELAY            4667535\n",
       "WEATHER_DELAY            4667535\n",
       "NAS_DELAY                4667535\n",
       "SECURITY_DELAY           4667535\n",
       "LATE_AIRCRAFT_DELAY      4667535\n",
       "FIRST_DEP_TIME           5601442\n",
       "TOTAL_ADD_GTIME          5601442\n",
       "LONGEST_ADD_GTIME        5601442\n",
       "dtype: int64"
      ]
     },
     "execution_count": 13,
     "metadata": {},
     "output_type": "execute_result"
    }
   ],
   "source": [
    "df.isna().sum()"
   ]
  },
  {
   "cell_type": "markdown",
   "metadata": {},
   "source": [
    "## Lib"
   ]
  },
  {
   "cell_type": "code",
   "execution_count": 26,
   "metadata": {},
   "outputs": [],
   "source": [
    "def filter_by_type(df, column_name, dtype):\n",
    "    return df[df[column_name].apply(lambda x: isinstance(x, dtype))]\n",
    "\n",
    "def get_type(value):\n",
    "    return type(value).__name__\n"
   ]
  },
  {
   "cell_type": "markdown",
   "metadata": {},
   "source": [
    "## Columns"
   ]
  },
  {
   "cell_type": "markdown",
   "metadata": {},
   "source": [
    "### CRS_DEP_TIME"
   ]
  },
  {
   "cell_type": "code",
   "execution_count": 16,
   "metadata": {},
   "outputs": [
    {
     "data": {
      "text/plain": [
       "dtype('float64')"
      ]
     },
     "execution_count": 16,
     "metadata": {},
     "output_type": "execute_result"
    }
   ],
   "source": [
    "df['CRS_DEP_TIME'].dtype"
   ]
  },
  {
   "cell_type": "code",
   "execution_count": 17,
   "metadata": {},
   "outputs": [
    {
     "data": {
      "text/plain": [
       "1334"
      ]
     },
     "execution_count": 17,
     "metadata": {},
     "output_type": "execute_result"
    }
   ],
   "source": [
    "df['CRS_DEP_TIME'].nunique()"
   ]
  },
  {
   "cell_type": "markdown",
   "metadata": {},
   "source": [
    "### ! CRS_DEP_TIME float to int"
   ]
  },
  {
   "cell_type": "code",
   "execution_count": 18,
   "metadata": {},
   "outputs": [],
   "source": [
    "df['CRS_DEP_TIME'] = df['CRS_DEP_TIME'].astype(int)\n",
    "\n"
   ]
  },
  {
   "cell_type": "code",
   "execution_count": 19,
   "metadata": {},
   "outputs": [
    {
     "data": {
      "text/plain": [
       "dtype('int64')"
      ]
     },
     "execution_count": 19,
     "metadata": {},
     "output_type": "execute_result"
    }
   ],
   "source": [
    "df['CRS_DEP_TIME'].dtype"
   ]
  },
  {
   "cell_type": "code",
   "execution_count": 20,
   "metadata": {},
   "outputs": [
    {
     "data": {
      "text/plain": [
       "2359"
      ]
     },
     "execution_count": 20,
     "metadata": {},
     "output_type": "execute_result"
    }
   ],
   "source": [
    "df['CRS_DEP_TIME'].max()"
   ]
  },
  {
   "cell_type": "code",
   "execution_count": 21,
   "metadata": {},
   "outputs": [
    {
     "data": {
      "text/plain": [
       "1"
      ]
     },
     "execution_count": 21,
     "metadata": {},
     "output_type": "execute_result"
    }
   ],
   "source": [
    "df['CRS_DEP_TIME'].min()"
   ]
  },
  {
   "cell_type": "markdown",
   "metadata": {},
   "source": [
    "### DEP_TIME"
   ]
  },
  {
   "cell_type": "code",
   "execution_count": 22,
   "metadata": {},
   "outputs": [
    {
     "data": {
      "text/plain": [
       "dtype('O')"
      ]
     },
     "execution_count": 22,
     "metadata": {},
     "output_type": "execute_result"
    }
   ],
   "source": [
    "df['DEP_TIME'].dtype"
   ]
  },
  {
   "cell_type": "code",
   "execution_count": 23,
   "metadata": {},
   "outputs": [
    {
     "data": {
      "text/plain": [
       "array(['float', 'str'], dtype=object)"
      ]
     },
     "execution_count": 23,
     "metadata": {},
     "output_type": "execute_result"
    }
   ],
   "source": [
    "def get_type(value):\n",
    "    return type(value).__name__\n",
    "\n",
    "unique_types = df['DEP_TIME'].apply(get_type).unique()\n",
    "unique_types"
   ]
  },
  {
   "cell_type": "code",
   "execution_count": 24,
   "metadata": {},
   "outputs": [
    {
     "data": {
      "image/png": "[encoded data removed]",
      "text/plain": [
       "<Figure size 800x600 with 1 Axes>"
      ]
     },
     "metadata": {},
     "output_type": "display_data"
    }
   ],
   "source": [
    "def get_type(value):\n",
    "    return type(value).__name__\n",
    "\n",
    "type_series = df['DEP_TIME'].apply(get_type)\n",
    "\n",
    "type_proportions = type_series.value_counts(normalize=True)\n",
    "\n",
    "plt.figure(figsize=(8, 6))\n",
    "type_proportions.plot.pie(autopct='%1.1f%%', startangle=140)\n",
    "plt.title('Proportion of Data Types in DEP_TIME')\n",
    "plt.ylabel('')\n",
    "plt.show()\n",
    "\n",
    "del type_series\n"
   ]
  },
  {
   "cell_type": "code",
   "execution_count": 28,
   "metadata": {},
   "outputs": [
    {
     "name": "stdout",
     "output_type": "stream",
     "text": [
      "MAX: 2400.0\n",
      "MIN: 1.0\n"
     ]
    }
   ],
   "source": [
    "float_only = filter_by_type(df, 'DEP_TIME', float)\n",
    "\n",
    "max_ = float_only['DEP_TIME'].max()\n",
    "min_ = float_only['DEP_TIME'].min()\n",
    "print(f\"MAX: {max_}\")        \n",
    "print(f\"MIN: {min_}\")\n",
    "\n",
    "del float_only\n"
   ]
  },
  {
   "cell_type": "code",
   "execution_count": 29,
   "metadata": {},
   "outputs": [
    {
     "name": "stdout",
     "output_type": "stream",
     "text": [
      "MAX: 2400\n",
      "MIN: 1\n"
     ]
    }
   ],
   "source": [
    "\n",
    "str_only = filter_by_type(df, 'DEP_TIME', str)\n",
    "\n",
    "str_to_int = str_only['DEP_TIME'].astype(float).astype(int)\n",
    "\n",
    "max_ = str_to_int.max()\n",
    "min_ = str_to_int.min()\n",
    "print(f\"MAX: {max_}\")\n",
    "print(f\"MIN: {min_}\")\n",
    "\n",
    "del str_to_int\n",
    "del str_only"
   ]
  },
  {
   "cell_type": "markdown",
   "metadata": {},
   "source": [
    "### !DEP_TIME str and float to int"
   ]
  },
  {
   "cell_type": "code",
   "execution_count": 30,
   "metadata": {},
   "outputs": [],
   "source": [
    "df['DEP_TIME'] = df['DEP_TIME'].astype(float)\n",
    "### ----->"
   ]
  },
  {
   "cell_type": "code",
   "execution_count": 31,
   "metadata": {},
   "outputs": [
    {
     "data": {
      "text/plain": [
       "2400.0"
      ]
     },
     "execution_count": 31,
     "metadata": {},
     "output_type": "execute_result"
    }
   ],
   "source": [
    "df['DEP_TIME'].max()"
   ]
  },
  {
   "cell_type": "code",
   "execution_count": 32,
   "metadata": {},
   "outputs": [
    {
     "data": {
      "text/plain": [
       "1.0"
      ]
     },
     "execution_count": 32,
     "metadata": {},
     "output_type": "execute_result"
    }
   ],
   "source": [
    "df['DEP_TIME'].min()"
   ]
  },
  {
   "cell_type": "code",
   "execution_count": 33,
   "metadata": {},
   "outputs": [
    {
     "data": {
      "text/plain": [
       "63538"
      ]
     },
     "execution_count": 33,
     "metadata": {},
     "output_type": "execute_result"
    }
   ],
   "source": [
    "df['DEP_TIME'].isna().sum()\n"
   ]
  },
  {
   "cell_type": "code",
   "execution_count": 34,
   "metadata": {},
   "outputs": [
    {
     "data": {
      "text/plain": [
       "dtype('float64')"
      ]
     },
     "execution_count": 34,
     "metadata": {},
     "output_type": "execute_result"
    }
   ],
   "source": [
    "df['DEP_TIME'].dtype"
   ]
  },
  {
   "cell_type": "code",
   "execution_count": 35,
   "metadata": {},
   "outputs": [
    {
     "data": {
      "text/plain": [
       "Int64Dtype()"
      ]
     },
     "execution_count": 35,
     "metadata": {},
     "output_type": "execute_result"
    }
   ],
   "source": [
    "df['DEP_TIME'] = df['DEP_TIME'].astype('Int64')\n",
    "df['DEP_TIME'].dtype"
   ]
  },
  {
   "cell_type": "code",
   "execution_count": 36,
   "metadata": {},
   "outputs": [
    {
     "data": {
      "text/plain": [
       "63538"
      ]
     },
     "execution_count": 36,
     "metadata": {},
     "output_type": "execute_result"
    }
   ],
   "source": [
    "df['DEP_TIME'].isna().sum()\n",
    "\n"
   ]
  },
  {
   "cell_type": "code",
   "execution_count": 37,
   "metadata": {},
   "outputs": [
    {
     "data": {
      "text/plain": [
       "0    1057\n",
       "1    1056\n",
       "2    1055\n",
       "3    1102\n",
       "4    1240\n",
       "5    1107\n",
       "6    1059\n",
       "7    1055\n",
       "8    1058\n",
       "9    1056\n",
       "Name: DEP_TIME, dtype: Int64"
      ]
     },
     "execution_count": 37,
     "metadata": {},
     "output_type": "execute_result"
    }
   ],
   "source": [
    "df['DEP_TIME'].head(10)"
   ]
  },
  {
   "cell_type": "code",
   "execution_count": 38,
   "metadata": {},
   "outputs": [
    {
     "data": {
      "text/plain": [
       "2400"
      ]
     },
     "execution_count": 38,
     "metadata": {},
     "output_type": "execute_result"
    }
   ],
   "source": [
    "df['DEP_TIME'].max()"
   ]
  },
  {
   "cell_type": "code",
   "execution_count": 39,
   "metadata": {},
   "outputs": [
    {
     "data": {
      "text/plain": [
       "1"
      ]
     },
     "execution_count": 39,
     "metadata": {},
     "output_type": "execute_result"
    }
   ],
   "source": [
    "df['DEP_TIME'].min()"
   ]
  },
  {
   "cell_type": "markdown",
   "metadata": {},
   "source": [
    "### DEP_DELAY\n"
   ]
  },
  {
   "cell_type": "code",
   "execution_count": 40,
   "metadata": {},
   "outputs": [
    {
     "data": {
      "text/plain": [
       "(63538,)"
      ]
     },
     "execution_count": 40,
     "metadata": {},
     "output_type": "execute_result"
    }
   ],
   "source": [
    "df['DEP_DELAY'].isna().sum(),"
   ]
  },
  {
   "cell_type": "code",
   "execution_count": 41,
   "metadata": {},
   "outputs": [
    {
     "data": {
      "text/plain": [
       "dtype('float64')"
      ]
     },
     "execution_count": 41,
     "metadata": {},
     "output_type": "execute_result"
    }
   ],
   "source": [
    "df['DEP_DELAY'].dtypes"
   ]
  },
  {
   "cell_type": "code",
   "execution_count": 42,
   "metadata": {},
   "outputs": [
    {
     "data": {
      "text/plain": [
       "0     -3.0\n",
       "1     -4.0\n",
       "2     -5.0\n",
       "3      2.0\n",
       "4    100.0\n",
       "5      7.0\n",
       "6     -1.0\n",
       "7     -5.0\n",
       "8     -2.0\n",
       "9     -4.0\n",
       "Name: DEP_DELAY, dtype: float64"
      ]
     },
     "execution_count": 42,
     "metadata": {},
     "output_type": "execute_result"
    }
   ],
   "source": [
    "df['DEP_DELAY'].head(10)"
   ]
  },
  {
   "cell_type": "code",
   "execution_count": 47,
   "metadata": {},
   "outputs": [
    {
     "name": "stdout",
     "output_type": "stream",
     "text": [
      "2149.0\n",
      "-204.0\n"
     ]
    }
   ],
   "source": [
    "print(df['DEP_DELAY'].max())    \n",
    "print(df['DEP_DELAY'].min())    \n"
   ]
  },
  {
   "cell_type": "markdown",
   "metadata": {},
   "source": [
    "### ! DEP_DELAY float to int"
   ]
  },
  {
   "cell_type": "code",
   "execution_count": 50,
   "metadata": {},
   "outputs": [],
   "source": [
    "df['DEP_DELAY'] = df['DEP_DELAY'].astype('Int64')"
   ]
  },
  {
   "cell_type": "code",
   "execution_count": 51,
   "metadata": {},
   "outputs": [
    {
     "name": "stdout",
     "output_type": "stream",
     "text": [
      "2149\n",
      "-204\n"
     ]
    }
   ],
   "source": [
    "print(df['DEP_DELAY'].max())    \n",
    "print(df['DEP_DELAY'].min())    "
   ]
  },
  {
   "cell_type": "markdown",
   "metadata": {},
   "source": [
    "### ! Drop DEP_DELAY_NEW, ARR_DELAY_NEW, DEP_DEL15, ARR_DEL15'"
   ]
  },
  {
   "cell_type": "code",
   "execution_count": 54,
   "metadata": {},
   "outputs": [
    {
     "name": "stdout",
     "output_type": "stream",
     "text": [
      "2149.0\n",
      "0.0\n"
     ]
    }
   ],
   "source": [
    "print(df['DEP_DELAY_NEW'].max())    \n",
    "print(df['DEP_DELAY_NEW'].min())    "
   ]
  },
  {
   "cell_type": "code",
   "execution_count": 57,
   "metadata": {},
   "outputs": [],
   "source": [
    "columns_to_drop = ['DEP_DELAY_NEW', 'ARR_DELAY_NEW', 'DEP_DEL15', 'ARR_DEL15']\n",
    "df.drop(columns=[col for col in columns_to_drop if col in df.columns], inplace=True)\n"
   ]
  },
  {
   "cell_type": "markdown",
   "metadata": {},
   "source": [
    "### ! Drop few nan"
   ]
  },
  {
   "cell_type": "code",
   "execution_count": 64,
   "metadata": {},
   "outputs": [],
   "source": [
    "columns_to_check = ['CRS_ARR_TIME', 'ARR_TIME_BLK', 'CANCELLED', 'DIVERTED', 'CRS_ELAPSED_TIME', 'FLIGHTS', 'DISTANCE', 'DISTANCE_GROUP']\n",
    "df.dropna(subset=columns_to_check, inplace=True)"
   ]
  },
  {
   "cell_type": "markdown",
   "metadata": {},
   "source": [
    "### DEP_DELAY_GROUP"
   ]
  },
  {
   "cell_type": "code",
   "execution_count": 58,
   "metadata": {},
   "outputs": [
    {
     "data": {
      "text/plain": [
       "0         -1.0\n",
       "1         -1.0\n",
       "2         -1.0\n",
       "3          0.0\n",
       "4          6.0\n",
       "          ... \n",
       "5635973   -1.0\n",
       "5635974    0.0\n",
       "5635975   -1.0\n",
       "5635976   -1.0\n",
       "5635977   -1.0\n",
       "Name: DEP_DELAY_GROUP, Length: 5635975, dtype: float64"
      ]
     },
     "execution_count": 58,
     "metadata": {},
     "output_type": "execute_result"
    }
   ],
   "source": [
    "df['DEP_DELAY_GROUP']\n"
   ]
  },
  {
   "cell_type": "code",
   "execution_count": 59,
   "metadata": {},
   "outputs": [
    {
     "name": "stdout",
     "output_type": "stream",
     "text": [
      "12.0\n",
      "-2.0\n"
     ]
    }
   ],
   "source": [
    "print(df['DEP_DELAY_GROUP'].max())    \n",
    "print(df['DEP_DELAY_GROUP'].min())    \n"
   ]
  },
  {
   "cell_type": "markdown",
   "metadata": {},
   "source": [
    "### ! DEP_DELAY_GROUP float to int"
   ]
  },
  {
   "cell_type": "code",
   "execution_count": 60,
   "metadata": {},
   "outputs": [],
   "source": [
    "df['DEP_DELAY_GROUP'] = df['DEP_DELAY_GROUP'].astype('Int64')"
   ]
  },
  {
   "cell_type": "code",
   "execution_count": 61,
   "metadata": {},
   "outputs": [
    {
     "name": "stdout",
     "output_type": "stream",
     "text": [
      "12\n",
      "-2\n"
     ]
    }
   ],
   "source": [
    "print(df['DEP_DELAY_GROUP'].max())    \n",
    "print(df['DEP_DELAY_GROUP'].min())    \n"
   ]
  },
  {
   "cell_type": "markdown",
   "metadata": {},
   "source": [
    "### DEP_TIME_BLK"
   ]
  },
  {
   "cell_type": "code",
   "execution_count": 69,
   "metadata": {},
   "outputs": [
    {
     "data": {
      "text/plain": [
       "dtype('O')"
      ]
     },
     "execution_count": 69,
     "metadata": {},
     "output_type": "execute_result"
    }
   ],
   "source": [
    "df['DEP_TIME_BLK'].dtype"
   ]
  },
  {
   "cell_type": "code",
   "execution_count": 72,
   "metadata": {},
   "outputs": [
    {
     "data": {
      "text/plain": [
       "array(['str'], dtype=object)"
      ]
     },
     "execution_count": 72,
     "metadata": {},
     "output_type": "execute_result"
    }
   ],
   "source": [
    "type_series = df['DEP_TIME_BLK'].apply(get_type)\n",
    "type_series.unique()\n"
   ]
  },
  {
   "cell_type": "code",
   "execution_count": 67,
   "metadata": {},
   "outputs": [
    {
     "data": {
      "text/plain": [
       "19"
      ]
     },
     "execution_count": 67,
     "metadata": {},
     "output_type": "execute_result"
    }
   ],
   "source": [
    "df['DEP_TIME_BLK'].nunique()\n"
   ]
  },
  {
   "cell_type": "code",
   "execution_count": 68,
   "metadata": {},
   "outputs": [
    {
     "data": {
      "text/plain": [
       "array(['1100-1159', '1500-1559', '0700-0759', '0600-0659', '1800-1859',\n",
       "       '1400-1459', '1700-1759', '1600-1659', '1300-1359', '1000-1059',\n",
       "       '2000-2059', '0900-0959', '1900-1959', '1200-1259', '2200-2259',\n",
       "       '0800-0859', '2300-2359', '2100-2159', '0001-0559'], dtype=object)"
      ]
     },
     "execution_count": 68,
     "metadata": {},
     "output_type": "execute_result"
    }
   ],
   "source": [
    "df['DEP_TIME_BLK'].unique()"
   ]
  },
  {
   "cell_type": "markdown",
   "metadata": {},
   "source": [
    "### ! DEP_TIME_BLK drop column"
   ]
  },
  {
   "cell_type": "code",
   "execution_count": 274,
   "metadata": {},
   "outputs": [],
   "source": [
    "\n",
    "if 'DEP_TIME_BLK' in df.columns:\n",
    "    df.drop(columns=['DEP_TIME_BLK'], inplace=True)"
   ]
  },
  {
   "cell_type": "markdown",
   "metadata": {},
   "source": [
    "### TAXI_OUT"
   ]
  },
  {
   "cell_type": "code",
   "execution_count": 75,
   "metadata": {},
   "outputs": [
    {
     "data": {
      "text/plain": [
       "array(['float', 'str'], dtype=object)"
      ]
     },
     "execution_count": 75,
     "metadata": {},
     "output_type": "execute_result"
    }
   ],
   "source": [
    "type_series = df['TAXI_OUT'].apply(get_type)\n",
    "type_series.unique()"
   ]
  },
  {
   "cell_type": "code",
   "execution_count": 76,
   "metadata": {},
   "outputs": [
    {
     "data": {
      "text/plain": [
       "323"
      ]
     },
     "execution_count": 76,
     "metadata": {},
     "output_type": "execute_result"
    }
   ],
   "source": [
    "df['TAXI_OUT'].nunique()"
   ]
  },
  {
   "cell_type": "code",
   "execution_count": 78,
   "metadata": {},
   "outputs": [
    {
     "data": {
      "text/plain": [
       "array([15.0, 14.0, 21.0, 13.0, 20.0, 11.0, 12.0, 18.0, 24.0, 23.0, 17.0,\n",
       "       9.0, 16.0, 42.0, 19.0, 34.0, 10.0, 28.0, 33.0, 22.0, 27.0, 30.0,\n",
       "       nan, 25.0, 32.0, 40.0, 29.0, 45.0, 36.0, 46.0, 39.0, 26.0, 37.0,\n",
       "       8.0, 7.0, 31.0, 38.0, 41.0, 35.0, 58.0, 61.0, 44.0, 43.0, 75.0,\n",
       "       59.0, 48.0, 47.0, 86.0, 65.0, 53.0, 55.0, 49.0, 60.0, 66.0, 97.0,\n",
       "       57.0, 52.0, 105.0, 84.0, 51.0, 71.0, 73.0, 56.0, 79.0, 62.0, 67.0,\n",
       "       50.0, 54.0, 121.0, 6.0, 70.0, 63.0, 83.0, 68.0, 81.0, 64.0, 72.0,\n",
       "       139.0, 69.0, 89.0, 5.0, 78.0, 74.0, 77.0, 87.0, 76.0, 98.0, 106.0,\n",
       "       128.0, 109.0, 111.0, 118.0, 82.0, 95.0, 93.0, 94.0, 88.0, 91.0,\n",
       "       124.0, 85.0, 80.0, 99.0, 102.0, 90.0, 96.0, 104.0, 1.0, 131.0,\n",
       "       132.0, 107.0, 103.0, 101.0, 112.0, 137.0, 4.0, 110.0, 126.0, 158.0,\n",
       "       3.0, 2.0, 135.0, 92.0, 141.0, 130.0, 120.0, 114.0, 119.0, 129.0,\n",
       "       122.0, 108.0, 156.0, 125.0, 140.0, 115.0, 100.0, 138.0, 113.0,\n",
       "       133.0, 134.0, 117.0, 147.0, 123.0, 146.0, 143.0, 148.0, 127.0,\n",
       "       136.0, 116.0, 157.0, 151.0, 144.0, 150.0, 145.0, 155.0, 142.0,\n",
       "       161.0, 159.0, 149.0, 160.0, 154.0, 166.0, 153.0, 185.0, 152.0,\n",
       "       162.0, 168.0, 172.0, '12.00', '23.00', '11.00', '21.00', '10.00',\n",
       "       '19.00', '16.00', '9.00', '15.00', '22.00', '24.00', '13.00',\n",
       "       '20.00', '18.00', '26.00', '14.00', '45.00', '33.00', '41.00',\n",
       "       '7.00', '28.00', '6.00', '27.00', '25.00', '42.00', '30.00',\n",
       "       '80.00', '44.00', '17.00', '31.00', '38.00', '40.00', '52.00',\n",
       "       '8.00', '36.00', '39.00', '35.00', '29.00', '106.00', '74.00',\n",
       "       '46.00', '32.00', '107.00', '62.00', '53.00', '5.00', '34.00',\n",
       "       '48.00', '55.00', '67.00', '47.00', '50.00', '37.00', '43.00',\n",
       "       '54.00', '60.00', '64.00', '65.00', '85.00', '66.00', '56.00',\n",
       "       '58.00', '79.00', '94.00', '57.00', '59.00', '87.00', '102.00',\n",
       "       '49.00', '63.00', '61.00', '69.00', '124.00', '96.00', '83.00',\n",
       "       '51.00', '123.00', '81.00', '76.00', '68.00', '75.00', '71.00',\n",
       "       '73.00', '70.00', '120.00', '3.00', '88.00', '108.00', '72.00',\n",
       "       '91.00', '4.00', '78.00', '112.00', '117.00', '95.00', '92.00',\n",
       "       '1.00', '84.00', '110.00', '86.00', '97.00', '98.00', '82.00',\n",
       "       '135.00', '89.00', '114.00', '100.00', '90.00', '128.00', '109.00',\n",
       "       '115.00', '138.00', '2.00', '122.00', '127.00', '104.00', '121.00',\n",
       "       '133.00', '93.00', '103.00', '77.00', '99.00', '118.00', '125.00',\n",
       "       '113.00', '111.00', '129.00', '116.00', '119.00', '145.00',\n",
       "       '152.00', '105.00', '130.00', '147.00', '101.00', '148.00',\n",
       "       '149.00', '158.00', '131.00', '126.00', '137.00', '151.00',\n",
       "       '132.00', '134.00', '157.00', 183.0, 163.0, 167.0, 186.0, 170.0,\n",
       "       174.0, 165.0, 169.0, 164.0, 176.0, 179.0, 178.0], dtype=object)"
      ]
     },
     "execution_count": 78,
     "metadata": {},
     "output_type": "execute_result"
    }
   ],
   "source": [
    "df['TAXI_OUT'].unique()"
   ]
  },
  {
   "cell_type": "code",
   "execution_count": 79,
   "metadata": {},
   "outputs": [
    {
     "name": "stdout",
     "output_type": "stream",
     "text": [
      "MAX: 186.0\n",
      "MIN: 1.0\n"
     ]
    }
   ],
   "source": [
    "float_only = filter_by_type(df, 'TAXI_OUT', float)\n",
    "\n",
    "max_ = float_only['TAXI_OUT'].max()\n",
    "min_ = float_only['TAXI_OUT'].min()\n",
    "print(f\"MAX: {max_}\")        \n",
    "print(f\"MIN: {min_}\")\n",
    "\n",
    "del float_only\n"
   ]
  },
  {
   "cell_type": "code",
   "execution_count": 80,
   "metadata": {},
   "outputs": [
    {
     "name": "stdout",
     "output_type": "stream",
     "text": [
      "MAX: 158\n",
      "MIN: 1\n"
     ]
    }
   ],
   "source": [
    "str_only = filter_by_type(df, 'TAXI_OUT', str)\n",
    "\n",
    "str_to_int = str_only['TAXI_OUT'].astype(float).astype(int)\n",
    "\n",
    "max_ = str_to_int.max()\n",
    "min_ = str_to_int.min()\n",
    "print(f\"MAX: {max_}\")\n",
    "print(f\"MIN: {min_}\")\n",
    "\n",
    "del str_to_int\n",
    "del str_only"
   ]
  },
  {
   "cell_type": "markdown",
   "metadata": {},
   "source": [
    "### ! TAXI_OUT str and float to int"
   ]
  },
  {
   "cell_type": "code",
   "execution_count": 86,
   "metadata": {},
   "outputs": [
    {
     "data": {
      "text/plain": [
       "Int64Dtype()"
      ]
     },
     "execution_count": 86,
     "metadata": {},
     "output_type": "execute_result"
    }
   ],
   "source": [
    "df['TAXI_OUT'] = df['TAXI_OUT'].astype(float)\n",
    "df['TAXI_OUT'] = df['TAXI_OUT'].astype('Int64')\n",
    "df['TAXI_OUT'].dtype\n"
   ]
  },
  {
   "cell_type": "code",
   "execution_count": 88,
   "metadata": {},
   "outputs": [
    {
     "name": "stdout",
     "output_type": "stream",
     "text": [
      "MAX: 186\n",
      "MAX: 1\n"
     ]
    }
   ],
   "source": [
    "print(f\"MAX: {df['TAXI_OUT'].max()}\")\n",
    "print(f\"MAX: {df['TAXI_OUT'].min()}\")\n"
   ]
  },
  {
   "cell_type": "markdown",
   "metadata": {},
   "source": [
    "### WHEELS_OFF"
   ]
  },
  {
   "cell_type": "code",
   "execution_count": 90,
   "metadata": {},
   "outputs": [
    {
     "data": {
      "text/plain": [
       "1440"
      ]
     },
     "execution_count": 90,
     "metadata": {},
     "output_type": "execute_result"
    }
   ],
   "source": [
    "df['WHEELS_OFF'].nunique()\n"
   ]
  },
  {
   "cell_type": "code",
   "execution_count": 91,
   "metadata": {},
   "outputs": [
    {
     "data": {
      "text/plain": [
       "dtype('float64')"
      ]
     },
     "execution_count": 91,
     "metadata": {},
     "output_type": "execute_result"
    }
   ],
   "source": [
    "df['WHEELS_OFF'].dtype\n"
   ]
  },
  {
   "cell_type": "code",
   "execution_count": 93,
   "metadata": {},
   "outputs": [
    {
     "data": {
      "text/plain": [
       "0          1112.0\n",
       "1          1110.0\n",
       "2          1116.0\n",
       "3          1115.0\n",
       "4          1300.0\n",
       "            ...  \n",
       "5635973     758.0\n",
       "5635974    1338.0\n",
       "5635975     708.0\n",
       "5635976    1229.0\n",
       "5635977     807.0\n",
       "Name: WHEELS_OFF, Length: 5635967, dtype: float64"
      ]
     },
     "execution_count": 93,
     "metadata": {},
     "output_type": "execute_result"
    }
   ],
   "source": [
    "df['WHEELS_OFF']\n"
   ]
  },
  {
   "cell_type": "markdown",
   "metadata": {},
   "source": [
    "### ! WHEELS_OFF float to int"
   ]
  },
  {
   "cell_type": "code",
   "execution_count": 95,
   "metadata": {},
   "outputs": [
    {
     "data": {
      "text/plain": [
       "Int64Dtype()"
      ]
     },
     "execution_count": 95,
     "metadata": {},
     "output_type": "execute_result"
    }
   ],
   "source": [
    "df['WHEELS_OFF'] = df['WHEELS_OFF'].astype(float)\n",
    "df['WHEELS_OFF'] = df['WHEELS_OFF'].astype('Int64')\n",
    "df['WHEELS_OFF'].dtype\n"
   ]
  },
  {
   "cell_type": "markdown",
   "metadata": {},
   "source": [
    "### WHEELS_ON"
   ]
  },
  {
   "cell_type": "code",
   "execution_count": 96,
   "metadata": {},
   "outputs": [
    {
     "data": {
      "text/plain": [
       "1440"
      ]
     },
     "execution_count": 96,
     "metadata": {},
     "output_type": "execute_result"
    }
   ],
   "source": [
    "df['WHEELS_ON'].nunique()\n"
   ]
  },
  {
   "cell_type": "code",
   "execution_count": 98,
   "metadata": {},
   "outputs": [
    {
     "data": {
      "text/plain": [
       "0          1424.0\n",
       "1          1416.0\n",
       "2          1431.0\n",
       "3          1424.0\n",
       "4          1617.0\n",
       "            ...  \n",
       "5635973     807.0\n",
       "5635974    1351.0\n",
       "5635975    1051.0\n",
       "5635976    1227.0\n",
       "5635977     806.0\n",
       "Name: WHEELS_ON, Length: 5635967, dtype: float64"
      ]
     },
     "execution_count": 98,
     "metadata": {},
     "output_type": "execute_result"
    }
   ],
   "source": [
    "df['WHEELS_ON']\n",
    "\n"
   ]
  },
  {
   "cell_type": "code",
   "execution_count": 99,
   "metadata": {},
   "outputs": [
    {
     "data": {
      "text/plain": [
       "dtype('float64')"
      ]
     },
     "execution_count": 99,
     "metadata": {},
     "output_type": "execute_result"
    }
   ],
   "source": [
    "df['WHEELS_ON'].dtype\n"
   ]
  },
  {
   "cell_type": "markdown",
   "metadata": {},
   "source": [
    "### ! WHEELS_ON float to int\n"
   ]
  },
  {
   "cell_type": "code",
   "execution_count": 100,
   "metadata": {},
   "outputs": [
    {
     "data": {
      "text/plain": [
       "Int64Dtype()"
      ]
     },
     "execution_count": 100,
     "metadata": {},
     "output_type": "execute_result"
    }
   ],
   "source": [
    "df['WHEELS_ON'] = df['WHEELS_ON'].astype(float)\n",
    "df['WHEELS_ON'] = df['WHEELS_ON'].astype('Int64')\n",
    "df['WHEELS_ON'].dtype\n"
   ]
  },
  {
   "cell_type": "markdown",
   "metadata": {},
   "source": [
    "### WHEELS_OFF and WHEELS_ON "
   ]
  },
  {
   "cell_type": "code",
   "execution_count": 103,
   "metadata": {},
   "outputs": [
    {
     "data": {
      "text/html": [
       "<div>\n",
       "<style scoped>\n",
       "    .dataframe tbody tr th:only-of-type {\n",
       "        vertical-align: middle;\n",
       "    }\n",
       "\n",
       "    .dataframe tbody tr th {\n",
       "        vertical-align: top;\n",
       "    }\n",
       "\n",
       "    .dataframe thead th {\n",
       "        text-align: right;\n",
       "    }\n",
       "</style>\n",
       "<table border=\"1\" class=\"dataframe\">\n",
       "  <thead>\n",
       "    <tr style=\"text-align: right;\">\n",
       "      <th></th>\n",
       "      <th>WHEELS_ON</th>\n",
       "      <th>WHEELS_OFF</th>\n",
       "    </tr>\n",
       "  </thead>\n",
       "  <tbody>\n",
       "    <tr>\n",
       "      <th>0</th>\n",
       "      <td>1424</td>\n",
       "      <td>1112</td>\n",
       "    </tr>\n",
       "    <tr>\n",
       "      <th>1</th>\n",
       "      <td>1416</td>\n",
       "      <td>1110</td>\n",
       "    </tr>\n",
       "    <tr>\n",
       "      <th>2</th>\n",
       "      <td>1431</td>\n",
       "      <td>1116</td>\n",
       "    </tr>\n",
       "    <tr>\n",
       "      <th>3</th>\n",
       "      <td>1424</td>\n",
       "      <td>1115</td>\n",
       "    </tr>\n",
       "    <tr>\n",
       "      <th>4</th>\n",
       "      <td>1617</td>\n",
       "      <td>1300</td>\n",
       "    </tr>\n",
       "    <tr>\n",
       "      <th>...</th>\n",
       "      <td>...</td>\n",
       "      <td>...</td>\n",
       "    </tr>\n",
       "    <tr>\n",
       "      <th>5635410</th>\n",
       "      <td>2224</td>\n",
       "      <td>1857</td>\n",
       "    </tr>\n",
       "    <tr>\n",
       "      <th>5635653</th>\n",
       "      <td>1909</td>\n",
       "      <td>1403</td>\n",
       "    </tr>\n",
       "    <tr>\n",
       "      <th>5635754</th>\n",
       "      <td>1521</td>\n",
       "      <td>752</td>\n",
       "    </tr>\n",
       "    <tr>\n",
       "      <th>5635797</th>\n",
       "      <td>1743</td>\n",
       "      <td>1257</td>\n",
       "    </tr>\n",
       "    <tr>\n",
       "      <th>5635975</th>\n",
       "      <td>1051</td>\n",
       "      <td>708</td>\n",
       "    </tr>\n",
       "  </tbody>\n",
       "</table>\n",
       "<p>531779 rows × 2 columns</p>\n",
       "</div>"
      ],
      "text/plain": [
       "         WHEELS_ON  WHEELS_OFF\n",
       "0             1424        1112\n",
       "1             1416        1110\n",
       "2             1431        1116\n",
       "3             1424        1115\n",
       "4             1617        1300\n",
       "...            ...         ...\n",
       "5635410       2224        1857\n",
       "5635653       1909        1403\n",
       "5635754       1521         752\n",
       "5635797       1743        1257\n",
       "5635975       1051         708\n",
       "\n",
       "[531779 rows x 2 columns]"
      ]
     },
     "execution_count": 103,
     "metadata": {},
     "output_type": "execute_result"
    }
   ],
   "source": [
    "df[['WHEELS_ON', 'WHEELS_OFF']].drop_duplicates()"
   ]
  },
  {
   "cell_type": "markdown",
   "metadata": {},
   "source": [
    "### TAXI_IN\n"
   ]
  },
  {
   "cell_type": "code",
   "execution_count": 104,
   "metadata": {},
   "outputs": [
    {
     "data": {
      "text/plain": [
       "dtype('float64')"
      ]
     },
     "execution_count": 104,
     "metadata": {},
     "output_type": "execute_result"
    }
   ],
   "source": [
    "df['TAXI_IN'].dtype\n",
    "\n"
   ]
  },
  {
   "cell_type": "code",
   "execution_count": 106,
   "metadata": {},
   "outputs": [
    {
     "data": {
      "text/plain": [
       "193"
      ]
     },
     "execution_count": 106,
     "metadata": {},
     "output_type": "execute_result"
    }
   ],
   "source": [
    "df['TAXI_IN'].nunique()\n"
   ]
  },
  {
   "cell_type": "code",
   "execution_count": 107,
   "metadata": {},
   "outputs": [
    {
     "data": {
      "text/plain": [
       "array([  8.,  10.,  14.,   9.,  12.,  11.,   7.,   6.,   4.,  13.,  16.,\n",
       "         5.,  15.,  18.,  17.,  nan,  41.,  19.,  26.,  35.,   3.,  22.,\n",
       "         2.,  34.,  20.,  43.,  23.,  30.,  28.,  68.,  61.,  42.,  25.,\n",
       "        27.,  49.,  74.,  21.,  38.,  37.,  65.,  36.,  33.,  31.,  45.,\n",
       "        57.,  24.,  32.,  47.,  59.,  46.,  62.,  44.,  29., 101.,  40.,\n",
       "        54.,  48.,  52.,  51.,  77.,  56.,  67.,  50.,  78.,  76.,   1.,\n",
       "        63.,  39.,  81.,  58., 104.,  66.,  53.,  79.,  55.,  86.,  75.,\n",
       "        72.,  70.,  96.,  60.,  95.,  87.,  71.,  64., 123.,  83.,  99.,\n",
       "        82., 121., 127.,  73.,  80.,  69.,  91.,  94.,  89.,  84.,  92.,\n",
       "       100.,  85., 107., 147., 111., 102., 142., 109., 114., 120., 155.,\n",
       "       117.,  97.,  93.,  98., 110., 103., 138., 124., 108., 105., 118.,\n",
       "       133., 134., 115., 116.,  88., 131.,  90., 157., 113., 126., 112.,\n",
       "       119., 130., 122., 132., 137., 167., 158., 106., 125., 145., 178.,\n",
       "       183., 152., 129., 136., 176., 247., 128., 165., 169., 181., 173.,\n",
       "       140., 135., 146., 163., 168., 162., 175., 159., 144., 143., 153.,\n",
       "       141., 149., 200., 186., 171., 160., 161., 177., 213., 216., 184.,\n",
       "       209., 205., 139., 154., 151., 150., 250., 202., 196., 194., 166.,\n",
       "       148., 187., 189., 182., 192., 228., 226.])"
      ]
     },
     "execution_count": 107,
     "metadata": {},
     "output_type": "execute_result"
    }
   ],
   "source": [
    "df['TAXI_IN'].unique()\n"
   ]
  },
  {
   "cell_type": "markdown",
   "metadata": {},
   "source": [
    "### ! TAXI_IN float to int\n"
   ]
  },
  {
   "cell_type": "code",
   "execution_count": 109,
   "metadata": {},
   "outputs": [
    {
     "data": {
      "text/plain": [
       "Int64Dtype()"
      ]
     },
     "execution_count": 109,
     "metadata": {},
     "output_type": "execute_result"
    }
   ],
   "source": [
    "df['TAXI_IN'] = df['TAXI_IN'].astype(float)\n",
    "df['TAXI_IN'] = df['TAXI_IN'].astype('Int64')\n",
    "df['TAXI_IN'].dtype\n"
   ]
  },
  {
   "cell_type": "markdown",
   "metadata": {},
   "source": [
    "### CRS_ARR_TIME\n",
    "\n"
   ]
  },
  {
   "cell_type": "code",
   "execution_count": 111,
   "metadata": {},
   "outputs": [
    {
     "data": {
      "text/plain": [
       "dtype('float64')"
      ]
     },
     "execution_count": 111,
     "metadata": {},
     "output_type": "execute_result"
    }
   ],
   "source": [
    "df['CRS_ARR_TIME'].dtype"
   ]
  },
  {
   "cell_type": "code",
   "execution_count": 112,
   "metadata": {},
   "outputs": [
    {
     "data": {
      "text/plain": [
       "1439"
      ]
     },
     "execution_count": 112,
     "metadata": {},
     "output_type": "execute_result"
    }
   ],
   "source": [
    "df['CRS_ARR_TIME'].nunique()\n"
   ]
  },
  {
   "cell_type": "code",
   "execution_count": 114,
   "metadata": {},
   "outputs": [
    {
     "data": {
      "text/plain": [
       "0          1438.0\n",
       "1          1438.0\n",
       "2          1438.0\n",
       "3          1438.0\n",
       "4          1438.0\n",
       "            ...  \n",
       "5635973     830.0\n",
       "5635974    1355.0\n",
       "5635975    1125.0\n",
       "5635976    1235.0\n",
       "5635977     820.0\n",
       "Name: CRS_ARR_TIME, Length: 5635967, dtype: float64"
      ]
     },
     "execution_count": 114,
     "metadata": {},
     "output_type": "execute_result"
    }
   ],
   "source": [
    "df['CRS_ARR_TIME']\n"
   ]
  },
  {
   "cell_type": "code",
   "execution_count": 115,
   "metadata": {},
   "outputs": [
    {
     "name": "stdout",
     "output_type": "stream",
     "text": [
      "MAX: 2400.0\n",
      "MAX: 1.0\n"
     ]
    }
   ],
   "source": [
    "print(f\"MAX: {df['CRS_ARR_TIME'].max()}\")\n",
    "print(f\"MAX: {df['CRS_ARR_TIME'].min()}\")\n"
   ]
  },
  {
   "cell_type": "markdown",
   "metadata": {},
   "source": [
    "### ! CRS_ARR_TIME float to int\n"
   ]
  },
  {
   "cell_type": "code",
   "execution_count": 117,
   "metadata": {},
   "outputs": [
    {
     "data": {
      "text/plain": [
       "Int64Dtype()"
      ]
     },
     "execution_count": 117,
     "metadata": {},
     "output_type": "execute_result"
    }
   ],
   "source": [
    "df['CRS_ARR_TIME'] = df['CRS_ARR_TIME'].astype(float)\n",
    "df['CRS_ARR_TIME'] = df['CRS_ARR_TIME'].astype('Int64')\n",
    "df['CRS_ARR_TIME'].dtype\n"
   ]
  },
  {
   "cell_type": "code",
   "execution_count": 118,
   "metadata": {},
   "outputs": [
    {
     "name": "stdout",
     "output_type": "stream",
     "text": [
      "MAX: 2400\n",
      "MAX: 1\n"
     ]
    }
   ],
   "source": [
    "print(f\"MAX: {df['CRS_ARR_TIME'].max()}\")\n",
    "print(f\"MIX: {df['CRS_ARR_TIME'].min()}\")\n"
   ]
  },
  {
   "cell_type": "markdown",
   "metadata": {},
   "source": [
    "### ARR_TIME\n",
    "\n"
   ]
  },
  {
   "cell_type": "code",
   "execution_count": 119,
   "metadata": {},
   "outputs": [
    {
     "data": {
      "text/plain": [
       "dtype('O')"
      ]
     },
     "execution_count": 119,
     "metadata": {},
     "output_type": "execute_result"
    }
   ],
   "source": [
    "df['ARR_TIME'].dtype\n"
   ]
  },
  {
   "cell_type": "code",
   "execution_count": 121,
   "metadata": {},
   "outputs": [
    {
     "data": {
      "text/plain": [
       "array(['float', 'str'], dtype=object)"
      ]
     },
     "execution_count": 121,
     "metadata": {},
     "output_type": "execute_result"
    }
   ],
   "source": [
    "df['ARR_TIME'].apply(get_type).unique()\n"
   ]
  },
  {
   "cell_type": "code",
   "execution_count": 124,
   "metadata": {},
   "outputs": [
    {
     "data": {
      "text/plain": [
       "2880"
      ]
     },
     "execution_count": 124,
     "metadata": {},
     "output_type": "execute_result"
    }
   ],
   "source": [
    "df['ARR_TIME'].nunique()\n"
   ]
  },
  {
   "cell_type": "code",
   "execution_count": 122,
   "metadata": {},
   "outputs": [
    {
     "name": "stdout",
     "output_type": "stream",
     "text": [
      "MAX: 2400.0\n",
      "MIN: 1.0\n"
     ]
    }
   ],
   "source": [
    "float_only = filter_by_type(df, 'ARR_TIME', float)\n",
    "\n",
    "max_ = float_only['ARR_TIME'].max()\n",
    "min_ = float_only['ARR_TIME'].min()\n",
    "print(f\"MAX: {max_}\")        \n",
    "print(f\"MIN: {min_}\")\n",
    "\n",
    "del float_only"
   ]
  },
  {
   "cell_type": "code",
   "execution_count": 123,
   "metadata": {},
   "outputs": [
    {
     "name": "stdout",
     "output_type": "stream",
     "text": [
      "MAX: 2400\n",
      "MIN: 1\n"
     ]
    }
   ],
   "source": [
    "\n",
    "\n",
    "str_only = filter_by_type(df, 'ARR_TIME', str)\n",
    "\n",
    "str_to_int = str_only['ARR_TIME'].astype(float).astype(int)\n",
    "\n",
    "max_ = str_to_int.max()\n",
    "min_ = str_to_int.min()\n",
    "print(f\"MAX: {max_}\")\n",
    "print(f\"MIN: {min_}\")\n",
    "\n",
    "del str_to_int\n",
    "del str_only"
   ]
  },
  {
   "cell_type": "code",
   "execution_count": 125,
   "metadata": {},
   "outputs": [
    {
     "data": {
      "text/plain": [
       "0          1432.0\n",
       "1          1426.0\n",
       "2          1445.0\n",
       "3          1433.0\n",
       "4          1631.0\n",
       "            ...  \n",
       "5635973     817.0\n",
       "5635974    1404.0\n",
       "5635975    1055.0\n",
       "5635976    1231.0\n",
       "5635977     811.0\n",
       "Name: ARR_TIME, Length: 5635967, dtype: object"
      ]
     },
     "execution_count": 125,
     "metadata": {},
     "output_type": "execute_result"
    }
   ],
   "source": [
    "df['ARR_TIME']"
   ]
  },
  {
   "cell_type": "markdown",
   "metadata": {},
   "source": [
    "### ! ARR_TIME float and str to int\n"
   ]
  },
  {
   "cell_type": "code",
   "execution_count": 126,
   "metadata": {},
   "outputs": [
    {
     "data": {
      "text/plain": [
       "Int64Dtype()"
      ]
     },
     "execution_count": 126,
     "metadata": {},
     "output_type": "execute_result"
    }
   ],
   "source": [
    "df['ARR_TIME'] = df['ARR_TIME'].astype(float)\n",
    "df['ARR_TIME'] = df['ARR_TIME'].astype('Int64')\n",
    "df['ARR_TIME'].dtype"
   ]
  },
  {
   "cell_type": "code",
   "execution_count": 127,
   "metadata": {},
   "outputs": [
    {
     "data": {
      "text/plain": [
       "1440"
      ]
     },
     "execution_count": 127,
     "metadata": {},
     "output_type": "execute_result"
    }
   ],
   "source": [
    "df['ARR_TIME'].nunique()"
   ]
  },
  {
   "cell_type": "code",
   "execution_count": 128,
   "metadata": {},
   "outputs": [
    {
     "data": {
      "text/plain": [
       "0          1432\n",
       "1          1426\n",
       "2          1445\n",
       "3          1433\n",
       "4          1631\n",
       "           ... \n",
       "5635973     817\n",
       "5635974    1404\n",
       "5635975    1055\n",
       "5635976    1231\n",
       "5635977     811\n",
       "Name: ARR_TIME, Length: 5635967, dtype: Int64"
      ]
     },
     "execution_count": 128,
     "metadata": {},
     "output_type": "execute_result"
    }
   ],
   "source": [
    "df['ARR_TIME']\n",
    "\n"
   ]
  },
  {
   "cell_type": "markdown",
   "metadata": {},
   "source": [
    "### ARR_DELAY"
   ]
  },
  {
   "cell_type": "code",
   "execution_count": 133,
   "metadata": {},
   "outputs": [
    {
     "data": {
      "text/plain": [
       "dtype('float64')"
      ]
     },
     "execution_count": 133,
     "metadata": {},
     "output_type": "execute_result"
    }
   ],
   "source": [
    "df['ARR_DELAY'].dtype\n"
   ]
  },
  {
   "cell_type": "code",
   "execution_count": 129,
   "metadata": {},
   "outputs": [
    {
     "data": {
      "text/plain": [
       "0           -6.0\n",
       "1          -12.0\n",
       "2            7.0\n",
       "3           -5.0\n",
       "4          113.0\n",
       "           ...  \n",
       "5635973    -13.0\n",
       "5635974      9.0\n",
       "5635975    -30.0\n",
       "5635976     -4.0\n",
       "5635977     -9.0\n",
       "Name: ARR_DELAY, Length: 5635967, dtype: float64"
      ]
     },
     "execution_count": 129,
     "metadata": {},
     "output_type": "execute_result"
    }
   ],
   "source": [
    "df['ARR_DELAY']\n"
   ]
  },
  {
   "cell_type": "code",
   "execution_count": 130,
   "metadata": {},
   "outputs": [
    {
     "data": {
      "text/plain": [
       "1386"
      ]
     },
     "execution_count": 130,
     "metadata": {},
     "output_type": "execute_result"
    }
   ],
   "source": [
    "df['ARR_DELAY'].nunique()\n"
   ]
  },
  {
   "cell_type": "code",
   "execution_count": 131,
   "metadata": {},
   "outputs": [
    {
     "data": {
      "text/plain": [
       "array([  -6.,  -12.,    7., ...,  813.,  997., 1145.])"
      ]
     },
     "execution_count": 131,
     "metadata": {},
     "output_type": "execute_result"
    }
   ],
   "source": [
    "df['ARR_DELAY'].unique()\n"
   ]
  },
  {
   "cell_type": "code",
   "execution_count": 132,
   "metadata": {},
   "outputs": [
    {
     "name": "stdout",
     "output_type": "stream",
     "text": [
      "MAX: 2142.0\n",
      "MAX: -152.0\n"
     ]
    }
   ],
   "source": [
    "print(f\"MAX: {df['ARR_DELAY'].max()}\")\n",
    "print(f\"MIX: {df['ARR_DELAY'].min()}\")\n"
   ]
  },
  {
   "cell_type": "code",
   "execution_count": 135,
   "metadata": {},
   "outputs": [
    {
     "data": {
      "text/plain": [
       "Int64Dtype()"
      ]
     },
     "execution_count": 135,
     "metadata": {},
     "output_type": "execute_result"
    }
   ],
   "source": [
    "df['ARR_DELAY'] = df['ARR_DELAY'].astype(float)\n",
    "df['ARR_DELAY'] = df['ARR_DELAY'].astype('Int64')\n",
    "df['ARR_DELAY'].dtype\n"
   ]
  },
  {
   "cell_type": "markdown",
   "metadata": {},
   "source": [
    "### ! ARR_DELAY float to int"
   ]
  },
  {
   "cell_type": "code",
   "execution_count": 136,
   "metadata": {},
   "outputs": [
    {
     "name": "stdout",
     "output_type": "stream",
     "text": [
      "MAX: 2142\n",
      "MIX: -152\n"
     ]
    }
   ],
   "source": [
    "print(f\"MAX: {df['ARR_DELAY'].max()}\")\n",
    "print(f\"MIX: {df['ARR_DELAY'].min()}\")\n"
   ]
  },
  {
   "cell_type": "markdown",
   "metadata": {},
   "source": [
    "### ARR_DELAY_GROUP"
   ]
  },
  {
   "cell_type": "code",
   "execution_count": 137,
   "metadata": {},
   "outputs": [
    {
     "data": {
      "text/plain": [
       "dtype('float64')"
      ]
     },
     "execution_count": 137,
     "metadata": {},
     "output_type": "execute_result"
    }
   ],
   "source": [
    "df['ARR_DELAY_GROUP'].dtype\n"
   ]
  },
  {
   "cell_type": "code",
   "execution_count": 138,
   "metadata": {},
   "outputs": [
    {
     "data": {
      "text/plain": [
       "15"
      ]
     },
     "execution_count": 138,
     "metadata": {},
     "output_type": "execute_result"
    }
   ],
   "source": [
    "df['ARR_DELAY_GROUP'].nunique()\n"
   ]
  },
  {
   "cell_type": "code",
   "execution_count": 139,
   "metadata": {},
   "outputs": [
    {
     "data": {
      "text/plain": [
       "array([-1.,  0.,  7.,  1., -2.,  4.,  2., nan, 12.,  3.,  6.,  5.,  8.,\n",
       "       10.,  9., 11.])"
      ]
     },
     "execution_count": 139,
     "metadata": {},
     "output_type": "execute_result"
    }
   ],
   "source": [
    "df['ARR_DELAY_GROUP'].unique()\n"
   ]
  },
  {
   "cell_type": "markdown",
   "metadata": {},
   "source": [
    "### ! ARR_DELAY_GROUP float to int"
   ]
  },
  {
   "cell_type": "code",
   "execution_count": 140,
   "metadata": {},
   "outputs": [
    {
     "data": {
      "text/plain": [
       "Int64Dtype()"
      ]
     },
     "execution_count": 140,
     "metadata": {},
     "output_type": "execute_result"
    }
   ],
   "source": [
    "df['ARR_DELAY_GROUP'] = df['ARR_DELAY_GROUP'].astype(float)\n",
    "df['ARR_DELAY_GROUP'] = df['ARR_DELAY_GROUP'].astype('Int64')\n",
    "df['ARR_DELAY_GROUP'].dtype"
   ]
  },
  {
   "cell_type": "code",
   "execution_count": 141,
   "metadata": {},
   "outputs": [
    {
     "data": {
      "text/plain": [
       "<IntegerArray>\n",
       "[-1, 0, 7, 1, -2, 4, 2, <NA>, 12, 3, 6, 5, 8, 10, 9, 11]\n",
       "Length: 16, dtype: Int64"
      ]
     },
     "execution_count": 141,
     "metadata": {},
     "output_type": "execute_result"
    }
   ],
   "source": [
    "df['ARR_DELAY_GROUP'].unique()\n"
   ]
  },
  {
   "cell_type": "code",
   "execution_count": 142,
   "metadata": {},
   "outputs": [
    {
     "data": {
      "text/plain": [
       "FL_DATE                        0\n",
       "AIRLINE_ID                     0\n",
       "CARRIER                        0\n",
       "TAIL_NUM                   12750\n",
       "FL_NUM                         0\n",
       "ORIGIN_AIRPORT_ID              0\n",
       "ORIGIN_AIRPORT_SEQ_ID          0\n",
       "ORIGIN_CITY_MARKET_ID          0\n",
       "ORIGIN                         0\n",
       "ORIGIN_CITY_NAME               0\n",
       "ORIGIN_STATE_ABR               0\n",
       "ORIGIN_STATE_FIPS              0\n",
       "ORIGIN_STATE_NM                0\n",
       "ORIGIN_WAC                     0\n",
       "DEST_AIRPORT_ID                0\n",
       "DEST_AIRPORT_SEQ_ID            0\n",
       "DEST_CITY_MARKET_ID            0\n",
       "DEST                           0\n",
       "DEST_CITY_NAME                 0\n",
       "DEST_STATE_ABR                 0\n",
       "DEST_STATE_FIPS                0\n",
       "DEST_STATE_NM                  0\n",
       "DEST_WAC                       0\n",
       "CRS_DEP_TIME                   0\n",
       "DEP_TIME                   63538\n",
       "DEP_DELAY                  63538\n",
       "DEP_DELAY_GROUP            63538\n",
       "DEP_TIME_BLK                   0\n",
       "TAXI_OUT                   65521\n",
       "WHEELS_OFF                 65521\n",
       "WHEELS_ON                  67975\n",
       "TAXI_IN                    67975\n",
       "CRS_ARR_TIME                   0\n",
       "ARR_TIME                   67975\n",
       "ARR_DELAY                  79772\n",
       "ARR_DELAY_GROUP            79772\n",
       "ARR_TIME_BLK                   0\n",
       "CANCELLED                      0\n",
       "CANCELLATION_CODE        5570000\n",
       "DIVERTED                       0\n",
       "CRS_ELAPSED_TIME               0\n",
       "ACTUAL_ELAPSED_TIME        79772\n",
       "AIR_TIME                   79772\n",
       "FLIGHTS                        0\n",
       "DISTANCE                       0\n",
       "DISTANCE_GROUP                 0\n",
       "CARRIER_DELAY            4667527\n",
       "WEATHER_DELAY            4667527\n",
       "NAS_DELAY                4667527\n",
       "SECURITY_DELAY           4667527\n",
       "LATE_AIRCRAFT_DELAY      4667527\n",
       "FIRST_DEP_TIME           5601434\n",
       "TOTAL_ADD_GTIME          5601434\n",
       "LONGEST_ADD_GTIME        5601434\n",
       "dtype: int64"
      ]
     },
     "execution_count": 142,
     "metadata": {},
     "output_type": "execute_result"
    }
   ],
   "source": [
    "df.isna().sum()"
   ]
  },
  {
   "cell_type": "code",
   "execution_count": 144,
   "metadata": {},
   "outputs": [
    {
     "data": {
      "text/plain": [
       "FL_DATE                  datetime64[ns]\n",
       "AIRLINE_ID                        int64\n",
       "CARRIER                          object\n",
       "TAIL_NUM                         object\n",
       "FL_NUM                            int64\n",
       "ORIGIN_AIRPORT_ID                 int64\n",
       "ORIGIN_AIRPORT_SEQ_ID             int64\n",
       "ORIGIN_CITY_MARKET_ID             int64\n",
       "ORIGIN                           object\n",
       "ORIGIN_CITY_NAME                 object\n",
       "ORIGIN_STATE_ABR                 object\n",
       "ORIGIN_STATE_FIPS                 int64\n",
       "ORIGIN_STATE_NM                  object\n",
       "ORIGIN_WAC                        int64\n",
       "DEST_AIRPORT_ID                   int64\n",
       "DEST_AIRPORT_SEQ_ID               int64\n",
       "DEST_CITY_MARKET_ID               int64\n",
       "DEST                             object\n",
       "DEST_CITY_NAME                   object\n",
       "DEST_STATE_ABR                   object\n",
       "DEST_STATE_FIPS                   int64\n",
       "DEST_STATE_NM                    object\n",
       "DEST_WAC                          int64\n",
       "CRS_DEP_TIME                      int64\n",
       "DEP_TIME                          Int64\n",
       "DEP_DELAY                         Int64\n",
       "DEP_DELAY_GROUP                   Int64\n",
       "DEP_TIME_BLK                     object\n",
       "TAXI_OUT                          Int64\n",
       "WHEELS_OFF                        Int64\n",
       "WHEELS_ON                         Int64\n",
       "TAXI_IN                           Int64\n",
       "CRS_ARR_TIME                      Int64\n",
       "ARR_TIME                          Int64\n",
       "ARR_DELAY                         Int64\n",
       "ARR_DELAY_GROUP                   Int64\n",
       "ARR_TIME_BLK                     object\n",
       "CANCELLED                       float64\n",
       "CANCELLATION_CODE                object\n",
       "DIVERTED                        float64\n",
       "CRS_ELAPSED_TIME                float64\n",
       "ACTUAL_ELAPSED_TIME             float64\n",
       "AIR_TIME                        float64\n",
       "FLIGHTS                         float64\n",
       "DISTANCE                        float64\n",
       "DISTANCE_GROUP                  float64\n",
       "CARRIER_DELAY                   float64\n",
       "WEATHER_DELAY                   float64\n",
       "NAS_DELAY                       float64\n",
       "SECURITY_DELAY                  float64\n",
       "LATE_AIRCRAFT_DELAY             float64\n",
       "FIRST_DEP_TIME                  float64\n",
       "TOTAL_ADD_GTIME                 float64\n",
       "LONGEST_ADD_GTIME               float64\n",
       "dtype: object"
      ]
     },
     "execution_count": 144,
     "metadata": {},
     "output_type": "execute_result"
    }
   ],
   "source": [
    "df.dtypes"
   ]
  },
  {
   "cell_type": "markdown",
   "metadata": {},
   "source": [
    "\n",
    "### ARR_TIME_BLK\n"
   ]
  },
  {
   "cell_type": "code",
   "execution_count": 146,
   "metadata": {},
   "outputs": [
    {
     "data": {
      "text/plain": [
       "dtype('O')"
      ]
     },
     "execution_count": 146,
     "metadata": {},
     "output_type": "execute_result"
    }
   ],
   "source": [
    "df['ARR_TIME_BLK'].dtypes"
   ]
  },
  {
   "cell_type": "code",
   "execution_count": 148,
   "metadata": {},
   "outputs": [
    {
     "data": {
      "text/plain": [
       "19"
      ]
     },
     "execution_count": 148,
     "metadata": {},
     "output_type": "execute_result"
    }
   ],
   "source": [
    "df['ARR_TIME_BLK'].nunique()"
   ]
  },
  {
   "cell_type": "code",
   "execution_count": 149,
   "metadata": {},
   "outputs": [
    {
     "data": {
      "text/plain": [
       "array(['1400-1459', '1700-1759', '1600-1659', '1500-1559', '2100-2159',\n",
       "       '2000-2059', '1800-1859', '1900-1959', '2200-2259', '2300-2359',\n",
       "       '1200-1259', '1300-1359', '0001-0559', '1100-1159', '1000-1059',\n",
       "       '0700-0759', '0600-0659', '0900-0959', '0800-0859'], dtype=object)"
      ]
     },
     "execution_count": 149,
     "metadata": {},
     "output_type": "execute_result"
    }
   ],
   "source": [
    "df['ARR_TIME_BLK'].unique()"
   ]
  },
  {
   "cell_type": "code",
   "execution_count": 153,
   "metadata": {},
   "outputs": [
    {
     "data": {
      "text/html": [
       "<div>\n",
       "<style scoped>\n",
       "    .dataframe tbody tr th:only-of-type {\n",
       "        vertical-align: middle;\n",
       "    }\n",
       "\n",
       "    .dataframe tbody tr th {\n",
       "        vertical-align: top;\n",
       "    }\n",
       "\n",
       "    .dataframe thead th {\n",
       "        text-align: right;\n",
       "    }\n",
       "</style>\n",
       "<table border=\"1\" class=\"dataframe\">\n",
       "  <thead>\n",
       "    <tr style=\"text-align: right;\">\n",
       "      <th></th>\n",
       "      <th>ARR_TIME</th>\n",
       "      <th>ARR_DELAY</th>\n",
       "      <th>ARR_DELAY_GROUP</th>\n",
       "      <th>ARR_TIME_BLK</th>\n",
       "    </tr>\n",
       "  </thead>\n",
       "  <tbody>\n",
       "    <tr>\n",
       "      <th>0</th>\n",
       "      <td>1432</td>\n",
       "      <td>-6</td>\n",
       "      <td>-1</td>\n",
       "      <td>1400-1459</td>\n",
       "    </tr>\n",
       "    <tr>\n",
       "      <th>1</th>\n",
       "      <td>1426</td>\n",
       "      <td>-12</td>\n",
       "      <td>-1</td>\n",
       "      <td>1400-1459</td>\n",
       "    </tr>\n",
       "    <tr>\n",
       "      <th>2</th>\n",
       "      <td>1445</td>\n",
       "      <td>7</td>\n",
       "      <td>0</td>\n",
       "      <td>1400-1459</td>\n",
       "    </tr>\n",
       "    <tr>\n",
       "      <th>3</th>\n",
       "      <td>1433</td>\n",
       "      <td>-5</td>\n",
       "      <td>-1</td>\n",
       "      <td>1400-1459</td>\n",
       "    </tr>\n",
       "    <tr>\n",
       "      <th>4</th>\n",
       "      <td>1631</td>\n",
       "      <td>113</td>\n",
       "      <td>7</td>\n",
       "      <td>1400-1459</td>\n",
       "    </tr>\n",
       "    <tr>\n",
       "      <th>...</th>\n",
       "      <td>...</td>\n",
       "      <td>...</td>\n",
       "      <td>...</td>\n",
       "      <td>...</td>\n",
       "    </tr>\n",
       "    <tr>\n",
       "      <th>5633097</th>\n",
       "      <td>134</td>\n",
       "      <td>159</td>\n",
       "      <td>10</td>\n",
       "      <td>2200-2259</td>\n",
       "    </tr>\n",
       "    <tr>\n",
       "      <th>5633178</th>\n",
       "      <td>158</td>\n",
       "      <td>163</td>\n",
       "      <td>10</td>\n",
       "      <td>2300-2359</td>\n",
       "    </tr>\n",
       "    <tr>\n",
       "      <th>5634639</th>\n",
       "      <td>1849</td>\n",
       "      <td>219</td>\n",
       "      <td>12</td>\n",
       "      <td>1500-1559</td>\n",
       "    </tr>\n",
       "    <tr>\n",
       "      <th>5634643</th>\n",
       "      <td>1237</td>\n",
       "      <td>142</td>\n",
       "      <td>9</td>\n",
       "      <td>1000-1059</td>\n",
       "    </tr>\n",
       "    <tr>\n",
       "      <th>5635671</th>\n",
       "      <td>1530</td>\n",
       "      <td>&lt;NA&gt;</td>\n",
       "      <td>&lt;NA&gt;</td>\n",
       "      <td>1400-1459</td>\n",
       "    </tr>\n",
       "  </tbody>\n",
       "</table>\n",
       "<p>274742 rows × 4 columns</p>\n",
       "</div>"
      ],
      "text/plain": [
       "         ARR_TIME  ARR_DELAY  ARR_DELAY_GROUP ARR_TIME_BLK\n",
       "0            1432         -6               -1    1400-1459\n",
       "1            1426        -12               -1    1400-1459\n",
       "2            1445          7                0    1400-1459\n",
       "3            1433         -5               -1    1400-1459\n",
       "4            1631        113                7    1400-1459\n",
       "...           ...        ...              ...          ...\n",
       "5633097       134        159               10    2200-2259\n",
       "5633178       158        163               10    2300-2359\n",
       "5634639      1849        219               12    1500-1559\n",
       "5634643      1237        142                9    1000-1059\n",
       "5635671      1530       <NA>             <NA>    1400-1459\n",
       "\n",
       "[274742 rows x 4 columns]"
      ]
     },
     "execution_count": 153,
     "metadata": {},
     "output_type": "execute_result"
    }
   ],
   "source": [
    "df[[col for col in df.columns if col.startswith('ARR_')]].drop_duplicates()"
   ]
  },
  {
   "cell_type": "markdown",
   "metadata": {},
   "source": [
    "### ! ARR_TIME_BLK drop column"
   ]
  },
  {
   "cell_type": "code",
   "execution_count": 273,
   "metadata": {},
   "outputs": [],
   "source": [
    "\n",
    "if 'ARR_TIME_BLK' in df.columns:\n",
    "    df.drop(columns=['ARR_TIME_BLK'], inplace=True)"
   ]
  },
  {
   "cell_type": "markdown",
   "metadata": {},
   "source": []
  },
  {
   "cell_type": "markdown",
   "metadata": {},
   "source": [
    "### CANCELLED"
   ]
  },
  {
   "cell_type": "code",
   "execution_count": 154,
   "metadata": {},
   "outputs": [
    {
     "data": {
      "text/plain": [
       "dtype('float64')"
      ]
     },
     "execution_count": 154,
     "metadata": {},
     "output_type": "execute_result"
    }
   ],
   "source": [
    "df['CANCELLED'].dtypes"
   ]
  },
  {
   "cell_type": "code",
   "execution_count": 155,
   "metadata": {},
   "outputs": [
    {
     "data": {
      "text/plain": [
       "2"
      ]
     },
     "execution_count": 155,
     "metadata": {},
     "output_type": "execute_result"
    }
   ],
   "source": [
    "df['CANCELLED'].nunique()"
   ]
  },
  {
   "cell_type": "code",
   "execution_count": 156,
   "metadata": {},
   "outputs": [
    {
     "data": {
      "text/plain": [
       "array([0., 1.])"
      ]
     },
     "execution_count": 156,
     "metadata": {},
     "output_type": "execute_result"
    }
   ],
   "source": [
    "df['CANCELLED'].unique()"
   ]
  },
  {
   "cell_type": "markdown",
   "metadata": {},
   "source": [
    "### ! CANCELLED float to int"
   ]
  },
  {
   "cell_type": "code",
   "execution_count": 162,
   "metadata": {},
   "outputs": [
    {
     "data": {
      "text/plain": [
       "dtype('int64')"
      ]
     },
     "execution_count": 162,
     "metadata": {},
     "output_type": "execute_result"
    }
   ],
   "source": [
    "df['CANCELLATION'] = df['CANCELLED'].astype(int)\n",
    "df['CANCELLATION'].dtype"
   ]
  },
  {
   "cell_type": "markdown",
   "metadata": {},
   "source": [
    "### CANCELLATION_CODE"
   ]
  },
  {
   "cell_type": "code",
   "execution_count": 164,
   "metadata": {},
   "outputs": [
    {
     "data": {
      "text/plain": [
       "dtype('O')"
      ]
     },
     "execution_count": 164,
     "metadata": {},
     "output_type": "execute_result"
    }
   ],
   "source": [
    "df['CANCELLATION_CODE'].dtypes"
   ]
  },
  {
   "cell_type": "code",
   "execution_count": 167,
   "metadata": {},
   "outputs": [
    {
     "data": {
      "text/plain": [
       "array(['float', 'str'], dtype=object)"
      ]
     },
     "execution_count": 167,
     "metadata": {},
     "output_type": "execute_result"
    }
   ],
   "source": [
    "df['CANCELLATION_CODE'].apply(get_type).unique()"
   ]
  },
  {
   "cell_type": "code",
   "execution_count": 168,
   "metadata": {},
   "outputs": [
    {
     "data": {
      "text/plain": [
       "4"
      ]
     },
     "execution_count": 168,
     "metadata": {},
     "output_type": "execute_result"
    }
   ],
   "source": [
    "df['CANCELLATION_CODE'].nunique()"
   ]
  },
  {
   "cell_type": "code",
   "execution_count": 169,
   "metadata": {},
   "outputs": [
    {
     "data": {
      "text/plain": [
       "array([nan, 'A', 'B', 'C', 'D'], dtype=object)"
      ]
     },
     "execution_count": 169,
     "metadata": {},
     "output_type": "execute_result"
    }
   ],
   "source": [
    "df['CANCELLATION_CODE'].unique()"
   ]
  },
  {
   "cell_type": "code",
   "execution_count": 172,
   "metadata": {},
   "outputs": [
    {
     "data": {
      "text/plain": [
       "1.184326750448833"
      ]
     },
     "execution_count": 172,
     "metadata": {},
     "output_type": "execute_result"
    }
   ],
   "source": [
    "df['CANCELLATION_CODE'].count() / df['CANCELLATION_CODE'].isna().sum() * 100"
   ]
  },
  {
   "cell_type": "markdown",
   "metadata": {},
   "source": [
    "### ! DROP CANCELLATION_CODE column"
   ]
  },
  {
   "cell_type": "code",
   "execution_count": 173,
   "metadata": {},
   "outputs": [],
   "source": [
    "\n",
    "if 'CANCELLATION_CODE' in df.columns:\n",
    "    df.drop(columns=['CANCELLATION_CODE'], inplace=True)"
   ]
  },
  {
   "cell_type": "markdown",
   "metadata": {},
   "source": [
    "### DIVERTED"
   ]
  },
  {
   "cell_type": "code",
   "execution_count": 176,
   "metadata": {},
   "outputs": [
    {
     "data": {
      "text/plain": [
       "dtype('float64')"
      ]
     },
     "execution_count": 176,
     "metadata": {},
     "output_type": "execute_result"
    }
   ],
   "source": [
    "df['DIVERTED'].dtypes"
   ]
  },
  {
   "cell_type": "code",
   "execution_count": 177,
   "metadata": {},
   "outputs": [
    {
     "data": {
      "text/plain": [
       "2"
      ]
     },
     "execution_count": 177,
     "metadata": {},
     "output_type": "execute_result"
    }
   ],
   "source": [
    "df['DIVERTED'].nunique()"
   ]
  },
  {
   "cell_type": "code",
   "execution_count": 178,
   "metadata": {},
   "outputs": [
    {
     "data": {
      "text/plain": [
       "array([0., 1.])"
      ]
     },
     "execution_count": 178,
     "metadata": {},
     "output_type": "execute_result"
    }
   ],
   "source": [
    "df['DIVERTED'].unique()"
   ]
  },
  {
   "cell_type": "markdown",
   "metadata": {},
   "source": [
    "### ! DIVERTED float to int"
   ]
  },
  {
   "cell_type": "code",
   "execution_count": 180,
   "metadata": {},
   "outputs": [
    {
     "data": {
      "text/plain": [
       "dtype('int64')"
      ]
     },
     "execution_count": 180,
     "metadata": {},
     "output_type": "execute_result"
    }
   ],
   "source": [
    "df['DIVERTED'] = df['DIVERTED'].astype(int)\n",
    "df['DIVERTED'].dtype"
   ]
  },
  {
   "cell_type": "markdown",
   "metadata": {},
   "source": [
    "### CRS_ELAPSED_TIME"
   ]
  },
  {
   "cell_type": "code",
   "execution_count": 181,
   "metadata": {},
   "outputs": [
    {
     "data": {
      "text/plain": [
       "dtype('float64')"
      ]
     },
     "execution_count": 181,
     "metadata": {},
     "output_type": "execute_result"
    }
   ],
   "source": [
    "df['CRS_ELAPSED_TIME'].dtypes"
   ]
  },
  {
   "cell_type": "code",
   "execution_count": 185,
   "metadata": {},
   "outputs": [
    {
     "data": {
      "text/plain": [
       "575"
      ]
     },
     "execution_count": 185,
     "metadata": {},
     "output_type": "execute_result"
    }
   ],
   "source": [
    "df['CRS_ELAPSED_TIME'].nunique()"
   ]
  },
  {
   "cell_type": "code",
   "execution_count": 186,
   "metadata": {},
   "outputs": [
    {
     "data": {
      "text/plain": [
       "array([158., 191., 187., 317., 321., 385., 382., 258., 284., 280., 148.,\n",
       "       149., 120., 114.,  97.,  99., 295., 159., 153., 183., 185., 236.,\n",
       "       234., 271., 281., 311., 312., 358., 363., 165., 163., 196., 201.,\n",
       "       205., 202., 142., 178., 180., 182., 170., 171., 175., 166., 204.,\n",
       "       212., 211., 215., 216., 262., 264., 268., 294., 291., 297., 357.,\n",
       "       177.,  77.,  75.,  78.,  76., 186., 181., 155., 156., 168., 129.,\n",
       "       132., 241., 189., 130., 199., 194., 206., 200., 323., 327.,  98.,\n",
       "       402., 184., 167., 169., 203., 328., 318.,  84.,  81.,  88.,  93.,\n",
       "       359., 313., 267., 266.,  89., 244., 240.,  68., 208., 176., 408.,\n",
       "       410., 219., 209., 394., 330., 329., 378., 384., 516., 524.,  66.,\n",
       "        69., 427., 430., 509., 514., 443., 439., 446., 403., 395., 309.,\n",
       "       314., 337., 335., 307., 303., 400., 405., 332., 399., 197., 230.,\n",
       "       375., 380., 326., 393., 389., 390., 336., 239., 238., 316., 190.,\n",
       "       188., 364., 373., 319., 324., 147., 237., 192., 279., 278., 277.,\n",
       "       242., 233., 261., 356., 361., 325., 274., 397., 334., 179., 401.,\n",
       "       381., 113., 109.,  91.,  92.,  74.,  83., 388., 222., 150., 231.,\n",
       "       341., 345., 387., 207., 198., 162., 140., 136., 252., 391., 416.,\n",
       "       226., 254., 193., 126., 354., 210., 365., 260.,  70.,  64.,  73.,\n",
       "       131., 128., 108., 100., 101., 107., 105., 221., 144., 110., 161.,\n",
       "       133., 248., 250.,  65., 121., 298., 287., 283., 263., 355., 308.,\n",
       "       352., 228.,  63.,  62., 145., 195., 235., 232., 293., 290., 164.,\n",
       "       143., 218., 257., 383., 273., 174., 173., 141., 160., 223., 225.,\n",
       "       247., 377., 217.,  94., 448.,  82., 249., 275.,  72., 265.,  61.,\n",
       "       433., 432., 396., 331., 507., 511., 151., 518., 527., 224., 366.,\n",
       "       374., 370., 172., 137., 320., 362.,  67., 135., 289., 288., 125.,\n",
       "       152., 124.,  90., 122.,  87.,  85., 116., 118., 214., 286., 127.,\n",
       "       106., 134., 117., 146., 119.,  95., 103., 104., 213.,  71., 102.,\n",
       "       220., 154.,  96., 372., 368., 315., 253., 348., 123.,  56.,  86.,\n",
       "       157., 139., 112., 259., 245., 255., 251., 256., 338., 340., 229.,\n",
       "        79., 138., 344., 111., 276., 304., 301., 369.,  80., 272., 246.,\n",
       "       285., 351.,  60., 115., 227.,  59.,  57., 342.,  58., 243., 269.,\n",
       "       322., 333., 270., 339., 386., 300., 343., 282.,  55., 414., 299.,\n",
       "       404., 306., 305., 347., 310., 349., 350., 421., 411., 412., 418.,\n",
       "        52., 302.,  49.,  48.,  54., 367., 292.,  50.,  51., 371., 409.,\n",
       "        53.,  44., 415., 353., 296., 346., 426., 376., 425., 360., 379.,\n",
       "        45.,  47.,  25.,  46.,  32.,  39.,  21.,  40.,  42., 419.,  30.,\n",
       "        24.,  36.,  41.,  43., 398.,  37.,  34., 392., 413., 611., 473.,\n",
       "       585., 705., 406., 517., 616., 544., 575., 615., 424.,  35.,  38.,\n",
       "        33., 482., 407., 578., 683., 646., 475., 493., 570., 456., 521.,\n",
       "       466., 555., 562., 480., 417., 460., 685., 477., 435., 520., 450.,\n",
       "       423., 471., 542., 420., 548., 584., 515., 610., 695., 462.,  22.,\n",
       "        31.,  28., 464., 513., 510., 613., 523., 525., 463., 579., 679.,\n",
       "       647., 494., 564., 461., 474., 700., 587., 676., 633., 558., 472.,\n",
       "       438., 675., 437., 455., 453., 451., 434., 505., 530., 593., 452.,\n",
       "       428., 595., 665., 440., 465., 508., 454., 519., 512.,  23.,  26.,\n",
       "       532., 535., 580., 470., 467.,  18., 468., 654., 565., 618., 545.,\n",
       "       500., 650.,   5., 447., 476., 499., 436., 488., 457., 441., 484.,\n",
       "       495.,  29.,  27., 422., 469., 531., 576., 574., 583., 655., 586.,\n",
       "       504., 489., 496., 459., 485., 506.,  20., 528., 526., 577., 660.,\n",
       "       581., 614., 490., 546., 497., 429., 537., 442., 444., 534., 445.,\n",
       "       591., 589., 644., 573., 672., 560., 627., 606., 604., 529., 670.,\n",
       "       625., 559., 449., 704., 617., 552., 588., 698., 549., 503., 569.,\n",
       "       686., 486., 571.])"
      ]
     },
     "execution_count": 186,
     "metadata": {},
     "output_type": "execute_result"
    }
   ],
   "source": [
    "df['CRS_ELAPSED_TIME'].unique()"
   ]
  },
  {
   "cell_type": "markdown",
   "metadata": {},
   "source": [
    "### ! CRS_ELAPSED_TIME float to int"
   ]
  },
  {
   "cell_type": "code",
   "execution_count": 188,
   "metadata": {},
   "outputs": [
    {
     "data": {
      "text/plain": [
       "dtype('int64')"
      ]
     },
     "execution_count": 188,
     "metadata": {},
     "output_type": "execute_result"
    }
   ],
   "source": [
    "df['CRS_ELAPSED_TIME'] = df['CRS_ELAPSED_TIME'].astype(int)\n",
    "df['CRS_ELAPSED_TIME'].dtype"
   ]
  },
  {
   "cell_type": "markdown",
   "metadata": {},
   "source": [
    "### ACTUAL_ELAPSED_TIME"
   ]
  },
  {
   "cell_type": "code",
   "execution_count": 191,
   "metadata": {},
   "outputs": [
    {
     "data": {
      "text/plain": [
       "dtype('float64')"
      ]
     },
     "execution_count": 191,
     "metadata": {},
     "output_type": "execute_result"
    }
   ],
   "source": [
    "df['ACTUAL_ELAPSED_TIME'].dtypes"
   ]
  },
  {
   "cell_type": "code",
   "execution_count": 193,
   "metadata": {},
   "outputs": [
    {
     "data": {
      "text/plain": [
       "716"
      ]
     },
     "execution_count": 193,
     "metadata": {},
     "output_type": "execute_result"
    }
   ],
   "source": [
    "df['ACTUAL_ELAPSED_TIME'].nunique()"
   ]
  },
  {
   "cell_type": "code",
   "execution_count": 198,
   "metadata": {},
   "outputs": [
    {
     "data": {
      "text/plain": [
       "array([155., 150., 170., 151., 171., 148., 159., 156., 158., 147., 162.,\n",
       "       161., 168., 145., 143., 173., 157., 152., 197., 169., 180., 166.,\n",
       "       187., 174., 183., 164., 178., 167., 191., 201., 203., 181., 176.,\n",
       "       193., 329., 336., 304., 314., 316., 315., 318., 326., 333., 360.,\n",
       "       310., 302., 300., 312.,  nan, 298., 309., 306., 308., 299., 366.,\n",
       "       377., 410., 376., 358., 355., 357., 344., 356., 353., 388., 408.,\n",
       "       404., 396., 387., 373., 389., 380., 365., 386., 382., 378., 362.,\n",
       "       246., 270., 248., 261., 260., 271., 254., 262., 267., 258., 290.,\n",
       "       275., 274., 273., 285., 284., 281., 264., 253., 255., 266., 277.,\n",
       "       286., 136., 133., 129., 128., 139., 127., 146., 137., 125., 142.,\n",
       "       131., 141., 134., 149., 140., 153., 111.,  91.,  97., 110., 106.,\n",
       "       105., 108.,  98., 101., 120.,  93., 116., 102., 114., 115.,  96.,\n",
       "        99.,  92.,  86., 100.,  95., 109.,  89.,  88.,  87.,  80.,  90.,\n",
       "       317., 292., 282., 288., 293., 291., 289., 272., 144., 154., 177.,\n",
       "       184., 165., 172., 160., 179., 186., 175., 190., 213., 227., 207.,\n",
       "       233., 232., 225., 251., 242., 236., 224., 221., 208., 219., 247.,\n",
       "       226., 217., 235., 228., 279., 243., 268., 269., 283., 276., 280.,\n",
       "       294., 263., 278., 322., 372., 354., 325., 287., 313., 319., 307.,\n",
       "       321., 348., 363., 393., 359., 367., 384., 351., 350., 352., 364.,\n",
       "       361., 189., 194., 211., 200., 196., 198., 204., 185., 138., 210.,\n",
       "       188., 192., 182., 212., 163., 223., 195., 216., 202., 218., 199.,\n",
       "       231., 206., 209., 222., 234., 238., 245., 239., 327., 334., 301.,\n",
       "       335., 323., 311., 420., 331., 324., 345., 342., 347., 338., 349.,\n",
       "       340.,  64.,  78.,  75.,  67.,  85.,  77.,  65.,  81.,  69.,  74.,\n",
       "        70.,  62.,  72.,  71.,  68.,  79., 126.,  73.,  82.,  76.,  84.,\n",
       "        63.,  83.,  66., 240., 130., 135., 117., 123., 256., 241., 297.,\n",
       "       118., 121., 119., 122.,  54.,  94., 214., 205., 259., 339., 320.,\n",
       "       330., 343., 103., 419., 229., 215., 303., 305., 107., 112., 296.,\n",
       "       295., 332., 341., 374., 368., 379., 265., 369., 250., 257., 252.,\n",
       "       249., 244.,  57.,  56.,  61., 104., 415., 381., 392., 370., 416.,\n",
       "       371., 402., 390., 407., 398., 391., 337., 383., 400., 328., 529.,\n",
       "       537., 525., 550., 548., 526., 514., 528., 552., 532., 534., 544.,\n",
       "       531., 560., 509., 500., 488., 510., 511., 535.,  60.,  51.,  53.,\n",
       "       397., 375., 425., 421., 403., 394., 405., 414., 406., 424., 449.,\n",
       "       413., 512., 530., 562., 522., 501., 546., 549., 517., 503., 516.,\n",
       "       543., 524., 527., 576., 557., 518., 481., 490., 508., 411., 434.,\n",
       "       431., 442., 448., 426., 432., 429., 418., 451., 445., 460., 433.,\n",
       "       401., 423., 399., 385., 417., 412., 422., 409., 395., 230., 220.,\n",
       "       346., 237., 461., 113., 132.,  58., 124., 430.,  59., 435.,  52.,\n",
       "        49.,  55., 443., 444., 436., 439., 441., 440.,  50., 542., 555.,\n",
       "       591., 554., 504., 523., 541., 545., 575., 521.,  44.,  45.,  48.,\n",
       "        46.,  47., 427., 428.,  43.,  41., 493., 456.,  42., 459., 455.,\n",
       "       468., 454., 472., 467., 477., 458., 453., 484., 487.,  39., 457.,\n",
       "       450., 438.,  38., 437., 446., 466.,  40.,  33.,  36.,  37.,  22.,\n",
       "        30.,  19., 447., 479.,  35.,  26.,  20.,  32.,  34.,  15.,  23.,\n",
       "        31.,  18.,  24.,  21.,  17.,  29.,  28.,  25.,  27., 464., 608.,\n",
       "       665., 485., 601., 685., 547., 539., 587., 568., 559., 572., 638.,\n",
       "       515., 669., 652., 565., 519., 677., 495., 571., 578., 645., 536.,\n",
       "       497., 593., 664., 476., 569., 659., 489., 592., 496., 563., 662.,\n",
       "       480., 558., 469., 507., 473., 465., 656., 567., 502., 595., 538.,\n",
       "       683., 701., 680., 686., 684., 655., 692., 661., 706., 717., 720.,\n",
       "       700., 679., 721., 698., 716., 691., 697., 702., 695., 649., 678.,\n",
       "       671., 707., 689., 474., 463., 709., 570., 675., 564., 670., 520.,\n",
       "       573., 470., 486., 478., 574., 696., 475., 693., 551., 648., 624.,\n",
       "       492., 673., 657., 556., 471., 585., 491., 640., 628., 582., 553.,\n",
       "       639., 647., 625., 561., 589., 650., 641., 632., 584., 600., 566.,\n",
       "       622., 618., 583., 627., 690., 626., 581., 483., 637., 505., 621.,\n",
       "       617., 616., 612., 598., 494., 579., 499., 603., 596., 586., 482.,\n",
       "       636., 667., 710., 663., 672., 651., 705., 730., 727., 728., 715.,\n",
       "       681., 668., 687., 629., 462., 704., 452., 590., 699., 594., 513.,\n",
       "       506., 614., 620., 540., 533.,  16., 633., 602., 606., 599., 607.,\n",
       "       604., 605., 611., 646., 613., 609., 498., 658., 597., 610., 615.,\n",
       "       631., 733., 769., 713., 654., 674., 682., 660., 630., 635., 653.,\n",
       "       703., 723., 577., 580., 666., 676., 642., 619., 644., 643., 588.,\n",
       "       623., 714.,  14., 634., 688., 741., 731., 753., 726., 734., 778.,\n",
       "       759., 712.])"
      ]
     },
     "execution_count": 198,
     "metadata": {},
     "output_type": "execute_result"
    }
   ],
   "source": [
    "df['ACTUAL_ELAPSED_TIME'].unique()"
   ]
  },
  {
   "cell_type": "code",
   "execution_count": 197,
   "metadata": {},
   "outputs": [
    {
     "name": "stdout",
     "output_type": "stream",
     "text": [
      "MAX: 778.0\n",
      "MIX: 14.0\n"
     ]
    }
   ],
   "source": [
    "print(f\"MAX: {df['ACTUAL_ELAPSED_TIME'].max()}\")\n",
    "print(f\"MIX: {df['ACTUAL_ELAPSED_TIME'].min()}\")\n"
   ]
  },
  {
   "cell_type": "markdown",
   "metadata": {},
   "source": [
    "### ! ACTUAL_ELAPSED_TIME float to int"
   ]
  },
  {
   "cell_type": "code",
   "execution_count": 204,
   "metadata": {},
   "outputs": [
    {
     "data": {
      "text/plain": [
       "Int64Dtype()"
      ]
     },
     "execution_count": 204,
     "metadata": {},
     "output_type": "execute_result"
    }
   ],
   "source": [
    "df['ACTUAL_ELAPSED_TIME'] = df['ACTUAL_ELAPSED_TIME'].astype('Int64')\n",
    "df['ARR_DELAY'].dtype\n",
    "\n"
   ]
  },
  {
   "cell_type": "code",
   "execution_count": 203,
   "metadata": {},
   "outputs": [
    {
     "name": "stdout",
     "output_type": "stream",
     "text": [
      "MAX: 778\n",
      "MIX: 14\n"
     ]
    }
   ],
   "source": [
    "print(f\"MAX: {df['ACTUAL_ELAPSED_TIME'].max()}\")\n",
    "print(f\"MIX: {df['ACTUAL_ELAPSED_TIME'].min()}\")"
   ]
  },
  {
   "cell_type": "code",
   "execution_count": 208,
   "metadata": {},
   "outputs": [],
   "source": [
    "# pd.DataFrame(df['ACTUAL_ELAPSED_TIME'].unique()).head(60)"
   ]
  },
  {
   "cell_type": "markdown",
   "metadata": {},
   "source": [
    "### AIR_TIME"
   ]
  },
  {
   "cell_type": "code",
   "execution_count": 210,
   "metadata": {},
   "outputs": [
    {
     "data": {
      "text/plain": [
       "dtype('float64')"
      ]
     },
     "execution_count": 210,
     "metadata": {},
     "output_type": "execute_result"
    }
   ],
   "source": [
    "df['AIR_TIME'].dtypes"
   ]
  },
  {
   "cell_type": "code",
   "execution_count": 211,
   "metadata": {},
   "outputs": [
    {
     "data": {
      "text/plain": [
       "692"
      ]
     },
     "execution_count": 211,
     "metadata": {},
     "output_type": "execute_result"
    }
   ],
   "source": [
    "df['AIR_TIME'].nunique()\n"
   ]
  },
  {
   "cell_type": "code",
   "execution_count": 213,
   "metadata": {},
   "outputs": [
    {
     "data": {
      "text/plain": [
       "array([132., 126., 135., 129., 137., 128., 136., 130., 133., 118., 138.,\n",
       "       123., 131., 141., 121., 119., 147., 149., 146., 145., 142., 144.,\n",
       "       157., 155., 143., 139., 150., 158., 156., 151., 161., 165., 294.,\n",
       "       292., 277., 296., 297., 295., 288., 335., 287., 283., 274., 285.,\n",
       "        nan, 281., 273., 282., 280., 324., 334., 337., 326., 327., 323.,\n",
       "       314., 317., 320., 355., 378., 362., 350., 333., 343., 344., 354.,\n",
       "       340., 357., 342., 339., 220., 225., 222., 245., 244., 235., 251.,\n",
       "       239., 234., 246., 240., 247., 255., 256., 242., 258., 257., 266.,\n",
       "       262., 248., 227., 232., 259., 275., 260., 109., 108.,  99., 114.,\n",
       "       105., 106., 104., 112., 115., 111., 107., 117., 116.,  91.,  78.,\n",
       "        81.,  85.,  88.,  89.,  86.,  80.,  83.,  87.,  75.,  94.,  84.,\n",
       "        98.,  79.,  92.,  97.,  82.,  93.,  76.,  77.,  72.,  71.,  68.,\n",
       "        70.,  73., 253., 252., 270., 264., 261., 265., 269., 267., 263.,\n",
       "       271., 268., 278., 279., 243., 140., 124., 134., 122., 152., 154.,\n",
       "       148., 189., 195., 191., 204., 208., 201., 198., 203., 207., 215.,\n",
       "       192., 205., 196., 209., 199., 250., 230., 223., 224., 241., 237.,\n",
       "       236., 233., 249., 284., 291., 276., 290., 330., 341., 347., 363.,\n",
       "       358., 336., 338., 331., 348., 345., 332., 328., 329., 321., 322.,\n",
       "       325., 125., 159., 162., 169., 164., 178., 176., 167., 170., 173.,\n",
       "       171., 172., 166., 179., 168., 110., 177., 163., 153., 127., 160.,\n",
       "       183., 190., 197., 188., 194., 193., 182., 212., 218., 180., 221.,\n",
       "       216., 238., 228., 217., 211., 210., 254., 309., 306., 302., 311.,\n",
       "       315., 318., 304., 313., 310.,  40.,  39.,  41.,  42.,  51.,  52.,\n",
       "        44.,  43.,  46.,  50.,  48.,  53.,  45., 120., 103., 101., 100.,\n",
       "       102., 226., 219., 231., 214., 229.,  55.,  38.,  37., 186., 300.,\n",
       "       299., 298., 312., 303., 307.,  74.,  69., 352., 349., 175., 174.,\n",
       "       293.,  54.,  59.,  67.,  58.,  57.,  56.,  66.,  63.,  62.,  61.,\n",
       "        60., 305., 308., 301., 319., 272.,  49., 200., 202.,  35.,  47.,\n",
       "        36., 360., 359., 346., 369., 361., 353., 375., 377., 184., 181.,\n",
       "       187., 185., 351., 356., 286., 289., 505., 514., 504., 527., 518.,\n",
       "       495., 494., 522., 493., 510., 500., 497., 503., 521., 506., 526.,\n",
       "       509., 502., 487., 480., 469., 486.,  34.,  33.,  32.,  30., 379.,\n",
       "       381., 372., 385., 392., 401., 400., 399., 397., 390., 382., 383.,\n",
       "       394., 398., 391., 386., 414., 423., 374., 371., 485., 484., 520.,\n",
       "       496., 481., 516., 508., 482., 501., 488., 545., 489., 468., 461.,\n",
       "       464., 483., 368., 404., 402., 409., 416., 410., 396., 384., 395.,\n",
       "       407., 419., 418., 436., 422., 411., 366., 367., 387., 316., 364.,\n",
       "       370., 365., 206., 376., 213., 373., 380.,  96.,  90.,  65.,  64.,\n",
       "       113., 412.,  95., 388., 389., 403., 393., 417., 406., 408., 427.,\n",
       "        29., 490., 499., 519., 491., 473., 498., 561., 532., 477., 525.,\n",
       "       507., 524., 534., 476., 492., 530.,  31.,  28.,  27.,  24.,  26.,\n",
       "        25., 430., 405., 441., 433., 432.,  21.,  22., 429., 425., 450.,\n",
       "       434.,  20.,  23., 424., 413., 415., 431.,  19.,  18., 421.,  14.,\n",
       "         8., 442.,  11.,  12.,   9.,  10.,  13.,  15.,  17.,  16., 443.,\n",
       "       590., 420., 629., 458., 579., 644., 428., 523., 513., 560., 539.,\n",
       "       528., 542., 613., 553., 636., 633., 435., 448., 474., 438., 544.,\n",
       "       467., 456., 623., 515., 557., 624., 437., 454., 440., 536., 463.,\n",
       "       465., 559., 614., 475., 541., 640., 439., 447., 548., 445., 453.,\n",
       "       543., 540., 551., 535., 511., 657., 683., 655., 656., 662., 637.,\n",
       "       635., 641., 679., 658., 698., 667., 653., 695., 678., 664., 674.,\n",
       "       659., 682., 646., 625., 645., 681., 446., 533., 452., 688., 531.,\n",
       "       512., 451., 565., 552., 517., 459., 622., 529., 444., 619., 601.,\n",
       "       470., 638., 457., 538., 660., 556., 621., 460., 610., 627., 602.,\n",
       "       642., 466., 628., 426., 449., 669., 574., 666., 654., 589., 594.,\n",
       "       562., 631., 462., 587., 580., 598., 479., 567., 600., 605., 583.,\n",
       "       597., 595., 571., 591., 572., 472., 537., 576., 647., 563., 566.,\n",
       "       546., 550., 652., 609., 670., 661., 672., 703., 702.,   4., 558.,\n",
       "       478., 663., 685., 630., 547., 617., 611., 455., 606., 568., 573.,\n",
       "       555., 582., 578., 586., 581., 608., 618., 569., 575., 607., 564.,\n",
       "       471., 592., 570., 549., 692., 668., 671., 697., 632., 649., 650.,\n",
       "       634., 651.,   7., 554., 616., 603., 612., 665., 593., 643., 626.,\n",
       "       615., 620., 599., 585., 584., 604., 639.,   6., 596., 588., 577.,\n",
       "       680., 684., 691., 723., 699., 676., 689., 648., 713., 696., 673.])"
      ]
     },
     "execution_count": 213,
     "metadata": {},
     "output_type": "execute_result"
    }
   ],
   "source": [
    "df['AIR_TIME'].unique()"
   ]
  },
  {
   "cell_type": "markdown",
   "metadata": {},
   "source": [
    "### ! AIR_TIME float to int"
   ]
  },
  {
   "cell_type": "code",
   "execution_count": 216,
   "metadata": {},
   "outputs": [
    {
     "data": {
      "text/plain": [
       "Int64Dtype()"
      ]
     },
     "execution_count": 216,
     "metadata": {},
     "output_type": "execute_result"
    }
   ],
   "source": [
    "df['AIR_TIME'] = df['AIR_TIME'].astype('Int64')\n",
    "df['AIR_TIME'].dtype"
   ]
  },
  {
   "cell_type": "code",
   "execution_count": 217,
   "metadata": {},
   "outputs": [
    {
     "name": "stdout",
     "output_type": "stream",
     "text": [
      "MAX: 723\n",
      "MIX: 4\n"
     ]
    }
   ],
   "source": [
    "print(f\"MAX: {df['AIR_TIME'].max()}\")\n",
    "print(f\"MIX: {df['AIR_TIME'].min()}\")\n"
   ]
  },
  {
   "cell_type": "markdown",
   "metadata": {},
   "source": [
    "### FLIGHTS"
   ]
  },
  {
   "cell_type": "code",
   "execution_count": 248,
   "metadata": {},
   "outputs": [
    {
     "data": {
      "text/plain": [
       "dtype('float64')"
      ]
     },
     "execution_count": 248,
     "metadata": {},
     "output_type": "execute_result"
    }
   ],
   "source": [
    "df['FLIGHTS'].dtype"
   ]
  },
  {
   "cell_type": "code",
   "execution_count": 251,
   "metadata": {},
   "outputs": [
    {
     "data": {
      "text/plain": [
       "1"
      ]
     },
     "execution_count": 251,
     "metadata": {},
     "output_type": "execute_result"
    }
   ],
   "source": [
    "df['FLIGHTS'].nunique()\n"
   ]
  },
  {
   "cell_type": "code",
   "execution_count": 252,
   "metadata": {},
   "outputs": [
    {
     "data": {
      "text/plain": [
       "array([1.])"
      ]
     },
     "execution_count": 252,
     "metadata": {},
     "output_type": "execute_result"
    }
   ],
   "source": [
    "df['FLIGHTS'].unique()\n"
   ]
  },
  {
   "cell_type": "markdown",
   "metadata": {},
   "source": [
    "### ! FLIGHTS drop column"
   ]
  },
  {
   "cell_type": "code",
   "execution_count": 255,
   "metadata": {},
   "outputs": [],
   "source": [
    "if 'FLIGHTS' in df.columns:\n",
    "    df.drop(columns=['FLIGHTS'], inplace=True)\n"
   ]
  },
  {
   "cell_type": "markdown",
   "metadata": {},
   "source": [
    "### DISTANCE"
   ]
  },
  {
   "cell_type": "code",
   "execution_count": 256,
   "metadata": {},
   "outputs": [
    {
     "data": {
      "text/plain": [
       "dtype('float64')"
      ]
     },
     "execution_count": 256,
     "metadata": {},
     "output_type": "execute_result"
    }
   ],
   "source": [
    "df['DISTANCE'].dtype"
   ]
  },
  {
   "cell_type": "code",
   "execution_count": 257,
   "metadata": {},
   "outputs": [
    {
     "data": {
      "text/plain": [
       "1364"
      ]
     },
     "execution_count": 257,
     "metadata": {},
     "output_type": "execute_result"
    }
   ],
   "source": [
    "df['DISTANCE'].nunique()\n"
   ]
  },
  {
   "cell_type": "code",
   "execution_count": 258,
   "metadata": {},
   "outputs": [
    {
     "data": {
      "text/plain": [
       "0           986.0\n",
       "1           986.0\n",
       "2           986.0\n",
       "3           986.0\n",
       "4           986.0\n",
       "            ...  \n",
       "5635973     451.0\n",
       "5635974     451.0\n",
       "5635975    1440.0\n",
       "5635976     368.0\n",
       "5635977     368.0\n",
       "Name: DISTANCE, Length: 5635967, dtype: float64"
      ]
     },
     "execution_count": 258,
     "metadata": {},
     "output_type": "execute_result"
    }
   ],
   "source": [
    "df['DISTANCE']"
   ]
  },
  {
   "cell_type": "markdown",
   "metadata": {},
   "source": [
    "### ! DISTANCE float to int"
   ]
  },
  {
   "cell_type": "code",
   "execution_count": 259,
   "metadata": {},
   "outputs": [
    {
     "data": {
      "text/plain": [
       "Int64Dtype()"
      ]
     },
     "execution_count": 259,
     "metadata": {},
     "output_type": "execute_result"
    }
   ],
   "source": [
    "df['AIR_TIME'] = df['AIR_TIME'].astype('Int64')\n",
    "df['AIR_TIME'].dtype"
   ]
  },
  {
   "cell_type": "markdown",
   "metadata": {},
   "source": [
    "### DISTANCE_GROUP"
   ]
  },
  {
   "cell_type": "code",
   "execution_count": 260,
   "metadata": {},
   "outputs": [
    {
     "data": {
      "text/plain": [
       "0          4.0\n",
       "1          4.0\n",
       "2          4.0\n",
       "3          4.0\n",
       "4          4.0\n",
       "          ... \n",
       "5635973    2.0\n",
       "5635974    2.0\n",
       "5635975    6.0\n",
       "5635976    2.0\n",
       "5635977    2.0\n",
       "Name: DISTANCE_GROUP, Length: 5635967, dtype: float64"
      ]
     },
     "execution_count": 260,
     "metadata": {},
     "output_type": "execute_result"
    }
   ],
   "source": [
    "df['DISTANCE_GROUP']"
   ]
  },
  {
   "cell_type": "code",
   "execution_count": 262,
   "metadata": {},
   "outputs": [
    {
     "data": {
      "text/plain": [
       "dtype('float64')"
      ]
     },
     "execution_count": 262,
     "metadata": {},
     "output_type": "execute_result"
    }
   ],
   "source": [
    "df['DISTANCE_GROUP'].dtype"
   ]
  },
  {
   "cell_type": "code",
   "execution_count": 264,
   "metadata": {},
   "outputs": [
    {
     "data": {
      "text/plain": [
       "11"
      ]
     },
     "execution_count": 264,
     "metadata": {},
     "output_type": "execute_result"
    }
   ],
   "source": [
    "df['DISTANCE_GROUP'].nunique()"
   ]
  },
  {
   "cell_type": "code",
   "execution_count": 265,
   "metadata": {},
   "outputs": [
    {
     "data": {
      "text/plain": [
       "array([ 4., 10.,  8.,  3.,  5.,  7., 11.,  1.,  2.,  9.,  6.])"
      ]
     },
     "execution_count": 265,
     "metadata": {},
     "output_type": "execute_result"
    }
   ],
   "source": [
    "df['DISTANCE_GROUP'].unique()"
   ]
  },
  {
   "cell_type": "markdown",
   "metadata": {},
   "source": [
    "\n",
    "\n",
    "### ! DISTANCE_GROUP float to int"
   ]
  },
  {
   "cell_type": "code",
   "execution_count": 267,
   "metadata": {},
   "outputs": [
    {
     "data": {
      "text/plain": [
       "Int64Dtype()"
      ]
     },
     "execution_count": 267,
     "metadata": {},
     "output_type": "execute_result"
    }
   ],
   "source": [
    "df['DISTANCE_GROUP'] = df['DISTANCE_GROUP'].astype('Int64')\n",
    "df['DISTANCE_GROUP'].dtype"
   ]
  },
  {
   "cell_type": "code",
   "execution_count": 271,
   "metadata": {},
   "outputs": [
    {
     "data": {
      "text/html": [
       "<div>\n",
       "<style scoped>\n",
       "    .dataframe tbody tr th:only-of-type {\n",
       "        vertical-align: middle;\n",
       "    }\n",
       "\n",
       "    .dataframe tbody tr th {\n",
       "        vertical-align: top;\n",
       "    }\n",
       "\n",
       "    .dataframe thead th {\n",
       "        text-align: right;\n",
       "    }\n",
       "</style>\n",
       "<table border=\"1\" class=\"dataframe\">\n",
       "  <thead>\n",
       "    <tr style=\"text-align: right;\">\n",
       "      <th></th>\n",
       "      <th>DISTANCE</th>\n",
       "      <th>DISTANCE_GROUP</th>\n",
       "    </tr>\n",
       "  </thead>\n",
       "  <tbody>\n",
       "    <tr>\n",
       "      <th>0</th>\n",
       "      <td>986.0</td>\n",
       "      <td>4</td>\n",
       "    </tr>\n",
       "    <tr>\n",
       "      <th>57</th>\n",
       "      <td>2422.0</td>\n",
       "      <td>10</td>\n",
       "    </tr>\n",
       "    <tr>\n",
       "      <th>119</th>\n",
       "      <td>1829.0</td>\n",
       "      <td>8</td>\n",
       "    </tr>\n",
       "    <tr>\n",
       "      <th>153</th>\n",
       "      <td>868.0</td>\n",
       "      <td>4</td>\n",
       "    </tr>\n",
       "    <tr>\n",
       "      <th>184</th>\n",
       "      <td>550.0</td>\n",
       "      <td>3</td>\n",
       "    </tr>\n",
       "    <tr>\n",
       "      <th>239</th>\n",
       "      <td>2311.0</td>\n",
       "      <td>10</td>\n",
       "    </tr>\n",
       "    <tr>\n",
       "      <th>270</th>\n",
       "      <td>1012.0</td>\n",
       "      <td>5</td>\n",
       "    </tr>\n",
       "    <tr>\n",
       "      <th>301</th>\n",
       "      <td>1005.0</td>\n",
       "      <td>5</td>\n",
       "    </tr>\n",
       "    <tr>\n",
       "      <th>332</th>\n",
       "      <td>1709.0</td>\n",
       "      <td>7</td>\n",
       "    </tr>\n",
       "    <tr>\n",
       "      <th>394</th>\n",
       "      <td>2504.0</td>\n",
       "      <td>11</td>\n",
       "    </tr>\n",
       "    <tr>\n",
       "      <th>456</th>\n",
       "      <td>1121.0</td>\n",
       "      <td>5</td>\n",
       "    </tr>\n",
       "    <tr>\n",
       "      <th>517</th>\n",
       "      <td>964.0</td>\n",
       "      <td>4</td>\n",
       "    </tr>\n",
       "    <tr>\n",
       "      <th>552</th>\n",
       "      <td>1089.0</td>\n",
       "      <td>5</td>\n",
       "    </tr>\n",
       "    <tr>\n",
       "      <th>614</th>\n",
       "      <td>1521.0</td>\n",
       "      <td>7</td>\n",
       "    </tr>\n",
       "    <tr>\n",
       "      <th>674</th>\n",
       "      <td>2342.0</td>\n",
       "      <td>10</td>\n",
       "    </tr>\n",
       "    <tr>\n",
       "      <th>736</th>\n",
       "      <td>1055.0</td>\n",
       "      <td>5</td>\n",
       "    </tr>\n",
       "    <tr>\n",
       "      <th>798</th>\n",
       "      <td>236.0</td>\n",
       "      <td>1</td>\n",
       "    </tr>\n",
       "    <tr>\n",
       "      <th>856</th>\n",
       "      <td>944.0</td>\n",
       "      <td>4</td>\n",
       "    </tr>\n",
       "    <tr>\n",
       "      <th>918</th>\n",
       "      <td>989.0</td>\n",
       "      <td>4</td>\n",
       "    </tr>\n",
       "    <tr>\n",
       "      <th>980</th>\n",
       "      <td>813.0</td>\n",
       "      <td>4</td>\n",
       "    </tr>\n",
       "    <tr>\n",
       "      <th>1000</th>\n",
       "      <td>1623.0</td>\n",
       "      <td>7</td>\n",
       "    </tr>\n",
       "    <tr>\n",
       "      <th>1013</th>\n",
       "      <td>867.0</td>\n",
       "      <td>4</td>\n",
       "    </tr>\n",
       "    <tr>\n",
       "      <th>1070</th>\n",
       "      <td>187.0</td>\n",
       "      <td>1</td>\n",
       "    </tr>\n",
       "    <tr>\n",
       "      <th>1109</th>\n",
       "      <td>2611.0</td>\n",
       "      <td>11</td>\n",
       "    </tr>\n",
       "    <tr>\n",
       "      <th>1140</th>\n",
       "      <td>1119.0</td>\n",
       "      <td>5</td>\n",
       "    </tr>\n",
       "    <tr>\n",
       "      <th>1166</th>\n",
       "      <td>985.0</td>\n",
       "      <td>4</td>\n",
       "    </tr>\n",
       "    <tr>\n",
       "      <th>1255</th>\n",
       "      <td>2585.0</td>\n",
       "      <td>11</td>\n",
       "    </tr>\n",
       "    <tr>\n",
       "      <th>1286</th>\n",
       "      <td>337.0</td>\n",
       "      <td>2</td>\n",
       "    </tr>\n",
       "    <tr>\n",
       "      <th>1346</th>\n",
       "      <td>2248.0</td>\n",
       "      <td>9</td>\n",
       "    </tr>\n",
       "    <tr>\n",
       "      <th>1431</th>\n",
       "      <td>2486.0</td>\n",
       "      <td>10</td>\n",
       "    </tr>\n",
       "    <tr>\n",
       "      <th>1435</th>\n",
       "      <td>2174.0</td>\n",
       "      <td>9</td>\n",
       "    </tr>\n",
       "    <tr>\n",
       "      <th>1497</th>\n",
       "      <td>1744.0</td>\n",
       "      <td>7</td>\n",
       "    </tr>\n",
       "    <tr>\n",
       "      <th>1528</th>\n",
       "      <td>204.0</td>\n",
       "      <td>1</td>\n",
       "    </tr>\n",
       "    <tr>\n",
       "      <th>1559</th>\n",
       "      <td>1391.0</td>\n",
       "      <td>6</td>\n",
       "    </tr>\n",
       "    <tr>\n",
       "      <th>1563</th>\n",
       "      <td>1205.0</td>\n",
       "      <td>5</td>\n",
       "    </tr>\n",
       "    <tr>\n",
       "      <th>1625</th>\n",
       "      <td>1514.0</td>\n",
       "      <td>7</td>\n",
       "    </tr>\n",
       "    <tr>\n",
       "      <th>1637</th>\n",
       "      <td>2475.0</td>\n",
       "      <td>10</td>\n",
       "    </tr>\n",
       "    <tr>\n",
       "      <th>1747</th>\n",
       "      <td>3784.0</td>\n",
       "      <td>11</td>\n",
       "    </tr>\n",
       "    <tr>\n",
       "      <th>1775</th>\n",
       "      <td>175.0</td>\n",
       "      <td>1</td>\n",
       "    </tr>\n",
       "    <tr>\n",
       "      <th>1806</th>\n",
       "      <td>3711.0</td>\n",
       "      <td>11</td>\n",
       "    </tr>\n",
       "  </tbody>\n",
       "</table>\n",
       "</div>"
      ],
      "text/plain": [
       "      DISTANCE  DISTANCE_GROUP\n",
       "0        986.0               4\n",
       "57      2422.0              10\n",
       "119     1829.0               8\n",
       "153      868.0               4\n",
       "184      550.0               3\n",
       "239     2311.0              10\n",
       "270     1012.0               5\n",
       "301     1005.0               5\n",
       "332     1709.0               7\n",
       "394     2504.0              11\n",
       "456     1121.0               5\n",
       "517      964.0               4\n",
       "552     1089.0               5\n",
       "614     1521.0               7\n",
       "674     2342.0              10\n",
       "736     1055.0               5\n",
       "798      236.0               1\n",
       "856      944.0               4\n",
       "918      989.0               4\n",
       "980      813.0               4\n",
       "1000    1623.0               7\n",
       "1013     867.0               4\n",
       "1070     187.0               1\n",
       "1109    2611.0              11\n",
       "1140    1119.0               5\n",
       "1166     985.0               4\n",
       "1255    2585.0              11\n",
       "1286     337.0               2\n",
       "1346    2248.0               9\n",
       "1431    2486.0              10\n",
       "1435    2174.0               9\n",
       "1497    1744.0               7\n",
       "1528     204.0               1\n",
       "1559    1391.0               6\n",
       "1563    1205.0               5\n",
       "1625    1514.0               7\n",
       "1637    2475.0              10\n",
       "1747    3784.0              11\n",
       "1775     175.0               1\n",
       "1806    3711.0              11"
      ]
     },
     "execution_count": 271,
     "metadata": {},
     "output_type": "execute_result"
    }
   ],
   "source": [
    "df[['DISTANCE', 'DISTANCE_GROUP']].drop_duplicates().head(40)"
   ]
  },
  {
   "cell_type": "markdown",
   "metadata": {},
   "source": [
    "### CARRIER_DELAY, WEATHER_DELAY, NAS_DELAY, SECURITY_DELAY, LATE_AIRCRAFT_DELAY, FIRST_DEP_TIME, TOTAL_ADD_GTIME, LONGEST_ADD_GTIME"
   ]
  },
  {
   "cell_type": "code",
   "execution_count": 218,
   "metadata": {},
   "outputs": [
    {
     "data": {
      "text/html": [
       "<div>\n",
       "<style scoped>\n",
       "    .dataframe tbody tr th:only-of-type {\n",
       "        vertical-align: middle;\n",
       "    }\n",
       "\n",
       "    .dataframe tbody tr th {\n",
       "        vertical-align: top;\n",
       "    }\n",
       "\n",
       "    .dataframe thead th {\n",
       "        text-align: right;\n",
       "    }\n",
       "</style>\n",
       "<table border=\"1\" class=\"dataframe\">\n",
       "  <thead>\n",
       "    <tr style=\"text-align: right;\">\n",
       "      <th></th>\n",
       "      <th>FLIGHTS</th>\n",
       "      <th>DISTANCE</th>\n",
       "      <th>DISTANCE_GROUP</th>\n",
       "      <th>CARRIER_DELAY</th>\n",
       "      <th>WEATHER_DELAY</th>\n",
       "      <th>NAS_DELAY</th>\n",
       "      <th>SECURITY_DELAY</th>\n",
       "      <th>LATE_AIRCRAFT_DELAY</th>\n",
       "      <th>FIRST_DEP_TIME</th>\n",
       "      <th>TOTAL_ADD_GTIME</th>\n",
       "      <th>LONGEST_ADD_GTIME</th>\n",
       "    </tr>\n",
       "  </thead>\n",
       "  <tbody>\n",
       "    <tr>\n",
       "      <th>0</th>\n",
       "      <td>1.0</td>\n",
       "      <td>986.0</td>\n",
       "      <td>4.0</td>\n",
       "      <td>NaN</td>\n",
       "      <td>NaN</td>\n",
       "      <td>NaN</td>\n",
       "      <td>NaN</td>\n",
       "      <td>NaN</td>\n",
       "      <td>NaN</td>\n",
       "      <td>NaN</td>\n",
       "      <td>NaN</td>\n",
       "    </tr>\n",
       "    <tr>\n",
       "      <th>1</th>\n",
       "      <td>1.0</td>\n",
       "      <td>986.0</td>\n",
       "      <td>4.0</td>\n",
       "      <td>NaN</td>\n",
       "      <td>NaN</td>\n",
       "      <td>NaN</td>\n",
       "      <td>NaN</td>\n",
       "      <td>NaN</td>\n",
       "      <td>NaN</td>\n",
       "      <td>NaN</td>\n",
       "      <td>NaN</td>\n",
       "    </tr>\n",
       "    <tr>\n",
       "      <th>2</th>\n",
       "      <td>1.0</td>\n",
       "      <td>986.0</td>\n",
       "      <td>4.0</td>\n",
       "      <td>NaN</td>\n",
       "      <td>NaN</td>\n",
       "      <td>NaN</td>\n",
       "      <td>NaN</td>\n",
       "      <td>NaN</td>\n",
       "      <td>NaN</td>\n",
       "      <td>NaN</td>\n",
       "      <td>NaN</td>\n",
       "    </tr>\n",
       "    <tr>\n",
       "      <th>3</th>\n",
       "      <td>1.0</td>\n",
       "      <td>986.0</td>\n",
       "      <td>4.0</td>\n",
       "      <td>NaN</td>\n",
       "      <td>NaN</td>\n",
       "      <td>NaN</td>\n",
       "      <td>NaN</td>\n",
       "      <td>NaN</td>\n",
       "      <td>NaN</td>\n",
       "      <td>NaN</td>\n",
       "      <td>NaN</td>\n",
       "    </tr>\n",
       "    <tr>\n",
       "      <th>4</th>\n",
       "      <td>1.0</td>\n",
       "      <td>986.0</td>\n",
       "      <td>4.0</td>\n",
       "      <td>0.0</td>\n",
       "      <td>0.0</td>\n",
       "      <td>47.0</td>\n",
       "      <td>0.0</td>\n",
       "      <td>66.0</td>\n",
       "      <td>NaN</td>\n",
       "      <td>NaN</td>\n",
       "      <td>NaN</td>\n",
       "    </tr>\n",
       "    <tr>\n",
       "      <th>...</th>\n",
       "      <td>...</td>\n",
       "      <td>...</td>\n",
       "      <td>...</td>\n",
       "      <td>...</td>\n",
       "      <td>...</td>\n",
       "      <td>...</td>\n",
       "      <td>...</td>\n",
       "      <td>...</td>\n",
       "      <td>...</td>\n",
       "      <td>...</td>\n",
       "      <td>...</td>\n",
       "    </tr>\n",
       "    <tr>\n",
       "      <th>5635973</th>\n",
       "      <td>1.0</td>\n",
       "      <td>451.0</td>\n",
       "      <td>2.0</td>\n",
       "      <td>NaN</td>\n",
       "      <td>NaN</td>\n",
       "      <td>NaN</td>\n",
       "      <td>NaN</td>\n",
       "      <td>NaN</td>\n",
       "      <td>NaN</td>\n",
       "      <td>NaN</td>\n",
       "      <td>NaN</td>\n",
       "    </tr>\n",
       "    <tr>\n",
       "      <th>5635974</th>\n",
       "      <td>1.0</td>\n",
       "      <td>451.0</td>\n",
       "      <td>2.0</td>\n",
       "      <td>NaN</td>\n",
       "      <td>NaN</td>\n",
       "      <td>NaN</td>\n",
       "      <td>NaN</td>\n",
       "      <td>NaN</td>\n",
       "      <td>NaN</td>\n",
       "      <td>NaN</td>\n",
       "      <td>NaN</td>\n",
       "    </tr>\n",
       "    <tr>\n",
       "      <th>5635975</th>\n",
       "      <td>1.0</td>\n",
       "      <td>1440.0</td>\n",
       "      <td>6.0</td>\n",
       "      <td>NaN</td>\n",
       "      <td>NaN</td>\n",
       "      <td>NaN</td>\n",
       "      <td>NaN</td>\n",
       "      <td>NaN</td>\n",
       "      <td>NaN</td>\n",
       "      <td>NaN</td>\n",
       "      <td>NaN</td>\n",
       "    </tr>\n",
       "    <tr>\n",
       "      <th>5635976</th>\n",
       "      <td>1.0</td>\n",
       "      <td>368.0</td>\n",
       "      <td>2.0</td>\n",
       "      <td>NaN</td>\n",
       "      <td>NaN</td>\n",
       "      <td>NaN</td>\n",
       "      <td>NaN</td>\n",
       "      <td>NaN</td>\n",
       "      <td>NaN</td>\n",
       "      <td>NaN</td>\n",
       "      <td>NaN</td>\n",
       "    </tr>\n",
       "    <tr>\n",
       "      <th>5635977</th>\n",
       "      <td>1.0</td>\n",
       "      <td>368.0</td>\n",
       "      <td>2.0</td>\n",
       "      <td>NaN</td>\n",
       "      <td>NaN</td>\n",
       "      <td>NaN</td>\n",
       "      <td>NaN</td>\n",
       "      <td>NaN</td>\n",
       "      <td>NaN</td>\n",
       "      <td>NaN</td>\n",
       "      <td>NaN</td>\n",
       "    </tr>\n",
       "  </tbody>\n",
       "</table>\n",
       "<p>5635967 rows × 11 columns</p>\n",
       "</div>"
      ],
      "text/plain": [
       "         FLIGHTS  DISTANCE  DISTANCE_GROUP  CARRIER_DELAY  WEATHER_DELAY  \\\n",
       "0            1.0     986.0             4.0            NaN            NaN   \n",
       "1            1.0     986.0             4.0            NaN            NaN   \n",
       "2            1.0     986.0             4.0            NaN            NaN   \n",
       "3            1.0     986.0             4.0            NaN            NaN   \n",
       "4            1.0     986.0             4.0            0.0            0.0   \n",
       "...          ...       ...             ...            ...            ...   \n",
       "5635973      1.0     451.0             2.0            NaN            NaN   \n",
       "5635974      1.0     451.0             2.0            NaN            NaN   \n",
       "5635975      1.0    1440.0             6.0            NaN            NaN   \n",
       "5635976      1.0     368.0             2.0            NaN            NaN   \n",
       "5635977      1.0     368.0             2.0            NaN            NaN   \n",
       "\n",
       "         NAS_DELAY  SECURITY_DELAY  LATE_AIRCRAFT_DELAY  FIRST_DEP_TIME  \\\n",
       "0              NaN             NaN                  NaN             NaN   \n",
       "1              NaN             NaN                  NaN             NaN   \n",
       "2              NaN             NaN                  NaN             NaN   \n",
       "3              NaN             NaN                  NaN             NaN   \n",
       "4             47.0             0.0                 66.0             NaN   \n",
       "...            ...             ...                  ...             ...   \n",
       "5635973        NaN             NaN                  NaN             NaN   \n",
       "5635974        NaN             NaN                  NaN             NaN   \n",
       "5635975        NaN             NaN                  NaN             NaN   \n",
       "5635976        NaN             NaN                  NaN             NaN   \n",
       "5635977        NaN             NaN                  NaN             NaN   \n",
       "\n",
       "         TOTAL_ADD_GTIME  LONGEST_ADD_GTIME  \n",
       "0                    NaN                NaN  \n",
       "1                    NaN                NaN  \n",
       "2                    NaN                NaN  \n",
       "3                    NaN                NaN  \n",
       "4                    NaN                NaN  \n",
       "...                  ...                ...  \n",
       "5635973              NaN                NaN  \n",
       "5635974              NaN                NaN  \n",
       "5635975              NaN                NaN  \n",
       "5635976              NaN                NaN  \n",
       "5635977              NaN                NaN  \n",
       "\n",
       "[5635967 rows x 11 columns]"
      ]
     },
     "execution_count": 218,
     "metadata": {},
     "output_type": "execute_result"
    }
   ],
   "source": [
    "df[['FLIGHTS', 'DISTANCE', 'DISTANCE_GROUP', 'CARRIER_DELAY', 'WEATHER_DELAY', 'NAS_DELAY', 'SECURITY_DELAY', 'LATE_AIRCRAFT_DELAY', 'FIRST_DEP_TIME', 'TOTAL_ADD_GTIME', 'LONGEST_ADD_GTIME']]"
   ]
  },
  {
   "cell_type": "code",
   "execution_count": 221,
   "metadata": {},
   "outputs": [
    {
     "data": {
      "text/plain": [
       "FLIGHTS                float64\n",
       "DISTANCE               float64\n",
       "DISTANCE_GROUP         float64\n",
       "CARRIER_DELAY          float64\n",
       "WEATHER_DELAY          float64\n",
       "NAS_DELAY              float64\n",
       "SECURITY_DELAY         float64\n",
       "LATE_AIRCRAFT_DELAY    float64\n",
       "FIRST_DEP_TIME         float64\n",
       "TOTAL_ADD_GTIME        float64\n",
       "LONGEST_ADD_GTIME      float64\n",
       "dtype: object"
      ]
     },
     "execution_count": 221,
     "metadata": {},
     "output_type": "execute_result"
    }
   ],
   "source": [
    "df[['FLIGHTS', 'DISTANCE', 'DISTANCE_GROUP', 'CARRIER_DELAY', 'WEATHER_DELAY', 'NAS_DELAY', 'SECURITY_DELAY', 'LATE_AIRCRAFT_DELAY', 'FIRST_DEP_TIME', 'TOTAL_ADD_GTIME', 'LONGEST_ADD_GTIME']].dtypes"
   ]
  },
  {
   "cell_type": "code",
   "execution_count": 222,
   "metadata": {},
   "outputs": [
    {
     "data": {
      "text/plain": [
       "FLIGHTS                      0\n",
       "DISTANCE                     0\n",
       "DISTANCE_GROUP               0\n",
       "CARRIER_DELAY          4667527\n",
       "WEATHER_DELAY          4667527\n",
       "NAS_DELAY              4667527\n",
       "SECURITY_DELAY         4667527\n",
       "LATE_AIRCRAFT_DELAY    4667527\n",
       "FIRST_DEP_TIME         5601434\n",
       "TOTAL_ADD_GTIME        5601434\n",
       "LONGEST_ADD_GTIME      5601434\n",
       "dtype: int64"
      ]
     },
     "execution_count": 222,
     "metadata": {},
     "output_type": "execute_result"
    }
   ],
   "source": [
    "df[['FLIGHTS', 'DISTANCE', 'DISTANCE_GROUP', 'CARRIER_DELAY', 'WEATHER_DELAY', 'NAS_DELAY', 'SECURITY_DELAY', 'LATE_AIRCRAFT_DELAY', 'FIRST_DEP_TIME', 'TOTAL_ADD_GTIME', 'LONGEST_ADD_GTIME']].isna().sum()"
   ]
  },
  {
   "cell_type": "code",
   "execution_count": 225,
   "metadata": {},
   "outputs": [
    {
     "name": "stdout",
     "output_type": "stream",
     "text": [
      "1207\n",
      "MAX: 2142.0\n",
      "MIX: 0.0\n"
     ]
    }
   ],
   "source": [
    "print(df['CARRIER_DELAY'].nunique())\n",
    "print(f\"MAX: {df['CARRIER_DELAY'].max()}\")\n",
    "print(f\"MIN: {df['CARRIER_DELAY'].min()}\")"
   ]
  },
  {
   "cell_type": "code",
   "execution_count": 227,
   "metadata": {},
   "outputs": [
    {
     "name": "stdout",
     "output_type": "stream",
     "text": [
      "688\n",
      "MAX: 1157.0\n",
      "MIX: 0.0\n"
     ]
    }
   ],
   "source": [
    "print(df['WEATHER_DELAY'].nunique())\n",
    "print(f\"MAX: {df['WEATHER_DELAY'].max()}\")\n",
    "print(f\"MIN: {df['WEATHER_DELAY'].min()}\")\n"
   ]
  },
  {
   "cell_type": "code",
   "execution_count": 228,
   "metadata": {},
   "outputs": [
    {
     "name": "stdout",
     "output_type": "stream",
     "text": [
      "608\n",
      "MAX: 1446.0\n",
      "MIX: 0.0\n"
     ]
    }
   ],
   "source": [
    "print(df['NAS_DELAY'].nunique())\n",
    "print(f\"MAX: {df['NAS_DELAY'].max()}\")\n",
    "print(f\"MIN: {df['NAS_DELAY'].min()}\")\n"
   ]
  },
  {
   "cell_type": "code",
   "execution_count": 229,
   "metadata": {},
   "outputs": [
    {
     "name": "stdout",
     "output_type": "stream",
     "text": [
      "172\n",
      "MAX: 474.0\n",
      "MIX: 0.0\n"
     ]
    }
   ],
   "source": [
    "print(df['SECURITY_DELAY'].nunique())\n",
    "print(f\"MAX: {df['SECURITY_DELAY'].max()}\")\n",
    "print(f\"MIN: {df['SECURITY_DELAY'].min()}\")\n"
   ]
  },
  {
   "cell_type": "code",
   "execution_count": 230,
   "metadata": {},
   "outputs": [
    {
     "data": {
      "text/plain": [
       "array([ nan,   0.,  24.,   1.,  96.,   5.,  14.,  23.,  49.,  16.,  13.,\n",
       "         8.,   3.,  12.,  20.,   4.,  30.,   6.,  15.,  21.,  42.,   2.,\n",
       "        50.,  32.,  34.,  11.,   7.,   9., 242.,  28.,  48.,  53.,  10.,\n",
       "        18.,  55.,  73.,  59., 115.,  19.,  60.,  79.,  33.,  29.,  39.,\n",
       "       125.,  26.,  17.,  25.,  22.,  36., 233.,  38., 123.,  77.,  54.,\n",
       "        35., 116.,  40.,  74., 179.,  80., 110.,  85.,  56.,  44.,  45.,\n",
       "        41.,  43., 108.,  27.,  86., 124., 109.,  57.,  47., 164.,  31.,\n",
       "        78.,  81., 114.,  98.,  37.,  65.,  61., 474., 100.,  87.,  58.,\n",
       "        52., 210.,  67.,  72.,  63.,  90.,  46., 118., 222.,  68.,  76.,\n",
       "        71.,  89., 101., 232., 145.,  92.,  62., 206., 182., 138., 128.,\n",
       "       146., 207.,  82.,  97., 132., 161., 152., 134., 184., 167., 129.,\n",
       "       166., 141., 126., 180., 158., 119., 142.,  64.,  69., 140., 163.,\n",
       "       120., 105.,  51., 135.,  93., 104., 136., 162.,  70., 151., 107.,\n",
       "        75., 173.,  91.,  94.,  84., 127., 170., 282., 137.,  66.,  88.,\n",
       "       121., 219., 349., 201., 168., 155., 197., 150., 143., 139., 130.,\n",
       "       122., 327., 214., 176., 165., 113., 186., 437.])"
      ]
     },
     "execution_count": 230,
     "metadata": {},
     "output_type": "execute_result"
    }
   ],
   "source": [
    "df['SECURITY_DELAY'].unique()"
   ]
  },
  {
   "cell_type": "code",
   "execution_count": 231,
   "metadata": {},
   "outputs": [
    {
     "name": "stdout",
     "output_type": "stream",
     "text": [
      "749\n",
      "MAX: 1484.0\n",
      "MIX: 0.0\n"
     ]
    }
   ],
   "source": [
    "print(df['LATE_AIRCRAFT_DELAY'].nunique())\n",
    "print(f\"MAX: {df['LATE_AIRCRAFT_DELAY'].max()}\")\n",
    "print(f\"MIN: {df['LATE_AIRCRAFT_DELAY'].min()}\")\n"
   ]
  },
  {
   "cell_type": "code",
   "execution_count": 232,
   "metadata": {},
   "outputs": [
    {
     "name": "stdout",
     "output_type": "stream",
     "text": [
      "1293\n",
      "MAX: 2400.0\n",
      "MIX: 1.0\n"
     ]
    }
   ],
   "source": [
    "print(df['FIRST_DEP_TIME'].nunique())\n",
    "print(f\"MAX: {df['FIRST_DEP_TIME'].max()}\")\n",
    "print(f\"MIN: {df['FIRST_DEP_TIME'].min()}\")\n"
   ]
  },
  {
   "cell_type": "code",
   "execution_count": 233,
   "metadata": {},
   "outputs": [
    {
     "name": "stdout",
     "output_type": "stream",
     "text": [
      "235\n",
      "MAX: 335.0\n",
      "MIN: 1.0\n"
     ]
    }
   ],
   "source": [
    "print(df['TOTAL_ADD_GTIME'].nunique())\n",
    "print(f\"MAX: {df['TOTAL_ADD_GTIME'].max()}\")\n",
    "print(f\"MIN: {df['TOTAL_ADD_GTIME'].min()}\")\n",
    "\n"
   ]
  },
  {
   "cell_type": "code",
   "execution_count": 234,
   "metadata": {},
   "outputs": [
    {
     "name": "stdout",
     "output_type": "stream",
     "text": [
      "202\n",
      "MAX: 265.0\n",
      "MIN: 1.0\n"
     ]
    }
   ],
   "source": [
    "print(df['LONGEST_ADD_GTIME'].nunique())\n",
    "print(f\"MAX: {df['LONGEST_ADD_GTIME'].max()}\")\n",
    "print(f\"MIN: {df['LONGEST_ADD_GTIME'].min()}\")\n",
    "\n",
    "\n"
   ]
  },
  {
   "cell_type": "code",
   "execution_count": 236,
   "metadata": {},
   "outputs": [
    {
     "data": {
      "text/plain": [
       "0.6165028455213434"
      ]
     },
     "execution_count": 236,
     "metadata": {},
     "output_type": "execute_result"
    }
   ],
   "source": [
    "df['LONGEST_ADD_GTIME'].count() / df['LONGEST_ADD_GTIME'].isna().sum() * 100"
   ]
  },
  {
   "cell_type": "code",
   "execution_count": 237,
   "metadata": {},
   "outputs": [
    {
     "data": {
      "text/plain": [
       "20.748460587373142"
      ]
     },
     "execution_count": 237,
     "metadata": {},
     "output_type": "execute_result"
    }
   ],
   "source": [
    "df['CARRIER_DELAY'].count() / df['CARRIER_DELAY'].isna().sum() * 100"
   ]
  },
  {
   "cell_type": "code",
   "execution_count": 243,
   "metadata": {},
   "outputs": [
    {
     "data": {
      "text/html": [
       "<div>\n",
       "<style scoped>\n",
       "    .dataframe tbody tr th:only-of-type {\n",
       "        vertical-align: middle;\n",
       "    }\n",
       "\n",
       "    .dataframe tbody tr th {\n",
       "        vertical-align: top;\n",
       "    }\n",
       "\n",
       "    .dataframe thead th {\n",
       "        text-align: right;\n",
       "    }\n",
       "</style>\n",
       "<table border=\"1\" class=\"dataframe\">\n",
       "  <thead>\n",
       "    <tr style=\"text-align: right;\">\n",
       "      <th></th>\n",
       "      <th>CARRIER_DELAY</th>\n",
       "      <th>WEATHER_DELAY</th>\n",
       "      <th>NAS_DELAY</th>\n",
       "      <th>SECURITY_DELAY</th>\n",
       "    </tr>\n",
       "  </thead>\n",
       "  <tbody>\n",
       "    <tr>\n",
       "      <th>4</th>\n",
       "      <td>0.0</td>\n",
       "      <td>0.0</td>\n",
       "      <td>47.0</td>\n",
       "      <td>0.0</td>\n",
       "    </tr>\n",
       "    <tr>\n",
       "      <th>15</th>\n",
       "      <td>0.0</td>\n",
       "      <td>21.0</td>\n",
       "      <td>0.0</td>\n",
       "      <td>0.0</td>\n",
       "    </tr>\n",
       "    <tr>\n",
       "      <th>22</th>\n",
       "      <td>0.0</td>\n",
       "      <td>0.0</td>\n",
       "      <td>15.0</td>\n",
       "      <td>0.0</td>\n",
       "    </tr>\n",
       "    <tr>\n",
       "      <th>24</th>\n",
       "      <td>63.0</td>\n",
       "      <td>0.0</td>\n",
       "      <td>0.0</td>\n",
       "      <td>0.0</td>\n",
       "    </tr>\n",
       "    <tr>\n",
       "      <th>26</th>\n",
       "      <td>26.0</td>\n",
       "      <td>0.0</td>\n",
       "      <td>6.0</td>\n",
       "      <td>0.0</td>\n",
       "    </tr>\n",
       "    <tr>\n",
       "      <th>...</th>\n",
       "      <td>...</td>\n",
       "      <td>...</td>\n",
       "      <td>...</td>\n",
       "      <td>...</td>\n",
       "    </tr>\n",
       "    <tr>\n",
       "      <th>5635923</th>\n",
       "      <td>19.0</td>\n",
       "      <td>0.0</td>\n",
       "      <td>6.0</td>\n",
       "      <td>0.0</td>\n",
       "    </tr>\n",
       "    <tr>\n",
       "      <th>5635933</th>\n",
       "      <td>0.0</td>\n",
       "      <td>0.0</td>\n",
       "      <td>0.0</td>\n",
       "      <td>0.0</td>\n",
       "    </tr>\n",
       "    <tr>\n",
       "      <th>5635937</th>\n",
       "      <td>51.0</td>\n",
       "      <td>0.0</td>\n",
       "      <td>0.0</td>\n",
       "      <td>0.0</td>\n",
       "    </tr>\n",
       "    <tr>\n",
       "      <th>5635946</th>\n",
       "      <td>0.0</td>\n",
       "      <td>0.0</td>\n",
       "      <td>22.0</td>\n",
       "      <td>0.0</td>\n",
       "    </tr>\n",
       "    <tr>\n",
       "      <th>5635949</th>\n",
       "      <td>8.0</td>\n",
       "      <td>0.0</td>\n",
       "      <td>0.0</td>\n",
       "      <td>0.0</td>\n",
       "    </tr>\n",
       "  </tbody>\n",
       "</table>\n",
       "<p>968440 rows × 4 columns</p>\n",
       "</div>"
      ],
      "text/plain": [
       "         CARRIER_DELAY  WEATHER_DELAY  NAS_DELAY  SECURITY_DELAY\n",
       "4                  0.0            0.0       47.0             0.0\n",
       "15                 0.0           21.0        0.0             0.0\n",
       "22                 0.0            0.0       15.0             0.0\n",
       "24                63.0            0.0        0.0             0.0\n",
       "26                26.0            0.0        6.0             0.0\n",
       "...                ...            ...        ...             ...\n",
       "5635923           19.0            0.0        6.0             0.0\n",
       "5635933            0.0            0.0        0.0             0.0\n",
       "5635937           51.0            0.0        0.0             0.0\n",
       "5635946            0.0            0.0       22.0             0.0\n",
       "5635949            8.0            0.0        0.0             0.0\n",
       "\n",
       "[968440 rows x 4 columns]"
      ]
     },
     "execution_count": 243,
     "metadata": {},
     "output_type": "execute_result"
    }
   ],
   "source": [
    "df[['CARRIER_DELAY', 'WEATHER_DELAY', 'NAS_DELAY', 'SECURITY_DELAY']].dropna()"
   ]
  },
  {
   "cell_type": "code",
   "execution_count": 244,
   "metadata": {},
   "outputs": [],
   "source": [
    "cols = ['CARRIER_DELAY', 'WEATHER_DELAY', 'NAS_DELAY', 'SECURITY_DELAY']\n",
    "\n",
    "for col in cols:\n",
    "    df[col] = df[col].astype('Int64')\n",
    "    "
   ]
  },
  {
   "cell_type": "code",
   "execution_count": 245,
   "metadata": {},
   "outputs": [
    {
     "data": {
      "text/html": [
       "<div>\n",
       "<style scoped>\n",
       "    .dataframe tbody tr th:only-of-type {\n",
       "        vertical-align: middle;\n",
       "    }\n",
       "\n",
       "    .dataframe tbody tr th {\n",
       "        vertical-align: top;\n",
       "    }\n",
       "\n",
       "    .dataframe thead th {\n",
       "        text-align: right;\n",
       "    }\n",
       "</style>\n",
       "<table border=\"1\" class=\"dataframe\">\n",
       "  <thead>\n",
       "    <tr style=\"text-align: right;\">\n",
       "      <th></th>\n",
       "      <th>CARRIER_DELAY</th>\n",
       "      <th>WEATHER_DELAY</th>\n",
       "      <th>NAS_DELAY</th>\n",
       "      <th>SECURITY_DELAY</th>\n",
       "    </tr>\n",
       "  </thead>\n",
       "  <tbody>\n",
       "    <tr>\n",
       "      <th>4</th>\n",
       "      <td>0</td>\n",
       "      <td>0</td>\n",
       "      <td>47</td>\n",
       "      <td>0</td>\n",
       "    </tr>\n",
       "    <tr>\n",
       "      <th>15</th>\n",
       "      <td>0</td>\n",
       "      <td>21</td>\n",
       "      <td>0</td>\n",
       "      <td>0</td>\n",
       "    </tr>\n",
       "    <tr>\n",
       "      <th>22</th>\n",
       "      <td>0</td>\n",
       "      <td>0</td>\n",
       "      <td>15</td>\n",
       "      <td>0</td>\n",
       "    </tr>\n",
       "    <tr>\n",
       "      <th>24</th>\n",
       "      <td>63</td>\n",
       "      <td>0</td>\n",
       "      <td>0</td>\n",
       "      <td>0</td>\n",
       "    </tr>\n",
       "    <tr>\n",
       "      <th>26</th>\n",
       "      <td>26</td>\n",
       "      <td>0</td>\n",
       "      <td>6</td>\n",
       "      <td>0</td>\n",
       "    </tr>\n",
       "    <tr>\n",
       "      <th>...</th>\n",
       "      <td>...</td>\n",
       "      <td>...</td>\n",
       "      <td>...</td>\n",
       "      <td>...</td>\n",
       "    </tr>\n",
       "    <tr>\n",
       "      <th>5635923</th>\n",
       "      <td>19</td>\n",
       "      <td>0</td>\n",
       "      <td>6</td>\n",
       "      <td>0</td>\n",
       "    </tr>\n",
       "    <tr>\n",
       "      <th>5635933</th>\n",
       "      <td>0</td>\n",
       "      <td>0</td>\n",
       "      <td>0</td>\n",
       "      <td>0</td>\n",
       "    </tr>\n",
       "    <tr>\n",
       "      <th>5635937</th>\n",
       "      <td>51</td>\n",
       "      <td>0</td>\n",
       "      <td>0</td>\n",
       "      <td>0</td>\n",
       "    </tr>\n",
       "    <tr>\n",
       "      <th>5635946</th>\n",
       "      <td>0</td>\n",
       "      <td>0</td>\n",
       "      <td>22</td>\n",
       "      <td>0</td>\n",
       "    </tr>\n",
       "    <tr>\n",
       "      <th>5635949</th>\n",
       "      <td>8</td>\n",
       "      <td>0</td>\n",
       "      <td>0</td>\n",
       "      <td>0</td>\n",
       "    </tr>\n",
       "  </tbody>\n",
       "</table>\n",
       "<p>968440 rows × 4 columns</p>\n",
       "</div>"
      ],
      "text/plain": [
       "         CARRIER_DELAY  WEATHER_DELAY  NAS_DELAY  SECURITY_DELAY\n",
       "4                    0              0         47               0\n",
       "15                   0             21          0               0\n",
       "22                   0              0         15               0\n",
       "24                  63              0          0               0\n",
       "26                  26              0          6               0\n",
       "...                ...            ...        ...             ...\n",
       "5635923             19              0          6               0\n",
       "5635933              0              0          0               0\n",
       "5635937             51              0          0               0\n",
       "5635946              0              0         22               0\n",
       "5635949              8              0          0               0\n",
       "\n",
       "[968440 rows x 4 columns]"
      ]
     },
     "execution_count": 245,
     "metadata": {},
     "output_type": "execute_result"
    }
   ],
   "source": [
    "df[cols].dropna()"
   ]
  },
  {
   "cell_type": "code",
   "execution_count": 246,
   "metadata": {},
   "outputs": [
    {
     "data": {
      "text/plain": [
       "CARRIER_DELAY     4667527\n",
       "WEATHER_DELAY     4667527\n",
       "NAS_DELAY         4667527\n",
       "SECURITY_DELAY    4667527\n",
       "dtype: int64"
      ]
     },
     "execution_count": 246,
     "metadata": {},
     "output_type": "execute_result"
    }
   ],
   "source": [
    "df[cols].isna().sum()"
   ]
  },
  {
   "cell_type": "code",
   "execution_count": 275,
   "metadata": {},
   "outputs": [
    {
     "data": {
      "text/plain": [
       "(5635967, 51)"
      ]
     },
     "execution_count": 275,
     "metadata": {},
     "output_type": "execute_result"
    }
   ],
   "source": [
    "df.shape"
   ]
  }
 ],
 "metadata": {
  "kernelspec": {
   "display_name": "Python 3",
   "language": "python",
   "name": "python3"
  },
  "language_info": {
   "codemirror_mode": {
    "name": "ipython",
    "version": 3
   },
   "file_extension": ".py",
   "mimetype": "text/x-python",
   "name": "python",
   "nbconvert_exporter": "python",
   "pygments_lexer": "ipython3",
   "version": "3.10.6"
  }
 },
 "nbformat": 4,
 "nbformat_minor": 2
}
