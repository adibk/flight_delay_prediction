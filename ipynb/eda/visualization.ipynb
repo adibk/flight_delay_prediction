{
 "cells": [
  {
   "cell_type": "code",
   "execution_count": 93,
   "metadata": {},
   "outputs": [],
   "source": [
    "import pandas as pd\n",
    "import numpy as np\n",
    "import matplotlib.pyplot as plt\n",
    "\n",
    "\n",
    "import mysql.connector\n",
    "from mysql.connector import Error\n",
    "\n",
    "\n",
    "import plotly.express as px\n",
    "import plotly.graph_objects as go"
   ]
  },
  {
   "cell_type": "markdown",
   "metadata": {},
   "source": [
    "## SQL - fetch data"
   ]
  },
  {
   "cell_type": "code",
   "execution_count": 28,
   "metadata": {},
   "outputs": [],
   "source": [
    "def connect_to_database(database, host='localhost', user='root', password='password', v=True):\n",
    "    try:\n",
    "        connection = mysql.connector.connect(\n",
    "            host=host,\n",
    "            database=database,\n",
    "            user=user,\n",
    "            password=password\n",
    "        )\n",
    "        \n",
    "        if connection.is_connected():\n",
    "            db_info = connection.get_server_info()\n",
    "            if v:\n",
    "                print(\"Connected to MySQL Server version\", db_info)\n",
    "            cursor = connection.cursor()\n",
    "            cursor.execute(\"select database();\")\n",
    "            record = cursor.fetchone()\n",
    "            if v:\n",
    "                print(\"You're connected to database:\", record)\n",
    "            return connection, cursor\n",
    "\n",
    "    except Error as e:\n",
    "        if v: \n",
    "            print(\"Error while connecting to MySQL\", e)\n",
    "\n",
    "    return None\n"
   ]
  },
  {
   "cell_type": "code",
   "execution_count": 29,
   "metadata": {},
   "outputs": [],
   "source": [
    "def close_connection(connection, cursor):\n",
    "    if cursor:\n",
    "        cursor.close()\n",
    "    if connection and connection.is_connected():\n",
    "        connection.close()\n",
    "        print(\"MySQL connection is closed\")"
   ]
  },
  {
   "cell_type": "code",
   "execution_count": 30,
   "metadata": {},
   "outputs": [
    {
     "name": "stdout",
     "output_type": "stream",
     "text": [
      "Connected to MySQL Server version 8.3.0\n",
      "You're connected to database: ('flight_prediction',)\n"
     ]
    }
   ],
   "source": [
    "con, cur = connect_to_database('flight_prediction')"
   ]
  },
  {
   "cell_type": "code",
   "execution_count": 31,
   "metadata": {},
   "outputs": [],
   "source": [
    "def execute_query(connection, cursor, query, params=None):\n",
    "    try:\n",
    "        cursor.execute(query, params)\n",
    "        if query.strip().lower().startswith('select') or query.strip().lower().startswith('show'):\n",
    "            result = cursor.fetchall()\n",
    "            return result\n",
    "        else:\n",
    "            connection.commit()\n",
    "            return cursor.rowcount\n",
    "    except Error as e:\n",
    "        print(\"Error executing query:\", e)\n",
    "        return None"
   ]
  },
  {
   "cell_type": "code",
   "execution_count": 32,
   "metadata": {},
   "outputs": [],
   "source": [
    "def put_res(results, query_type=\"SELECT\"):\n",
    "    if not results:\n",
    "        print(\"No results found.\")\n",
    "        return\n",
    "\n",
    "    if query_type.lower() in [\"select\", \"show\"]:\n",
    "        for row in results:\n",
    "            print(row)\n",
    "    else:\n",
    "        print(f\"Affected rows: {results}\")"
   ]
  },
  {
   "cell_type": "code",
   "execution_count": 33,
   "metadata": {},
   "outputs": [
    {
     "name": "stdout",
     "output_type": "stream",
     "text": [
      "('airline',)\n",
      "('airport',)\n",
      "('delay',)\n",
      "('flight',)\n",
      "('states',)\n"
     ]
    }
   ],
   "source": [
    "res = execute_query(con, cur, 'SHOW TABLES', params=None)\n",
    "put_res(res)"
   ]
  },
  {
   "cell_type": "code",
   "execution_count": 34,
   "metadata": {},
   "outputs": [],
   "source": [
    "# res = execute_query(con, cur, 'select * from flight join airport on origin_airport_seq_ID=airport_seq_ID join states on airport.state_ID=states.abr limit 10;', params=None)\n",
    "# put_res(res)"
   ]
  },
  {
   "cell_type": "code",
   "execution_count": 35,
   "metadata": {},
   "outputs": [],
   "source": [
    "def fetch_data_to_dataframe(connection, query):\n",
    "    cursor = None\n",
    "    try:\n",
    "        cursor = connection.cursor()\n",
    "        cursor.execute(query)\n",
    "        res = cursor.fetchall()\n",
    "        columns = [desc[0] for desc in cursor.description]\n",
    "        df = pd.DataFrame(res, columns=columns)\n",
    "        return df\n",
    "    except Error as e:\n",
    "        print(f\"Error fetching data: {e}\")\n",
    "        return None\n",
    "    finally:\n",
    "        if cursor:\n",
    "            cursor.close()"
   ]
  },
  {
   "cell_type": "code",
   "execution_count": 36,
   "metadata": {},
   "outputs": [],
   "source": [
    "# query = '''\n",
    "# SELECT \n",
    "#     f.*, \n",
    "#     ao.airport_ID AS origin_airport_ID,\n",
    "#     ao.airport_seq_ID AS origin_airport_seq_ID,\n",
    "#     ao.city_market_ID AS origin_city_market_ID,\n",
    "#     ao.city AS origin_city,\n",
    "    \n",
    "#     so.abr AS origin_state_abr,\n",
    "#     so.FIPS AS origin_state_FIPS,\n",
    "#     so.name AS origin_state_name,\n",
    "#     so.WAC AS origin_state_WAC,\n",
    "    \n",
    "#     ad.airport_ID AS dest_airport_ID,\n",
    "#     ad.airport_seq_ID AS dest_airport_seq_ID,\n",
    "#     ad.city_market_ID AS dest_city_market_ID,\n",
    "#     ad.city AS dest_city,\n",
    "    \n",
    "#     sd.abr AS dest_state_abr,\n",
    "#     sd.FIPS AS dest_state_FIPS,\n",
    "#     sd.name AS dest_state_name,\n",
    "#     sd.WAC AS dest_state_WAC\n",
    "# FROM \n",
    "#     flight f\n",
    "# LEFT JOIN \n",
    "#     airport ao ON f.origin_airport_seq_ID = ao.airport_seq_ID\n",
    "# LEFT JOIN \n",
    "#     states so ON ao.state_ID = so.abr\n",
    "# LEFT JOIN \n",
    "#     airport ad ON f.dest_airport_seq_ID = ad.airport_seq_ID\n",
    "# LEFT JOIN \n",
    "#     states sd ON ad.state_ID = sd.abr;limit 10\n",
    "# '''\n",
    "# df = fetch_data_to_dataframe(con, query)"
   ]
  },
  {
   "cell_type": "code",
   "execution_count": 37,
   "metadata": {},
   "outputs": [],
   "source": [
    "query = '''\n",
    "SELECT\n",
    "    *\n",
    "FROM \n",
    "    flight\n",
    "'''\n",
    "df_flight = fetch_data_to_dataframe(con, query)"
   ]
  },
  {
   "cell_type": "code",
   "execution_count": 38,
   "metadata": {},
   "outputs": [
    {
     "data": {
      "text/html": [
       "<div>\n",
       "<style scoped>\n",
       "    .dataframe tbody tr th:only-of-type {\n",
       "        vertical-align: middle;\n",
       "    }\n",
       "\n",
       "    .dataframe tbody tr th {\n",
       "        vertical-align: top;\n",
       "    }\n",
       "\n",
       "    .dataframe thead th {\n",
       "        text-align: right;\n",
       "    }\n",
       "</style>\n",
       "<table border=\"1\" class=\"dataframe\">\n",
       "  <thead>\n",
       "    <tr style=\"text-align: right;\">\n",
       "      <th></th>\n",
       "      <th>ID</th>\n",
       "      <th>date</th>\n",
       "      <th>airline_ID</th>\n",
       "      <th>tail_num</th>\n",
       "      <th>fl_num</th>\n",
       "      <th>origin_airport_seq_ID</th>\n",
       "      <th>dest_airport_seq_ID</th>\n",
       "      <th>dep_time</th>\n",
       "      <th>arr_time</th>\n",
       "      <th>duration</th>\n",
       "      <th>distance</th>\n",
       "      <th>distance_group</th>\n",
       "    </tr>\n",
       "  </thead>\n",
       "  <tbody>\n",
       "    <tr>\n",
       "      <th>0</th>\n",
       "      <td>1</td>\n",
       "      <td>2016-01-06</td>\n",
       "      <td>19805</td>\n",
       "      <td>N4YBAA</td>\n",
       "      <td>43</td>\n",
       "      <td>1129804</td>\n",
       "      <td>1143302</td>\n",
       "      <td>1100</td>\n",
       "      <td>1438</td>\n",
       "      <td>158</td>\n",
       "      <td>986</td>\n",
       "      <td>4</td>\n",
       "    </tr>\n",
       "    <tr>\n",
       "      <th>1</th>\n",
       "      <td>2</td>\n",
       "      <td>2016-01-07</td>\n",
       "      <td>19805</td>\n",
       "      <td>N434AA</td>\n",
       "      <td>43</td>\n",
       "      <td>1129804</td>\n",
       "      <td>1143302</td>\n",
       "      <td>1100</td>\n",
       "      <td>1438</td>\n",
       "      <td>158</td>\n",
       "      <td>986</td>\n",
       "      <td>4</td>\n",
       "    </tr>\n",
       "    <tr>\n",
       "      <th>2</th>\n",
       "      <td>3</td>\n",
       "      <td>2016-01-08</td>\n",
       "      <td>19805</td>\n",
       "      <td>N541AA</td>\n",
       "      <td>43</td>\n",
       "      <td>1129804</td>\n",
       "      <td>1143302</td>\n",
       "      <td>1100</td>\n",
       "      <td>1438</td>\n",
       "      <td>158</td>\n",
       "      <td>986</td>\n",
       "      <td>4</td>\n",
       "    </tr>\n",
       "    <tr>\n",
       "      <th>3</th>\n",
       "      <td>4</td>\n",
       "      <td>2016-01-09</td>\n",
       "      <td>19805</td>\n",
       "      <td>N489AA</td>\n",
       "      <td>43</td>\n",
       "      <td>1129804</td>\n",
       "      <td>1143302</td>\n",
       "      <td>1100</td>\n",
       "      <td>1438</td>\n",
       "      <td>158</td>\n",
       "      <td>986</td>\n",
       "      <td>4</td>\n",
       "    </tr>\n",
       "    <tr>\n",
       "      <th>4</th>\n",
       "      <td>5</td>\n",
       "      <td>2016-01-10</td>\n",
       "      <td>19805</td>\n",
       "      <td>N439AA</td>\n",
       "      <td>43</td>\n",
       "      <td>1129804</td>\n",
       "      <td>1143302</td>\n",
       "      <td>1100</td>\n",
       "      <td>1438</td>\n",
       "      <td>158</td>\n",
       "      <td>986</td>\n",
       "      <td>4</td>\n",
       "    </tr>\n",
       "    <tr>\n",
       "      <th>...</th>\n",
       "      <td>...</td>\n",
       "      <td>...</td>\n",
       "      <td>...</td>\n",
       "      <td>...</td>\n",
       "      <td>...</td>\n",
       "      <td>...</td>\n",
       "      <td>...</td>\n",
       "      <td>...</td>\n",
       "      <td>...</td>\n",
       "      <td>...</td>\n",
       "      <td>...</td>\n",
       "      <td>...</td>\n",
       "    </tr>\n",
       "    <tr>\n",
       "      <th>5635962</th>\n",
       "      <td>5635963</td>\n",
       "      <td>2016-12-31</td>\n",
       "      <td>19393</td>\n",
       "      <td>N7703A</td>\n",
       "      <td>1077</td>\n",
       "      <td>1537602</td>\n",
       "      <td>1289204</td>\n",
       "      <td>755</td>\n",
       "      <td>830</td>\n",
       "      <td>95</td>\n",
       "      <td>451</td>\n",
       "      <td>2</td>\n",
       "    </tr>\n",
       "    <tr>\n",
       "      <th>5635963</th>\n",
       "      <td>5635964</td>\n",
       "      <td>2016-12-31</td>\n",
       "      <td>19393</td>\n",
       "      <td>N7815L</td>\n",
       "      <td>1345</td>\n",
       "      <td>1537602</td>\n",
       "      <td>1289204</td>\n",
       "      <td>1320</td>\n",
       "      <td>1355</td>\n",
       "      <td>95</td>\n",
       "      <td>451</td>\n",
       "      <td>2</td>\n",
       "    </tr>\n",
       "    <tr>\n",
       "      <th>5635964</th>\n",
       "      <td>5635965</td>\n",
       "      <td>2016-12-31</td>\n",
       "      <td>19393</td>\n",
       "      <td>N967WN</td>\n",
       "      <td>1176</td>\n",
       "      <td>1537602</td>\n",
       "      <td>1323202</td>\n",
       "      <td>705</td>\n",
       "      <td>1125</td>\n",
       "      <td>200</td>\n",
       "      <td>1440</td>\n",
       "      <td>6</td>\n",
       "    </tr>\n",
       "    <tr>\n",
       "      <th>5635965</th>\n",
       "      <td>5635966</td>\n",
       "      <td>2016-12-31</td>\n",
       "      <td>19393</td>\n",
       "      <td>N271LV</td>\n",
       "      <td>865</td>\n",
       "      <td>1537602</td>\n",
       "      <td>1467903</td>\n",
       "      <td>1220</td>\n",
       "      <td>1235</td>\n",
       "      <td>75</td>\n",
       "      <td>368</td>\n",
       "      <td>2</td>\n",
       "    </tr>\n",
       "    <tr>\n",
       "      <th>5635966</th>\n",
       "      <td>5635967</td>\n",
       "      <td>2016-12-31</td>\n",
       "      <td>19393</td>\n",
       "      <td>N762SW</td>\n",
       "      <td>6775</td>\n",
       "      <td>1537602</td>\n",
       "      <td>1467903</td>\n",
       "      <td>800</td>\n",
       "      <td>820</td>\n",
       "      <td>80</td>\n",
       "      <td>368</td>\n",
       "      <td>2</td>\n",
       "    </tr>\n",
       "  </tbody>\n",
       "</table>\n",
       "<p>5635967 rows × 12 columns</p>\n",
       "</div>"
      ],
      "text/plain": [
       "              ID       date  airline_ID tail_num  fl_num  \\\n",
       "0              1 2016-01-06       19805   N4YBAA      43   \n",
       "1              2 2016-01-07       19805   N434AA      43   \n",
       "2              3 2016-01-08       19805   N541AA      43   \n",
       "3              4 2016-01-09       19805   N489AA      43   \n",
       "4              5 2016-01-10       19805   N439AA      43   \n",
       "...          ...        ...         ...      ...     ...   \n",
       "5635962  5635963 2016-12-31       19393   N7703A    1077   \n",
       "5635963  5635964 2016-12-31       19393   N7815L    1345   \n",
       "5635964  5635965 2016-12-31       19393   N967WN    1176   \n",
       "5635965  5635966 2016-12-31       19393   N271LV     865   \n",
       "5635966  5635967 2016-12-31       19393   N762SW    6775   \n",
       "\n",
       "         origin_airport_seq_ID  dest_airport_seq_ID  dep_time  arr_time  \\\n",
       "0                      1129804              1143302      1100      1438   \n",
       "1                      1129804              1143302      1100      1438   \n",
       "2                      1129804              1143302      1100      1438   \n",
       "3                      1129804              1143302      1100      1438   \n",
       "4                      1129804              1143302      1100      1438   \n",
       "...                        ...                  ...       ...       ...   \n",
       "5635962                1537602              1289204       755       830   \n",
       "5635963                1537602              1289204      1320      1355   \n",
       "5635964                1537602              1323202       705      1125   \n",
       "5635965                1537602              1467903      1220      1235   \n",
       "5635966                1537602              1467903       800       820   \n",
       "\n",
       "         duration  distance  distance_group  \n",
       "0             158       986               4  \n",
       "1             158       986               4  \n",
       "2             158       986               4  \n",
       "3             158       986               4  \n",
       "4             158       986               4  \n",
       "...           ...       ...             ...  \n",
       "5635962        95       451               2  \n",
       "5635963        95       451               2  \n",
       "5635964       200      1440               6  \n",
       "5635965        75       368               2  \n",
       "5635966        80       368               2  \n",
       "\n",
       "[5635967 rows x 12 columns]"
      ]
     },
     "execution_count": 38,
     "metadata": {},
     "output_type": "execute_result"
    }
   ],
   "source": [
    "df_flight"
   ]
  },
  {
   "cell_type": "code",
   "execution_count": 39,
   "metadata": {},
   "outputs": [],
   "source": [
    "query = '''\n",
    "SELECT \n",
    "    *\n",
    "FROM \n",
    "    delay\n",
    "'''\n",
    "df_delay = fetch_data_to_dataframe(con, query)"
   ]
  },
  {
   "cell_type": "code",
   "execution_count": 40,
   "metadata": {},
   "outputs": [],
   "source": [
    "query = '''\n",
    "SELECT \n",
    "    *\n",
    "FROM \n",
    "    states\n",
    "'''\n",
    "df_state = fetch_data_to_dataframe(con, query)"
   ]
  },
  {
   "cell_type": "code",
   "execution_count": 41,
   "metadata": {},
   "outputs": [],
   "source": [
    "query = '''\n",
    "SELECT \n",
    "    *\n",
    "FROM \n",
    "    airport\n",
    "'''\n",
    "df_airport = fetch_data_to_dataframe(con, query)\n"
   ]
  },
  {
   "cell_type": "code",
   "execution_count": 42,
   "metadata": {},
   "outputs": [],
   "source": [
    "query = '''\n",
    "SELECT \n",
    "    *\n",
    "FROM \n",
    "    airline\n",
    "'''\n",
    "df_airline = fetch_data_to_dataframe(con, query)"
   ]
  },
  {
   "cell_type": "code",
   "execution_count": 43,
   "metadata": {},
   "outputs": [
    {
     "data": {
      "text/html": [
       "<div>\n",
       "<style scoped>\n",
       "    .dataframe tbody tr th:only-of-type {\n",
       "        vertical-align: middle;\n",
       "    }\n",
       "\n",
       "    .dataframe tbody tr th {\n",
       "        vertical-align: top;\n",
       "    }\n",
       "\n",
       "    .dataframe thead th {\n",
       "        text-align: right;\n",
       "    }\n",
       "</style>\n",
       "<table border=\"1\" class=\"dataframe\">\n",
       "  <thead>\n",
       "    <tr style=\"text-align: right;\">\n",
       "      <th></th>\n",
       "      <th>airport_ID</th>\n",
       "      <th>airport_seq_ID</th>\n",
       "      <th>city_market_ID</th>\n",
       "      <th>city</th>\n",
       "      <th>state_ID</th>\n",
       "      <th>abr</th>\n",
       "      <th>FIPS</th>\n",
       "      <th>name</th>\n",
       "      <th>WAC</th>\n",
       "    </tr>\n",
       "  </thead>\n",
       "  <tbody>\n",
       "    <tr>\n",
       "      <th>0</th>\n",
       "      <td>10135</td>\n",
       "      <td>1013503</td>\n",
       "      <td>30135</td>\n",
       "      <td>Allentown/Bethlehem/Easton, PA</td>\n",
       "      <td>PA</td>\n",
       "      <td>PA</td>\n",
       "      <td>42</td>\n",
       "      <td>Pennsylvania</td>\n",
       "      <td>23</td>\n",
       "    </tr>\n",
       "    <tr>\n",
       "      <th>1</th>\n",
       "      <td>10434</td>\n",
       "      <td>1043403</td>\n",
       "      <td>30434</td>\n",
       "      <td>Scranton/Wilkes-Barre, PA</td>\n",
       "      <td>PA</td>\n",
       "      <td>PA</td>\n",
       "      <td>42</td>\n",
       "      <td>Pennsylvania</td>\n",
       "      <td>23</td>\n",
       "    </tr>\n",
       "    <tr>\n",
       "      <th>2</th>\n",
       "      <td>11577</td>\n",
       "      <td>1157704</td>\n",
       "      <td>31577</td>\n",
       "      <td>Erie, PA</td>\n",
       "      <td>PA</td>\n",
       "      <td>PA</td>\n",
       "      <td>42</td>\n",
       "      <td>Pennsylvania</td>\n",
       "      <td>23</td>\n",
       "    </tr>\n",
       "    <tr>\n",
       "      <th>3</th>\n",
       "      <td>12898</td>\n",
       "      <td>1289803</td>\n",
       "      <td>32898</td>\n",
       "      <td>Latrobe, PA</td>\n",
       "      <td>PA</td>\n",
       "      <td>PA</td>\n",
       "      <td>42</td>\n",
       "      <td>Pennsylvania</td>\n",
       "      <td>23</td>\n",
       "    </tr>\n",
       "    <tr>\n",
       "      <th>4</th>\n",
       "      <td>12898</td>\n",
       "      <td>1289804</td>\n",
       "      <td>32898</td>\n",
       "      <td>Latrobe, PA</td>\n",
       "      <td>PA</td>\n",
       "      <td>PA</td>\n",
       "      <td>42</td>\n",
       "      <td>Pennsylvania</td>\n",
       "      <td>23</td>\n",
       "    </tr>\n",
       "    <tr>\n",
       "      <th>...</th>\n",
       "      <td>...</td>\n",
       "      <td>...</td>\n",
       "      <td>...</td>\n",
       "      <td>...</td>\n",
       "      <td>...</td>\n",
       "      <td>...</td>\n",
       "      <td>...</td>\n",
       "      <td>...</td>\n",
       "      <td>...</td>\n",
       "    </tr>\n",
       "    <tr>\n",
       "      <th>317</th>\n",
       "      <td>15370</td>\n",
       "      <td>1537002</td>\n",
       "      <td>34653</td>\n",
       "      <td>Tulsa, OK</td>\n",
       "      <td>OK</td>\n",
       "      <td>OK</td>\n",
       "      <td>40</td>\n",
       "      <td>Oklahoma</td>\n",
       "      <td>73</td>\n",
       "    </tr>\n",
       "    <tr>\n",
       "      <th>318</th>\n",
       "      <td>13296</td>\n",
       "      <td>1329604</td>\n",
       "      <td>30721</td>\n",
       "      <td>Manchester, NH</td>\n",
       "      <td>NH</td>\n",
       "      <td>NH</td>\n",
       "      <td>33</td>\n",
       "      <td>New Hampshire</td>\n",
       "      <td>14</td>\n",
       "    </tr>\n",
       "    <tr>\n",
       "      <th>319</th>\n",
       "      <td>14307</td>\n",
       "      <td>1430702</td>\n",
       "      <td>30721</td>\n",
       "      <td>Providence, RI</td>\n",
       "      <td>RI</td>\n",
       "      <td>RI</td>\n",
       "      <td>44</td>\n",
       "      <td>Rhode Island</td>\n",
       "      <td>15</td>\n",
       "    </tr>\n",
       "    <tr>\n",
       "      <th>320</th>\n",
       "      <td>15024</td>\n",
       "      <td>1502403</td>\n",
       "      <td>34945</td>\n",
       "      <td>Charlotte Amalie, VI</td>\n",
       "      <td>VI</td>\n",
       "      <td>VI</td>\n",
       "      <td>78</td>\n",
       "      <td>U.S. Virgin Islands</td>\n",
       "      <td>4</td>\n",
       "    </tr>\n",
       "    <tr>\n",
       "      <th>321</th>\n",
       "      <td>15027</td>\n",
       "      <td>1502704</td>\n",
       "      <td>34992</td>\n",
       "      <td>Christiansted, VI</td>\n",
       "      <td>VI</td>\n",
       "      <td>VI</td>\n",
       "      <td>78</td>\n",
       "      <td>U.S. Virgin Islands</td>\n",
       "      <td>4</td>\n",
       "    </tr>\n",
       "  </tbody>\n",
       "</table>\n",
       "<p>322 rows × 9 columns</p>\n",
       "</div>"
      ],
      "text/plain": [
       "     airport_ID  airport_seq_ID  city_market_ID  \\\n",
       "0         10135         1013503           30135   \n",
       "1         10434         1043403           30434   \n",
       "2         11577         1157704           31577   \n",
       "3         12898         1289803           32898   \n",
       "4         12898         1289804           32898   \n",
       "..          ...             ...             ...   \n",
       "317       15370         1537002           34653   \n",
       "318       13296         1329604           30721   \n",
       "319       14307         1430702           30721   \n",
       "320       15024         1502403           34945   \n",
       "321       15027         1502704           34992   \n",
       "\n",
       "                               city state_ID abr  FIPS                 name  \\\n",
       "0    Allentown/Bethlehem/Easton, PA       PA  PA    42         Pennsylvania   \n",
       "1         Scranton/Wilkes-Barre, PA       PA  PA    42         Pennsylvania   \n",
       "2                          Erie, PA       PA  PA    42         Pennsylvania   \n",
       "3                       Latrobe, PA       PA  PA    42         Pennsylvania   \n",
       "4                       Latrobe, PA       PA  PA    42         Pennsylvania   \n",
       "..                              ...      ...  ..   ...                  ...   \n",
       "317                       Tulsa, OK       OK  OK    40             Oklahoma   \n",
       "318                  Manchester, NH       NH  NH    33        New Hampshire   \n",
       "319                  Providence, RI       RI  RI    44         Rhode Island   \n",
       "320            Charlotte Amalie, VI       VI  VI    78  U.S. Virgin Islands   \n",
       "321               Christiansted, VI       VI  VI    78  U.S. Virgin Islands   \n",
       "\n",
       "     WAC  \n",
       "0     23  \n",
       "1     23  \n",
       "2     23  \n",
       "3     23  \n",
       "4     23  \n",
       "..   ...  \n",
       "317   73  \n",
       "318   14  \n",
       "319   15  \n",
       "320    4  \n",
       "321    4  \n",
       "\n",
       "[322 rows x 9 columns]"
      ]
     },
     "execution_count": 43,
     "metadata": {},
     "output_type": "execute_result"
    }
   ],
   "source": [
    "df_airport = pd.merge(df_airport, df_state, left_on='state_ID', right_on='abr', how='inner')\n",
    "df_airport"
   ]
  },
  {
   "cell_type": "code",
   "execution_count": 44,
   "metadata": {},
   "outputs": [],
   "source": [
    "df_merged = pd.merge(df_flight, df_airline, on='airline_ID', how='inner')\n"
   ]
  },
  {
   "cell_type": "code",
   "execution_count": 45,
   "metadata": {},
   "outputs": [
    {
     "data": {
      "text/html": [
       "<div>\n",
       "<style scoped>\n",
       "    .dataframe tbody tr th:only-of-type {\n",
       "        vertical-align: middle;\n",
       "    }\n",
       "\n",
       "    .dataframe tbody tr th {\n",
       "        vertical-align: top;\n",
       "    }\n",
       "\n",
       "    .dataframe thead th {\n",
       "        text-align: right;\n",
       "    }\n",
       "</style>\n",
       "<table border=\"1\" class=\"dataframe\">\n",
       "  <thead>\n",
       "    <tr style=\"text-align: right;\">\n",
       "      <th></th>\n",
       "      <th>ID</th>\n",
       "      <th>date</th>\n",
       "      <th>airline_ID</th>\n",
       "      <th>tail_num</th>\n",
       "      <th>fl_num</th>\n",
       "      <th>origin_airport_seq_ID</th>\n",
       "      <th>dest_airport_seq_ID</th>\n",
       "      <th>dep_time</th>\n",
       "      <th>arr_time</th>\n",
       "      <th>duration</th>\n",
       "      <th>...</th>\n",
       "      <th>carrier</th>\n",
       "      <th>airport_ID</th>\n",
       "      <th>airport_seq_ID</th>\n",
       "      <th>city_market_ID</th>\n",
       "      <th>city</th>\n",
       "      <th>state_ID</th>\n",
       "      <th>abr</th>\n",
       "      <th>FIPS</th>\n",
       "      <th>name</th>\n",
       "      <th>WAC</th>\n",
       "    </tr>\n",
       "  </thead>\n",
       "  <tbody>\n",
       "    <tr>\n",
       "      <th>0</th>\n",
       "      <td>1</td>\n",
       "      <td>2016-01-06</td>\n",
       "      <td>19805</td>\n",
       "      <td>N4YBAA</td>\n",
       "      <td>43</td>\n",
       "      <td>1129804</td>\n",
       "      <td>1143302</td>\n",
       "      <td>1100</td>\n",
       "      <td>1438</td>\n",
       "      <td>158</td>\n",
       "      <td>...</td>\n",
       "      <td>AA</td>\n",
       "      <td>11298</td>\n",
       "      <td>1129804</td>\n",
       "      <td>30194</td>\n",
       "      <td>Dallas/Fort Worth, TX</td>\n",
       "      <td>TX</td>\n",
       "      <td>TX</td>\n",
       "      <td>48</td>\n",
       "      <td>Texas</td>\n",
       "      <td>74</td>\n",
       "    </tr>\n",
       "    <tr>\n",
       "      <th>1</th>\n",
       "      <td>2</td>\n",
       "      <td>2016-01-07</td>\n",
       "      <td>19805</td>\n",
       "      <td>N434AA</td>\n",
       "      <td>43</td>\n",
       "      <td>1129804</td>\n",
       "      <td>1143302</td>\n",
       "      <td>1100</td>\n",
       "      <td>1438</td>\n",
       "      <td>158</td>\n",
       "      <td>...</td>\n",
       "      <td>AA</td>\n",
       "      <td>11298</td>\n",
       "      <td>1129804</td>\n",
       "      <td>30194</td>\n",
       "      <td>Dallas/Fort Worth, TX</td>\n",
       "      <td>TX</td>\n",
       "      <td>TX</td>\n",
       "      <td>48</td>\n",
       "      <td>Texas</td>\n",
       "      <td>74</td>\n",
       "    </tr>\n",
       "    <tr>\n",
       "      <th>2</th>\n",
       "      <td>3</td>\n",
       "      <td>2016-01-08</td>\n",
       "      <td>19805</td>\n",
       "      <td>N541AA</td>\n",
       "      <td>43</td>\n",
       "      <td>1129804</td>\n",
       "      <td>1143302</td>\n",
       "      <td>1100</td>\n",
       "      <td>1438</td>\n",
       "      <td>158</td>\n",
       "      <td>...</td>\n",
       "      <td>AA</td>\n",
       "      <td>11298</td>\n",
       "      <td>1129804</td>\n",
       "      <td>30194</td>\n",
       "      <td>Dallas/Fort Worth, TX</td>\n",
       "      <td>TX</td>\n",
       "      <td>TX</td>\n",
       "      <td>48</td>\n",
       "      <td>Texas</td>\n",
       "      <td>74</td>\n",
       "    </tr>\n",
       "    <tr>\n",
       "      <th>3</th>\n",
       "      <td>4</td>\n",
       "      <td>2016-01-09</td>\n",
       "      <td>19805</td>\n",
       "      <td>N489AA</td>\n",
       "      <td>43</td>\n",
       "      <td>1129804</td>\n",
       "      <td>1143302</td>\n",
       "      <td>1100</td>\n",
       "      <td>1438</td>\n",
       "      <td>158</td>\n",
       "      <td>...</td>\n",
       "      <td>AA</td>\n",
       "      <td>11298</td>\n",
       "      <td>1129804</td>\n",
       "      <td>30194</td>\n",
       "      <td>Dallas/Fort Worth, TX</td>\n",
       "      <td>TX</td>\n",
       "      <td>TX</td>\n",
       "      <td>48</td>\n",
       "      <td>Texas</td>\n",
       "      <td>74</td>\n",
       "    </tr>\n",
       "    <tr>\n",
       "      <th>4</th>\n",
       "      <td>5</td>\n",
       "      <td>2016-01-10</td>\n",
       "      <td>19805</td>\n",
       "      <td>N439AA</td>\n",
       "      <td>43</td>\n",
       "      <td>1129804</td>\n",
       "      <td>1143302</td>\n",
       "      <td>1100</td>\n",
       "      <td>1438</td>\n",
       "      <td>158</td>\n",
       "      <td>...</td>\n",
       "      <td>AA</td>\n",
       "      <td>11298</td>\n",
       "      <td>1129804</td>\n",
       "      <td>30194</td>\n",
       "      <td>Dallas/Fort Worth, TX</td>\n",
       "      <td>TX</td>\n",
       "      <td>TX</td>\n",
       "      <td>48</td>\n",
       "      <td>Texas</td>\n",
       "      <td>74</td>\n",
       "    </tr>\n",
       "    <tr>\n",
       "      <th>...</th>\n",
       "      <td>...</td>\n",
       "      <td>...</td>\n",
       "      <td>...</td>\n",
       "      <td>...</td>\n",
       "      <td>...</td>\n",
       "      <td>...</td>\n",
       "      <td>...</td>\n",
       "      <td>...</td>\n",
       "      <td>...</td>\n",
       "      <td>...</td>\n",
       "      <td>...</td>\n",
       "      <td>...</td>\n",
       "      <td>...</td>\n",
       "      <td>...</td>\n",
       "      <td>...</td>\n",
       "      <td>...</td>\n",
       "      <td>...</td>\n",
       "      <td>...</td>\n",
       "      <td>...</td>\n",
       "      <td>...</td>\n",
       "      <td>...</td>\n",
       "    </tr>\n",
       "    <tr>\n",
       "      <th>5635962</th>\n",
       "      <td>5634288</td>\n",
       "      <td>2016-12-31</td>\n",
       "      <td>19393</td>\n",
       "      <td>N8327A</td>\n",
       "      <td>4247</td>\n",
       "      <td>1239102</td>\n",
       "      <td>1320402</td>\n",
       "      <td>820</td>\n",
       "      <td>1115</td>\n",
       "      <td>175</td>\n",
       "      <td>...</td>\n",
       "      <td>WN</td>\n",
       "      <td>12391</td>\n",
       "      <td>1239102</td>\n",
       "      <td>31703</td>\n",
       "      <td>Islip, NY</td>\n",
       "      <td>NY</td>\n",
       "      <td>NY</td>\n",
       "      <td>36</td>\n",
       "      <td>New York</td>\n",
       "      <td>22</td>\n",
       "    </tr>\n",
       "    <tr>\n",
       "      <th>5635963</th>\n",
       "      <td>5634289</td>\n",
       "      <td>2016-12-31</td>\n",
       "      <td>19393</td>\n",
       "      <td>N559WN</td>\n",
       "      <td>6396</td>\n",
       "      <td>1239102</td>\n",
       "      <td>1320402</td>\n",
       "      <td>1555</td>\n",
       "      <td>1850</td>\n",
       "      <td>175</td>\n",
       "      <td>...</td>\n",
       "      <td>WN</td>\n",
       "      <td>12391</td>\n",
       "      <td>1239102</td>\n",
       "      <td>31703</td>\n",
       "      <td>Islip, NY</td>\n",
       "      <td>NY</td>\n",
       "      <td>NY</td>\n",
       "      <td>36</td>\n",
       "      <td>New York</td>\n",
       "      <td>22</td>\n",
       "    </tr>\n",
       "    <tr>\n",
       "      <th>5635964</th>\n",
       "      <td>5634290</td>\n",
       "      <td>2016-12-31</td>\n",
       "      <td>19393</td>\n",
       "      <td>N201LV</td>\n",
       "      <td>1347</td>\n",
       "      <td>1239102</td>\n",
       "      <td>1402702</td>\n",
       "      <td>1535</td>\n",
       "      <td>1835</td>\n",
       "      <td>180</td>\n",
       "      <td>...</td>\n",
       "      <td>WN</td>\n",
       "      <td>12391</td>\n",
       "      <td>1239102</td>\n",
       "      <td>31703</td>\n",
       "      <td>Islip, NY</td>\n",
       "      <td>NY</td>\n",
       "      <td>NY</td>\n",
       "      <td>36</td>\n",
       "      <td>New York</td>\n",
       "      <td>22</td>\n",
       "    </tr>\n",
       "    <tr>\n",
       "      <th>5635965</th>\n",
       "      <td>5634291</td>\n",
       "      <td>2016-12-31</td>\n",
       "      <td>19393</td>\n",
       "      <td>N217JC</td>\n",
       "      <td>6484</td>\n",
       "      <td>1239102</td>\n",
       "      <td>1402702</td>\n",
       "      <td>935</td>\n",
       "      <td>1230</td>\n",
       "      <td>175</td>\n",
       "      <td>...</td>\n",
       "      <td>WN</td>\n",
       "      <td>12391</td>\n",
       "      <td>1239102</td>\n",
       "      <td>31703</td>\n",
       "      <td>Islip, NY</td>\n",
       "      <td>NY</td>\n",
       "      <td>NY</td>\n",
       "      <td>36</td>\n",
       "      <td>New York</td>\n",
       "      <td>22</td>\n",
       "    </tr>\n",
       "    <tr>\n",
       "      <th>5635966</th>\n",
       "      <td>5634292</td>\n",
       "      <td>2016-12-31</td>\n",
       "      <td>19393</td>\n",
       "      <td>N204WN</td>\n",
       "      <td>6487</td>\n",
       "      <td>1239102</td>\n",
       "      <td>1530402</td>\n",
       "      <td>1050</td>\n",
       "      <td>1355</td>\n",
       "      <td>185</td>\n",
       "      <td>...</td>\n",
       "      <td>WN</td>\n",
       "      <td>12391</td>\n",
       "      <td>1239102</td>\n",
       "      <td>31703</td>\n",
       "      <td>Islip, NY</td>\n",
       "      <td>NY</td>\n",
       "      <td>NY</td>\n",
       "      <td>36</td>\n",
       "      <td>New York</td>\n",
       "      <td>22</td>\n",
       "    </tr>\n",
       "  </tbody>\n",
       "</table>\n",
       "<p>5635967 rows × 22 columns</p>\n",
       "</div>"
      ],
      "text/plain": [
       "              ID       date  airline_ID tail_num  fl_num  \\\n",
       "0              1 2016-01-06       19805   N4YBAA      43   \n",
       "1              2 2016-01-07       19805   N434AA      43   \n",
       "2              3 2016-01-08       19805   N541AA      43   \n",
       "3              4 2016-01-09       19805   N489AA      43   \n",
       "4              5 2016-01-10       19805   N439AA      43   \n",
       "...          ...        ...         ...      ...     ...   \n",
       "5635962  5634288 2016-12-31       19393   N8327A    4247   \n",
       "5635963  5634289 2016-12-31       19393   N559WN    6396   \n",
       "5635964  5634290 2016-12-31       19393   N201LV    1347   \n",
       "5635965  5634291 2016-12-31       19393   N217JC    6484   \n",
       "5635966  5634292 2016-12-31       19393   N204WN    6487   \n",
       "\n",
       "         origin_airport_seq_ID  dest_airport_seq_ID  dep_time  arr_time  \\\n",
       "0                      1129804              1143302      1100      1438   \n",
       "1                      1129804              1143302      1100      1438   \n",
       "2                      1129804              1143302      1100      1438   \n",
       "3                      1129804              1143302      1100      1438   \n",
       "4                      1129804              1143302      1100      1438   \n",
       "...                        ...                  ...       ...       ...   \n",
       "5635962                1239102              1320402       820      1115   \n",
       "5635963                1239102              1320402      1555      1850   \n",
       "5635964                1239102              1402702      1535      1835   \n",
       "5635965                1239102              1402702       935      1230   \n",
       "5635966                1239102              1530402      1050      1355   \n",
       "\n",
       "         duration  ...  carrier  airport_ID airport_seq_ID  city_market_ID  \\\n",
       "0             158  ...       AA       11298        1129804           30194   \n",
       "1             158  ...       AA       11298        1129804           30194   \n",
       "2             158  ...       AA       11298        1129804           30194   \n",
       "3             158  ...       AA       11298        1129804           30194   \n",
       "4             158  ...       AA       11298        1129804           30194   \n",
       "...           ...  ...      ...         ...            ...             ...   \n",
       "5635962       175  ...       WN       12391        1239102           31703   \n",
       "5635963       175  ...       WN       12391        1239102           31703   \n",
       "5635964       180  ...       WN       12391        1239102           31703   \n",
       "5635965       175  ...       WN       12391        1239102           31703   \n",
       "5635966       185  ...       WN       12391        1239102           31703   \n",
       "\n",
       "                          city  state_ID abr FIPS      name  WAC  \n",
       "0        Dallas/Fort Worth, TX        TX  TX   48     Texas   74  \n",
       "1        Dallas/Fort Worth, TX        TX  TX   48     Texas   74  \n",
       "2        Dallas/Fort Worth, TX        TX  TX   48     Texas   74  \n",
       "3        Dallas/Fort Worth, TX        TX  TX   48     Texas   74  \n",
       "4        Dallas/Fort Worth, TX        TX  TX   48     Texas   74  \n",
       "...                        ...       ...  ..  ...       ...  ...  \n",
       "5635962              Islip, NY        NY  NY   36  New York   22  \n",
       "5635963              Islip, NY        NY  NY   36  New York   22  \n",
       "5635964              Islip, NY        NY  NY   36  New York   22  \n",
       "5635965              Islip, NY        NY  NY   36  New York   22  \n",
       "5635966              Islip, NY        NY  NY   36  New York   22  \n",
       "\n",
       "[5635967 rows x 22 columns]"
      ]
     },
     "execution_count": 45,
     "metadata": {},
     "output_type": "execute_result"
    }
   ],
   "source": [
    "df_merged = pd.merge(df_merged, df_airport, left_on='origin_airport_seq_ID', right_on='airport_seq_ID', how='inner')\n",
    "df_merged"
   ]
  },
  {
   "cell_type": "code",
   "execution_count": 46,
   "metadata": {},
   "outputs": [
    {
     "data": {
      "text/html": [
       "<div>\n",
       "<style scoped>\n",
       "    .dataframe tbody tr th:only-of-type {\n",
       "        vertical-align: middle;\n",
       "    }\n",
       "\n",
       "    .dataframe tbody tr th {\n",
       "        vertical-align: top;\n",
       "    }\n",
       "\n",
       "    .dataframe thead th {\n",
       "        text-align: right;\n",
       "    }\n",
       "</style>\n",
       "<table border=\"1\" class=\"dataframe\">\n",
       "  <thead>\n",
       "    <tr style=\"text-align: right;\">\n",
       "      <th></th>\n",
       "      <th>ID</th>\n",
       "      <th>date</th>\n",
       "      <th>airline_ID</th>\n",
       "      <th>tail_num</th>\n",
       "      <th>fl_num</th>\n",
       "      <th>origin_airport_seq_ID</th>\n",
       "      <th>dest_airport_seq_ID</th>\n",
       "      <th>dep_time</th>\n",
       "      <th>arr_time</th>\n",
       "      <th>duration</th>\n",
       "      <th>...</th>\n",
       "      <th>distance_group</th>\n",
       "      <th>carrier</th>\n",
       "      <th>origin_airport_ID</th>\n",
       "      <th>origin_city_market_ID</th>\n",
       "      <th>origin_city</th>\n",
       "      <th>origin_state_ID</th>\n",
       "      <th>origin_abr</th>\n",
       "      <th>origin_FIPS</th>\n",
       "      <th>origin_name</th>\n",
       "      <th>origin_WAC</th>\n",
       "    </tr>\n",
       "  </thead>\n",
       "  <tbody>\n",
       "    <tr>\n",
       "      <th>0</th>\n",
       "      <td>1</td>\n",
       "      <td>2016-01-06</td>\n",
       "      <td>19805</td>\n",
       "      <td>N4YBAA</td>\n",
       "      <td>43</td>\n",
       "      <td>1129804</td>\n",
       "      <td>1143302</td>\n",
       "      <td>1100</td>\n",
       "      <td>1438</td>\n",
       "      <td>158</td>\n",
       "      <td>...</td>\n",
       "      <td>4</td>\n",
       "      <td>AA</td>\n",
       "      <td>11298</td>\n",
       "      <td>30194</td>\n",
       "      <td>Dallas/Fort Worth, TX</td>\n",
       "      <td>TX</td>\n",
       "      <td>TX</td>\n",
       "      <td>48</td>\n",
       "      <td>Texas</td>\n",
       "      <td>74</td>\n",
       "    </tr>\n",
       "    <tr>\n",
       "      <th>1</th>\n",
       "      <td>2</td>\n",
       "      <td>2016-01-07</td>\n",
       "      <td>19805</td>\n",
       "      <td>N434AA</td>\n",
       "      <td>43</td>\n",
       "      <td>1129804</td>\n",
       "      <td>1143302</td>\n",
       "      <td>1100</td>\n",
       "      <td>1438</td>\n",
       "      <td>158</td>\n",
       "      <td>...</td>\n",
       "      <td>4</td>\n",
       "      <td>AA</td>\n",
       "      <td>11298</td>\n",
       "      <td>30194</td>\n",
       "      <td>Dallas/Fort Worth, TX</td>\n",
       "      <td>TX</td>\n",
       "      <td>TX</td>\n",
       "      <td>48</td>\n",
       "      <td>Texas</td>\n",
       "      <td>74</td>\n",
       "    </tr>\n",
       "    <tr>\n",
       "      <th>2</th>\n",
       "      <td>3</td>\n",
       "      <td>2016-01-08</td>\n",
       "      <td>19805</td>\n",
       "      <td>N541AA</td>\n",
       "      <td>43</td>\n",
       "      <td>1129804</td>\n",
       "      <td>1143302</td>\n",
       "      <td>1100</td>\n",
       "      <td>1438</td>\n",
       "      <td>158</td>\n",
       "      <td>...</td>\n",
       "      <td>4</td>\n",
       "      <td>AA</td>\n",
       "      <td>11298</td>\n",
       "      <td>30194</td>\n",
       "      <td>Dallas/Fort Worth, TX</td>\n",
       "      <td>TX</td>\n",
       "      <td>TX</td>\n",
       "      <td>48</td>\n",
       "      <td>Texas</td>\n",
       "      <td>74</td>\n",
       "    </tr>\n",
       "    <tr>\n",
       "      <th>3</th>\n",
       "      <td>4</td>\n",
       "      <td>2016-01-09</td>\n",
       "      <td>19805</td>\n",
       "      <td>N489AA</td>\n",
       "      <td>43</td>\n",
       "      <td>1129804</td>\n",
       "      <td>1143302</td>\n",
       "      <td>1100</td>\n",
       "      <td>1438</td>\n",
       "      <td>158</td>\n",
       "      <td>...</td>\n",
       "      <td>4</td>\n",
       "      <td>AA</td>\n",
       "      <td>11298</td>\n",
       "      <td>30194</td>\n",
       "      <td>Dallas/Fort Worth, TX</td>\n",
       "      <td>TX</td>\n",
       "      <td>TX</td>\n",
       "      <td>48</td>\n",
       "      <td>Texas</td>\n",
       "      <td>74</td>\n",
       "    </tr>\n",
       "    <tr>\n",
       "      <th>4</th>\n",
       "      <td>5</td>\n",
       "      <td>2016-01-10</td>\n",
       "      <td>19805</td>\n",
       "      <td>N439AA</td>\n",
       "      <td>43</td>\n",
       "      <td>1129804</td>\n",
       "      <td>1143302</td>\n",
       "      <td>1100</td>\n",
       "      <td>1438</td>\n",
       "      <td>158</td>\n",
       "      <td>...</td>\n",
       "      <td>4</td>\n",
       "      <td>AA</td>\n",
       "      <td>11298</td>\n",
       "      <td>30194</td>\n",
       "      <td>Dallas/Fort Worth, TX</td>\n",
       "      <td>TX</td>\n",
       "      <td>TX</td>\n",
       "      <td>48</td>\n",
       "      <td>Texas</td>\n",
       "      <td>74</td>\n",
       "    </tr>\n",
       "    <tr>\n",
       "      <th>...</th>\n",
       "      <td>...</td>\n",
       "      <td>...</td>\n",
       "      <td>...</td>\n",
       "      <td>...</td>\n",
       "      <td>...</td>\n",
       "      <td>...</td>\n",
       "      <td>...</td>\n",
       "      <td>...</td>\n",
       "      <td>...</td>\n",
       "      <td>...</td>\n",
       "      <td>...</td>\n",
       "      <td>...</td>\n",
       "      <td>...</td>\n",
       "      <td>...</td>\n",
       "      <td>...</td>\n",
       "      <td>...</td>\n",
       "      <td>...</td>\n",
       "      <td>...</td>\n",
       "      <td>...</td>\n",
       "      <td>...</td>\n",
       "      <td>...</td>\n",
       "    </tr>\n",
       "    <tr>\n",
       "      <th>5635962</th>\n",
       "      <td>5634288</td>\n",
       "      <td>2016-12-31</td>\n",
       "      <td>19393</td>\n",
       "      <td>N8327A</td>\n",
       "      <td>4247</td>\n",
       "      <td>1239102</td>\n",
       "      <td>1320402</td>\n",
       "      <td>820</td>\n",
       "      <td>1115</td>\n",
       "      <td>175</td>\n",
       "      <td>...</td>\n",
       "      <td>4</td>\n",
       "      <td>WN</td>\n",
       "      <td>12391</td>\n",
       "      <td>31703</td>\n",
       "      <td>Islip, NY</td>\n",
       "      <td>NY</td>\n",
       "      <td>NY</td>\n",
       "      <td>36</td>\n",
       "      <td>New York</td>\n",
       "      <td>22</td>\n",
       "    </tr>\n",
       "    <tr>\n",
       "      <th>5635963</th>\n",
       "      <td>5634289</td>\n",
       "      <td>2016-12-31</td>\n",
       "      <td>19393</td>\n",
       "      <td>N559WN</td>\n",
       "      <td>6396</td>\n",
       "      <td>1239102</td>\n",
       "      <td>1320402</td>\n",
       "      <td>1555</td>\n",
       "      <td>1850</td>\n",
       "      <td>175</td>\n",
       "      <td>...</td>\n",
       "      <td>4</td>\n",
       "      <td>WN</td>\n",
       "      <td>12391</td>\n",
       "      <td>31703</td>\n",
       "      <td>Islip, NY</td>\n",
       "      <td>NY</td>\n",
       "      <td>NY</td>\n",
       "      <td>36</td>\n",
       "      <td>New York</td>\n",
       "      <td>22</td>\n",
       "    </tr>\n",
       "    <tr>\n",
       "      <th>5635964</th>\n",
       "      <td>5634290</td>\n",
       "      <td>2016-12-31</td>\n",
       "      <td>19393</td>\n",
       "      <td>N201LV</td>\n",
       "      <td>1347</td>\n",
       "      <td>1239102</td>\n",
       "      <td>1402702</td>\n",
       "      <td>1535</td>\n",
       "      <td>1835</td>\n",
       "      <td>180</td>\n",
       "      <td>...</td>\n",
       "      <td>5</td>\n",
       "      <td>WN</td>\n",
       "      <td>12391</td>\n",
       "      <td>31703</td>\n",
       "      <td>Islip, NY</td>\n",
       "      <td>NY</td>\n",
       "      <td>NY</td>\n",
       "      <td>36</td>\n",
       "      <td>New York</td>\n",
       "      <td>22</td>\n",
       "    </tr>\n",
       "    <tr>\n",
       "      <th>5635965</th>\n",
       "      <td>5634291</td>\n",
       "      <td>2016-12-31</td>\n",
       "      <td>19393</td>\n",
       "      <td>N217JC</td>\n",
       "      <td>6484</td>\n",
       "      <td>1239102</td>\n",
       "      <td>1402702</td>\n",
       "      <td>935</td>\n",
       "      <td>1230</td>\n",
       "      <td>175</td>\n",
       "      <td>...</td>\n",
       "      <td>5</td>\n",
       "      <td>WN</td>\n",
       "      <td>12391</td>\n",
       "      <td>31703</td>\n",
       "      <td>Islip, NY</td>\n",
       "      <td>NY</td>\n",
       "      <td>NY</td>\n",
       "      <td>36</td>\n",
       "      <td>New York</td>\n",
       "      <td>22</td>\n",
       "    </tr>\n",
       "    <tr>\n",
       "      <th>5635966</th>\n",
       "      <td>5634292</td>\n",
       "      <td>2016-12-31</td>\n",
       "      <td>19393</td>\n",
       "      <td>N204WN</td>\n",
       "      <td>6487</td>\n",
       "      <td>1239102</td>\n",
       "      <td>1530402</td>\n",
       "      <td>1050</td>\n",
       "      <td>1355</td>\n",
       "      <td>185</td>\n",
       "      <td>...</td>\n",
       "      <td>5</td>\n",
       "      <td>WN</td>\n",
       "      <td>12391</td>\n",
       "      <td>31703</td>\n",
       "      <td>Islip, NY</td>\n",
       "      <td>NY</td>\n",
       "      <td>NY</td>\n",
       "      <td>36</td>\n",
       "      <td>New York</td>\n",
       "      <td>22</td>\n",
       "    </tr>\n",
       "  </tbody>\n",
       "</table>\n",
       "<p>5635967 rows × 21 columns</p>\n",
       "</div>"
      ],
      "text/plain": [
       "              ID       date  airline_ID tail_num  fl_num  \\\n",
       "0              1 2016-01-06       19805   N4YBAA      43   \n",
       "1              2 2016-01-07       19805   N434AA      43   \n",
       "2              3 2016-01-08       19805   N541AA      43   \n",
       "3              4 2016-01-09       19805   N489AA      43   \n",
       "4              5 2016-01-10       19805   N439AA      43   \n",
       "...          ...        ...         ...      ...     ...   \n",
       "5635962  5634288 2016-12-31       19393   N8327A    4247   \n",
       "5635963  5634289 2016-12-31       19393   N559WN    6396   \n",
       "5635964  5634290 2016-12-31       19393   N201LV    1347   \n",
       "5635965  5634291 2016-12-31       19393   N217JC    6484   \n",
       "5635966  5634292 2016-12-31       19393   N204WN    6487   \n",
       "\n",
       "         origin_airport_seq_ID  dest_airport_seq_ID  dep_time  arr_time  \\\n",
       "0                      1129804              1143302      1100      1438   \n",
       "1                      1129804              1143302      1100      1438   \n",
       "2                      1129804              1143302      1100      1438   \n",
       "3                      1129804              1143302      1100      1438   \n",
       "4                      1129804              1143302      1100      1438   \n",
       "...                        ...                  ...       ...       ...   \n",
       "5635962                1239102              1320402       820      1115   \n",
       "5635963                1239102              1320402      1555      1850   \n",
       "5635964                1239102              1402702      1535      1835   \n",
       "5635965                1239102              1402702       935      1230   \n",
       "5635966                1239102              1530402      1050      1355   \n",
       "\n",
       "         duration  ...  distance_group  carrier origin_airport_ID  \\\n",
       "0             158  ...               4       AA             11298   \n",
       "1             158  ...               4       AA             11298   \n",
       "2             158  ...               4       AA             11298   \n",
       "3             158  ...               4       AA             11298   \n",
       "4             158  ...               4       AA             11298   \n",
       "...           ...  ...             ...      ...               ...   \n",
       "5635962       175  ...               4       WN             12391   \n",
       "5635963       175  ...               4       WN             12391   \n",
       "5635964       180  ...               5       WN             12391   \n",
       "5635965       175  ...               5       WN             12391   \n",
       "5635966       185  ...               5       WN             12391   \n",
       "\n",
       "         origin_city_market_ID            origin_city origin_state_ID  \\\n",
       "0                        30194  Dallas/Fort Worth, TX              TX   \n",
       "1                        30194  Dallas/Fort Worth, TX              TX   \n",
       "2                        30194  Dallas/Fort Worth, TX              TX   \n",
       "3                        30194  Dallas/Fort Worth, TX              TX   \n",
       "4                        30194  Dallas/Fort Worth, TX              TX   \n",
       "...                        ...                    ...             ...   \n",
       "5635962                  31703              Islip, NY              NY   \n",
       "5635963                  31703              Islip, NY              NY   \n",
       "5635964                  31703              Islip, NY              NY   \n",
       "5635965                  31703              Islip, NY              NY   \n",
       "5635966                  31703              Islip, NY              NY   \n",
       "\n",
       "        origin_abr origin_FIPS  origin_name origin_WAC  \n",
       "0               TX          48        Texas         74  \n",
       "1               TX          48        Texas         74  \n",
       "2               TX          48        Texas         74  \n",
       "3               TX          48        Texas         74  \n",
       "4               TX          48        Texas         74  \n",
       "...            ...         ...          ...        ...  \n",
       "5635962         NY          36     New York         22  \n",
       "5635963         NY          36     New York         22  \n",
       "5635964         NY          36     New York         22  \n",
       "5635965         NY          36     New York         22  \n",
       "5635966         NY          36     New York         22  \n",
       "\n",
       "[5635967 rows x 21 columns]"
      ]
     },
     "execution_count": 46,
     "metadata": {},
     "output_type": "execute_result"
    }
   ],
   "source": [
    "df_merged = df_merged.drop(columns=['airport_seq_ID'])\n",
    "df_merged.rename(columns={\n",
    "    'airport_ID': 'origin_airport_ID',\n",
    "    'city_market_ID': 'origin_city_market_ID',\n",
    "    'city': 'origin_city',\n",
    "    'state_ID': 'origin_state_ID',\n",
    "    'abr': 'origin_abr',\n",
    "    'FIPS': 'origin_FIPS',\n",
    "    'name': 'origin_name',\n",
    "    'WAC': 'origin_WAC'\n",
    "    }, inplace=True)\n",
    "df_merged"
   ]
  },
  {
   "cell_type": "code",
   "execution_count": 48,
   "metadata": {},
   "outputs": [
    {
     "data": {
      "text/html": [
       "<div>\n",
       "<style scoped>\n",
       "    .dataframe tbody tr th:only-of-type {\n",
       "        vertical-align: middle;\n",
       "    }\n",
       "\n",
       "    .dataframe tbody tr th {\n",
       "        vertical-align: top;\n",
       "    }\n",
       "\n",
       "    .dataframe thead th {\n",
       "        text-align: right;\n",
       "    }\n",
       "</style>\n",
       "<table border=\"1\" class=\"dataframe\">\n",
       "  <thead>\n",
       "    <tr style=\"text-align: right;\">\n",
       "      <th></th>\n",
       "      <th>ID</th>\n",
       "      <th>date</th>\n",
       "      <th>airline_ID</th>\n",
       "      <th>tail_num</th>\n",
       "      <th>fl_num</th>\n",
       "      <th>origin_airport_seq_ID</th>\n",
       "      <th>dest_airport_seq_ID</th>\n",
       "      <th>dep_time</th>\n",
       "      <th>arr_time</th>\n",
       "      <th>duration</th>\n",
       "      <th>...</th>\n",
       "      <th>origin_WAC</th>\n",
       "      <th>airport_ID</th>\n",
       "      <th>airport_seq_ID</th>\n",
       "      <th>city_market_ID</th>\n",
       "      <th>city</th>\n",
       "      <th>state_ID</th>\n",
       "      <th>abr</th>\n",
       "      <th>FIPS</th>\n",
       "      <th>name</th>\n",
       "      <th>WAC</th>\n",
       "    </tr>\n",
       "  </thead>\n",
       "  <tbody>\n",
       "    <tr>\n",
       "      <th>0</th>\n",
       "      <td>1</td>\n",
       "      <td>2016-01-06</td>\n",
       "      <td>19805</td>\n",
       "      <td>N4YBAA</td>\n",
       "      <td>43</td>\n",
       "      <td>1129804</td>\n",
       "      <td>1143302</td>\n",
       "      <td>1100</td>\n",
       "      <td>1438</td>\n",
       "      <td>158</td>\n",
       "      <td>...</td>\n",
       "      <td>74</td>\n",
       "      <td>11433</td>\n",
       "      <td>1143302</td>\n",
       "      <td>31295</td>\n",
       "      <td>Detroit, MI</td>\n",
       "      <td>MI</td>\n",
       "      <td>MI</td>\n",
       "      <td>26</td>\n",
       "      <td>Michigan</td>\n",
       "      <td>43</td>\n",
       "    </tr>\n",
       "    <tr>\n",
       "      <th>1</th>\n",
       "      <td>2</td>\n",
       "      <td>2016-01-07</td>\n",
       "      <td>19805</td>\n",
       "      <td>N434AA</td>\n",
       "      <td>43</td>\n",
       "      <td>1129804</td>\n",
       "      <td>1143302</td>\n",
       "      <td>1100</td>\n",
       "      <td>1438</td>\n",
       "      <td>158</td>\n",
       "      <td>...</td>\n",
       "      <td>74</td>\n",
       "      <td>11433</td>\n",
       "      <td>1143302</td>\n",
       "      <td>31295</td>\n",
       "      <td>Detroit, MI</td>\n",
       "      <td>MI</td>\n",
       "      <td>MI</td>\n",
       "      <td>26</td>\n",
       "      <td>Michigan</td>\n",
       "      <td>43</td>\n",
       "    </tr>\n",
       "    <tr>\n",
       "      <th>2</th>\n",
       "      <td>3</td>\n",
       "      <td>2016-01-08</td>\n",
       "      <td>19805</td>\n",
       "      <td>N541AA</td>\n",
       "      <td>43</td>\n",
       "      <td>1129804</td>\n",
       "      <td>1143302</td>\n",
       "      <td>1100</td>\n",
       "      <td>1438</td>\n",
       "      <td>158</td>\n",
       "      <td>...</td>\n",
       "      <td>74</td>\n",
       "      <td>11433</td>\n",
       "      <td>1143302</td>\n",
       "      <td>31295</td>\n",
       "      <td>Detroit, MI</td>\n",
       "      <td>MI</td>\n",
       "      <td>MI</td>\n",
       "      <td>26</td>\n",
       "      <td>Michigan</td>\n",
       "      <td>43</td>\n",
       "    </tr>\n",
       "    <tr>\n",
       "      <th>3</th>\n",
       "      <td>4</td>\n",
       "      <td>2016-01-09</td>\n",
       "      <td>19805</td>\n",
       "      <td>N489AA</td>\n",
       "      <td>43</td>\n",
       "      <td>1129804</td>\n",
       "      <td>1143302</td>\n",
       "      <td>1100</td>\n",
       "      <td>1438</td>\n",
       "      <td>158</td>\n",
       "      <td>...</td>\n",
       "      <td>74</td>\n",
       "      <td>11433</td>\n",
       "      <td>1143302</td>\n",
       "      <td>31295</td>\n",
       "      <td>Detroit, MI</td>\n",
       "      <td>MI</td>\n",
       "      <td>MI</td>\n",
       "      <td>26</td>\n",
       "      <td>Michigan</td>\n",
       "      <td>43</td>\n",
       "    </tr>\n",
       "    <tr>\n",
       "      <th>4</th>\n",
       "      <td>5</td>\n",
       "      <td>2016-01-10</td>\n",
       "      <td>19805</td>\n",
       "      <td>N439AA</td>\n",
       "      <td>43</td>\n",
       "      <td>1129804</td>\n",
       "      <td>1143302</td>\n",
       "      <td>1100</td>\n",
       "      <td>1438</td>\n",
       "      <td>158</td>\n",
       "      <td>...</td>\n",
       "      <td>74</td>\n",
       "      <td>11433</td>\n",
       "      <td>1143302</td>\n",
       "      <td>31295</td>\n",
       "      <td>Detroit, MI</td>\n",
       "      <td>MI</td>\n",
       "      <td>MI</td>\n",
       "      <td>26</td>\n",
       "      <td>Michigan</td>\n",
       "      <td>43</td>\n",
       "    </tr>\n",
       "    <tr>\n",
       "      <th>...</th>\n",
       "      <td>...</td>\n",
       "      <td>...</td>\n",
       "      <td>...</td>\n",
       "      <td>...</td>\n",
       "      <td>...</td>\n",
       "      <td>...</td>\n",
       "      <td>...</td>\n",
       "      <td>...</td>\n",
       "      <td>...</td>\n",
       "      <td>...</td>\n",
       "      <td>...</td>\n",
       "      <td>...</td>\n",
       "      <td>...</td>\n",
       "      <td>...</td>\n",
       "      <td>...</td>\n",
       "      <td>...</td>\n",
       "      <td>...</td>\n",
       "      <td>...</td>\n",
       "      <td>...</td>\n",
       "      <td>...</td>\n",
       "      <td>...</td>\n",
       "    </tr>\n",
       "    <tr>\n",
       "      <th>5635962</th>\n",
       "      <td>5515254</td>\n",
       "      <td>2016-12-09</td>\n",
       "      <td>20304</td>\n",
       "      <td>N908SW</td>\n",
       "      <td>5102</td>\n",
       "      <td>1251902</td>\n",
       "      <td>1144703</td>\n",
       "      <td>1311</td>\n",
       "      <td>1359</td>\n",
       "      <td>48</td>\n",
       "      <td>...</td>\n",
       "      <td>66</td>\n",
       "      <td>11447</td>\n",
       "      <td>1144703</td>\n",
       "      <td>31447</td>\n",
       "      <td>Devils Lake, ND</td>\n",
       "      <td>ND</td>\n",
       "      <td>ND</td>\n",
       "      <td>38</td>\n",
       "      <td>North Dakota</td>\n",
       "      <td>66</td>\n",
       "    </tr>\n",
       "    <tr>\n",
       "      <th>5635963</th>\n",
       "      <td>5515257</td>\n",
       "      <td>2016-12-09</td>\n",
       "      <td>20304</td>\n",
       "      <td>N908SW</td>\n",
       "      <td>5104</td>\n",
       "      <td>1251902</td>\n",
       "      <td>1144703</td>\n",
       "      <td>2320</td>\n",
       "      <td>8</td>\n",
       "      <td>48</td>\n",
       "      <td>...</td>\n",
       "      <td>66</td>\n",
       "      <td>11447</td>\n",
       "      <td>1144703</td>\n",
       "      <td>31447</td>\n",
       "      <td>Devils Lake, ND</td>\n",
       "      <td>ND</td>\n",
       "      <td>ND</td>\n",
       "      <td>38</td>\n",
       "      <td>North Dakota</td>\n",
       "      <td>66</td>\n",
       "    </tr>\n",
       "    <tr>\n",
       "      <th>5635964</th>\n",
       "      <td>5517324</td>\n",
       "      <td>2016-12-19</td>\n",
       "      <td>20304</td>\n",
       "      <td>N937SW</td>\n",
       "      <td>5102</td>\n",
       "      <td>1251902</td>\n",
       "      <td>1144703</td>\n",
       "      <td>1313</td>\n",
       "      <td>1407</td>\n",
       "      <td>54</td>\n",
       "      <td>...</td>\n",
       "      <td>66</td>\n",
       "      <td>11447</td>\n",
       "      <td>1144703</td>\n",
       "      <td>31447</td>\n",
       "      <td>Devils Lake, ND</td>\n",
       "      <td>ND</td>\n",
       "      <td>ND</td>\n",
       "      <td>38</td>\n",
       "      <td>North Dakota</td>\n",
       "      <td>66</td>\n",
       "    </tr>\n",
       "    <tr>\n",
       "      <th>5635965</th>\n",
       "      <td>5517327</td>\n",
       "      <td>2016-12-19</td>\n",
       "      <td>20304</td>\n",
       "      <td>N915SW</td>\n",
       "      <td>5104</td>\n",
       "      <td>1251902</td>\n",
       "      <td>1144703</td>\n",
       "      <td>2320</td>\n",
       "      <td>14</td>\n",
       "      <td>54</td>\n",
       "      <td>...</td>\n",
       "      <td>66</td>\n",
       "      <td>11447</td>\n",
       "      <td>1144703</td>\n",
       "      <td>31447</td>\n",
       "      <td>Devils Lake, ND</td>\n",
       "      <td>ND</td>\n",
       "      <td>ND</td>\n",
       "      <td>38</td>\n",
       "      <td>North Dakota</td>\n",
       "      <td>66</td>\n",
       "    </tr>\n",
       "    <tr>\n",
       "      <th>5635966</th>\n",
       "      <td>4692220</td>\n",
       "      <td>2016-10-21</td>\n",
       "      <td>19977</td>\n",
       "      <td>N33294</td>\n",
       "      <td>165</td>\n",
       "      <td>1201602</td>\n",
       "      <td>1495503</td>\n",
       "      <td>630</td>\n",
       "      <td>710</td>\n",
       "      <td>40</td>\n",
       "      <td>...</td>\n",
       "      <td>5</td>\n",
       "      <td>14955</td>\n",
       "      <td>1495503</td>\n",
       "      <td>34955</td>\n",
       "      <td>Saipan, TT</td>\n",
       "      <td>TT</td>\n",
       "      <td>TT</td>\n",
       "      <td>75</td>\n",
       "      <td>U.S. Pacific Trust Territories and Possessions</td>\n",
       "      <td>5</td>\n",
       "    </tr>\n",
       "  </tbody>\n",
       "</table>\n",
       "<p>5635967 rows × 30 columns</p>\n",
       "</div>"
      ],
      "text/plain": [
       "              ID       date  airline_ID tail_num  fl_num  \\\n",
       "0              1 2016-01-06       19805   N4YBAA      43   \n",
       "1              2 2016-01-07       19805   N434AA      43   \n",
       "2              3 2016-01-08       19805   N541AA      43   \n",
       "3              4 2016-01-09       19805   N489AA      43   \n",
       "4              5 2016-01-10       19805   N439AA      43   \n",
       "...          ...        ...         ...      ...     ...   \n",
       "5635962  5515254 2016-12-09       20304   N908SW    5102   \n",
       "5635963  5515257 2016-12-09       20304   N908SW    5104   \n",
       "5635964  5517324 2016-12-19       20304   N937SW    5102   \n",
       "5635965  5517327 2016-12-19       20304   N915SW    5104   \n",
       "5635966  4692220 2016-10-21       19977   N33294     165   \n",
       "\n",
       "         origin_airport_seq_ID  dest_airport_seq_ID  dep_time  arr_time  \\\n",
       "0                      1129804              1143302      1100      1438   \n",
       "1                      1129804              1143302      1100      1438   \n",
       "2                      1129804              1143302      1100      1438   \n",
       "3                      1129804              1143302      1100      1438   \n",
       "4                      1129804              1143302      1100      1438   \n",
       "...                        ...                  ...       ...       ...   \n",
       "5635962                1251902              1144703      1311      1359   \n",
       "5635963                1251902              1144703      2320         8   \n",
       "5635964                1251902              1144703      1313      1407   \n",
       "5635965                1251902              1144703      2320        14   \n",
       "5635966                1201602              1495503       630       710   \n",
       "\n",
       "         duration  ...  origin_WAC  airport_ID airport_seq_ID  city_market_ID  \\\n",
       "0             158  ...          74       11433        1143302           31295   \n",
       "1             158  ...          74       11433        1143302           31295   \n",
       "2             158  ...          74       11433        1143302           31295   \n",
       "3             158  ...          74       11433        1143302           31295   \n",
       "4             158  ...          74       11433        1143302           31295   \n",
       "...           ...  ...         ...         ...            ...             ...   \n",
       "5635962        48  ...          66       11447        1144703           31447   \n",
       "5635963        48  ...          66       11447        1144703           31447   \n",
       "5635964        54  ...          66       11447        1144703           31447   \n",
       "5635965        54  ...          66       11447        1144703           31447   \n",
       "5635966        40  ...           5       14955        1495503           34955   \n",
       "\n",
       "                    city state_ID abr FIPS  \\\n",
       "0            Detroit, MI       MI  MI   26   \n",
       "1            Detroit, MI       MI  MI   26   \n",
       "2            Detroit, MI       MI  MI   26   \n",
       "3            Detroit, MI       MI  MI   26   \n",
       "4            Detroit, MI       MI  MI   26   \n",
       "...                  ...      ...  ..  ...   \n",
       "5635962  Devils Lake, ND       ND  ND   38   \n",
       "5635963  Devils Lake, ND       ND  ND   38   \n",
       "5635964  Devils Lake, ND       ND  ND   38   \n",
       "5635965  Devils Lake, ND       ND  ND   38   \n",
       "5635966       Saipan, TT       TT  TT   75   \n",
       "\n",
       "                                                   name WAC  \n",
       "0                                              Michigan  43  \n",
       "1                                              Michigan  43  \n",
       "2                                              Michigan  43  \n",
       "3                                              Michigan  43  \n",
       "4                                              Michigan  43  \n",
       "...                                                 ...  ..  \n",
       "5635962                                    North Dakota  66  \n",
       "5635963                                    North Dakota  66  \n",
       "5635964                                    North Dakota  66  \n",
       "5635965                                    North Dakota  66  \n",
       "5635966  U.S. Pacific Trust Territories and Possessions   5  \n",
       "\n",
       "[5635967 rows x 30 columns]"
      ]
     },
     "execution_count": 48,
     "metadata": {},
     "output_type": "execute_result"
    }
   ],
   "source": [
    "df_merged = pd.merge(df_merged, df_airport, left_on='dest_airport_seq_ID', right_on='airport_seq_ID', how='inner')\n",
    "df_merged"
   ]
  },
  {
   "cell_type": "code",
   "execution_count": 49,
   "metadata": {},
   "outputs": [
    {
     "data": {
      "text/html": [
       "<div>\n",
       "<style scoped>\n",
       "    .dataframe tbody tr th:only-of-type {\n",
       "        vertical-align: middle;\n",
       "    }\n",
       "\n",
       "    .dataframe tbody tr th {\n",
       "        vertical-align: top;\n",
       "    }\n",
       "\n",
       "    .dataframe thead th {\n",
       "        text-align: right;\n",
       "    }\n",
       "</style>\n",
       "<table border=\"1\" class=\"dataframe\">\n",
       "  <thead>\n",
       "    <tr style=\"text-align: right;\">\n",
       "      <th></th>\n",
       "      <th>ID</th>\n",
       "      <th>date</th>\n",
       "      <th>airline_ID</th>\n",
       "      <th>tail_num</th>\n",
       "      <th>fl_num</th>\n",
       "      <th>origin_airport_seq_ID</th>\n",
       "      <th>dest_airport_seq_ID</th>\n",
       "      <th>dep_time</th>\n",
       "      <th>arr_time</th>\n",
       "      <th>duration</th>\n",
       "      <th>...</th>\n",
       "      <th>origin_name</th>\n",
       "      <th>origin_WAC</th>\n",
       "      <th>dest_airport_ID</th>\n",
       "      <th>dest_city_market_ID</th>\n",
       "      <th>dest_city</th>\n",
       "      <th>dest_state_ID</th>\n",
       "      <th>dest_abr</th>\n",
       "      <th>dest_FIPS</th>\n",
       "      <th>dest_name</th>\n",
       "      <th>dest_WAC</th>\n",
       "    </tr>\n",
       "  </thead>\n",
       "  <tbody>\n",
       "    <tr>\n",
       "      <th>0</th>\n",
       "      <td>1</td>\n",
       "      <td>2016-01-06</td>\n",
       "      <td>19805</td>\n",
       "      <td>N4YBAA</td>\n",
       "      <td>43</td>\n",
       "      <td>1129804</td>\n",
       "      <td>1143302</td>\n",
       "      <td>1100</td>\n",
       "      <td>1438</td>\n",
       "      <td>158</td>\n",
       "      <td>...</td>\n",
       "      <td>Texas</td>\n",
       "      <td>74</td>\n",
       "      <td>11433</td>\n",
       "      <td>31295</td>\n",
       "      <td>Detroit, MI</td>\n",
       "      <td>MI</td>\n",
       "      <td>MI</td>\n",
       "      <td>26</td>\n",
       "      <td>Michigan</td>\n",
       "      <td>43</td>\n",
       "    </tr>\n",
       "    <tr>\n",
       "      <th>1</th>\n",
       "      <td>2</td>\n",
       "      <td>2016-01-07</td>\n",
       "      <td>19805</td>\n",
       "      <td>N434AA</td>\n",
       "      <td>43</td>\n",
       "      <td>1129804</td>\n",
       "      <td>1143302</td>\n",
       "      <td>1100</td>\n",
       "      <td>1438</td>\n",
       "      <td>158</td>\n",
       "      <td>...</td>\n",
       "      <td>Texas</td>\n",
       "      <td>74</td>\n",
       "      <td>11433</td>\n",
       "      <td>31295</td>\n",
       "      <td>Detroit, MI</td>\n",
       "      <td>MI</td>\n",
       "      <td>MI</td>\n",
       "      <td>26</td>\n",
       "      <td>Michigan</td>\n",
       "      <td>43</td>\n",
       "    </tr>\n",
       "    <tr>\n",
       "      <th>2</th>\n",
       "      <td>3</td>\n",
       "      <td>2016-01-08</td>\n",
       "      <td>19805</td>\n",
       "      <td>N541AA</td>\n",
       "      <td>43</td>\n",
       "      <td>1129804</td>\n",
       "      <td>1143302</td>\n",
       "      <td>1100</td>\n",
       "      <td>1438</td>\n",
       "      <td>158</td>\n",
       "      <td>...</td>\n",
       "      <td>Texas</td>\n",
       "      <td>74</td>\n",
       "      <td>11433</td>\n",
       "      <td>31295</td>\n",
       "      <td>Detroit, MI</td>\n",
       "      <td>MI</td>\n",
       "      <td>MI</td>\n",
       "      <td>26</td>\n",
       "      <td>Michigan</td>\n",
       "      <td>43</td>\n",
       "    </tr>\n",
       "    <tr>\n",
       "      <th>3</th>\n",
       "      <td>4</td>\n",
       "      <td>2016-01-09</td>\n",
       "      <td>19805</td>\n",
       "      <td>N489AA</td>\n",
       "      <td>43</td>\n",
       "      <td>1129804</td>\n",
       "      <td>1143302</td>\n",
       "      <td>1100</td>\n",
       "      <td>1438</td>\n",
       "      <td>158</td>\n",
       "      <td>...</td>\n",
       "      <td>Texas</td>\n",
       "      <td>74</td>\n",
       "      <td>11433</td>\n",
       "      <td>31295</td>\n",
       "      <td>Detroit, MI</td>\n",
       "      <td>MI</td>\n",
       "      <td>MI</td>\n",
       "      <td>26</td>\n",
       "      <td>Michigan</td>\n",
       "      <td>43</td>\n",
       "    </tr>\n",
       "    <tr>\n",
       "      <th>4</th>\n",
       "      <td>5</td>\n",
       "      <td>2016-01-10</td>\n",
       "      <td>19805</td>\n",
       "      <td>N439AA</td>\n",
       "      <td>43</td>\n",
       "      <td>1129804</td>\n",
       "      <td>1143302</td>\n",
       "      <td>1100</td>\n",
       "      <td>1438</td>\n",
       "      <td>158</td>\n",
       "      <td>...</td>\n",
       "      <td>Texas</td>\n",
       "      <td>74</td>\n",
       "      <td>11433</td>\n",
       "      <td>31295</td>\n",
       "      <td>Detroit, MI</td>\n",
       "      <td>MI</td>\n",
       "      <td>MI</td>\n",
       "      <td>26</td>\n",
       "      <td>Michigan</td>\n",
       "      <td>43</td>\n",
       "    </tr>\n",
       "    <tr>\n",
       "      <th>...</th>\n",
       "      <td>...</td>\n",
       "      <td>...</td>\n",
       "      <td>...</td>\n",
       "      <td>...</td>\n",
       "      <td>...</td>\n",
       "      <td>...</td>\n",
       "      <td>...</td>\n",
       "      <td>...</td>\n",
       "      <td>...</td>\n",
       "      <td>...</td>\n",
       "      <td>...</td>\n",
       "      <td>...</td>\n",
       "      <td>...</td>\n",
       "      <td>...</td>\n",
       "      <td>...</td>\n",
       "      <td>...</td>\n",
       "      <td>...</td>\n",
       "      <td>...</td>\n",
       "      <td>...</td>\n",
       "      <td>...</td>\n",
       "      <td>...</td>\n",
       "    </tr>\n",
       "    <tr>\n",
       "      <th>5635962</th>\n",
       "      <td>5515254</td>\n",
       "      <td>2016-12-09</td>\n",
       "      <td>20304</td>\n",
       "      <td>N908SW</td>\n",
       "      <td>5102</td>\n",
       "      <td>1251902</td>\n",
       "      <td>1144703</td>\n",
       "      <td>1311</td>\n",
       "      <td>1359</td>\n",
       "      <td>48</td>\n",
       "      <td>...</td>\n",
       "      <td>North Dakota</td>\n",
       "      <td>66</td>\n",
       "      <td>11447</td>\n",
       "      <td>31447</td>\n",
       "      <td>Devils Lake, ND</td>\n",
       "      <td>ND</td>\n",
       "      <td>ND</td>\n",
       "      <td>38</td>\n",
       "      <td>North Dakota</td>\n",
       "      <td>66</td>\n",
       "    </tr>\n",
       "    <tr>\n",
       "      <th>5635963</th>\n",
       "      <td>5515257</td>\n",
       "      <td>2016-12-09</td>\n",
       "      <td>20304</td>\n",
       "      <td>N908SW</td>\n",
       "      <td>5104</td>\n",
       "      <td>1251902</td>\n",
       "      <td>1144703</td>\n",
       "      <td>2320</td>\n",
       "      <td>8</td>\n",
       "      <td>48</td>\n",
       "      <td>...</td>\n",
       "      <td>North Dakota</td>\n",
       "      <td>66</td>\n",
       "      <td>11447</td>\n",
       "      <td>31447</td>\n",
       "      <td>Devils Lake, ND</td>\n",
       "      <td>ND</td>\n",
       "      <td>ND</td>\n",
       "      <td>38</td>\n",
       "      <td>North Dakota</td>\n",
       "      <td>66</td>\n",
       "    </tr>\n",
       "    <tr>\n",
       "      <th>5635964</th>\n",
       "      <td>5517324</td>\n",
       "      <td>2016-12-19</td>\n",
       "      <td>20304</td>\n",
       "      <td>N937SW</td>\n",
       "      <td>5102</td>\n",
       "      <td>1251902</td>\n",
       "      <td>1144703</td>\n",
       "      <td>1313</td>\n",
       "      <td>1407</td>\n",
       "      <td>54</td>\n",
       "      <td>...</td>\n",
       "      <td>North Dakota</td>\n",
       "      <td>66</td>\n",
       "      <td>11447</td>\n",
       "      <td>31447</td>\n",
       "      <td>Devils Lake, ND</td>\n",
       "      <td>ND</td>\n",
       "      <td>ND</td>\n",
       "      <td>38</td>\n",
       "      <td>North Dakota</td>\n",
       "      <td>66</td>\n",
       "    </tr>\n",
       "    <tr>\n",
       "      <th>5635965</th>\n",
       "      <td>5517327</td>\n",
       "      <td>2016-12-19</td>\n",
       "      <td>20304</td>\n",
       "      <td>N915SW</td>\n",
       "      <td>5104</td>\n",
       "      <td>1251902</td>\n",
       "      <td>1144703</td>\n",
       "      <td>2320</td>\n",
       "      <td>14</td>\n",
       "      <td>54</td>\n",
       "      <td>...</td>\n",
       "      <td>North Dakota</td>\n",
       "      <td>66</td>\n",
       "      <td>11447</td>\n",
       "      <td>31447</td>\n",
       "      <td>Devils Lake, ND</td>\n",
       "      <td>ND</td>\n",
       "      <td>ND</td>\n",
       "      <td>38</td>\n",
       "      <td>North Dakota</td>\n",
       "      <td>66</td>\n",
       "    </tr>\n",
       "    <tr>\n",
       "      <th>5635966</th>\n",
       "      <td>4692220</td>\n",
       "      <td>2016-10-21</td>\n",
       "      <td>19977</td>\n",
       "      <td>N33294</td>\n",
       "      <td>165</td>\n",
       "      <td>1201602</td>\n",
       "      <td>1495503</td>\n",
       "      <td>630</td>\n",
       "      <td>710</td>\n",
       "      <td>40</td>\n",
       "      <td>...</td>\n",
       "      <td>U.S. Pacific Trust Territories and Possessions</td>\n",
       "      <td>5</td>\n",
       "      <td>14955</td>\n",
       "      <td>34955</td>\n",
       "      <td>Saipan, TT</td>\n",
       "      <td>TT</td>\n",
       "      <td>TT</td>\n",
       "      <td>75</td>\n",
       "      <td>U.S. Pacific Trust Territories and Possessions</td>\n",
       "      <td>5</td>\n",
       "    </tr>\n",
       "  </tbody>\n",
       "</table>\n",
       "<p>5635967 rows × 29 columns</p>\n",
       "</div>"
      ],
      "text/plain": [
       "              ID       date  airline_ID tail_num  fl_num  \\\n",
       "0              1 2016-01-06       19805   N4YBAA      43   \n",
       "1              2 2016-01-07       19805   N434AA      43   \n",
       "2              3 2016-01-08       19805   N541AA      43   \n",
       "3              4 2016-01-09       19805   N489AA      43   \n",
       "4              5 2016-01-10       19805   N439AA      43   \n",
       "...          ...        ...         ...      ...     ...   \n",
       "5635962  5515254 2016-12-09       20304   N908SW    5102   \n",
       "5635963  5515257 2016-12-09       20304   N908SW    5104   \n",
       "5635964  5517324 2016-12-19       20304   N937SW    5102   \n",
       "5635965  5517327 2016-12-19       20304   N915SW    5104   \n",
       "5635966  4692220 2016-10-21       19977   N33294     165   \n",
       "\n",
       "         origin_airport_seq_ID  dest_airport_seq_ID  dep_time  arr_time  \\\n",
       "0                      1129804              1143302      1100      1438   \n",
       "1                      1129804              1143302      1100      1438   \n",
       "2                      1129804              1143302      1100      1438   \n",
       "3                      1129804              1143302      1100      1438   \n",
       "4                      1129804              1143302      1100      1438   \n",
       "...                        ...                  ...       ...       ...   \n",
       "5635962                1251902              1144703      1311      1359   \n",
       "5635963                1251902              1144703      2320         8   \n",
       "5635964                1251902              1144703      1313      1407   \n",
       "5635965                1251902              1144703      2320        14   \n",
       "5635966                1201602              1495503       630       710   \n",
       "\n",
       "         duration  ...                                     origin_name  \\\n",
       "0             158  ...                                           Texas   \n",
       "1             158  ...                                           Texas   \n",
       "2             158  ...                                           Texas   \n",
       "3             158  ...                                           Texas   \n",
       "4             158  ...                                           Texas   \n",
       "...           ...  ...                                             ...   \n",
       "5635962        48  ...                                    North Dakota   \n",
       "5635963        48  ...                                    North Dakota   \n",
       "5635964        54  ...                                    North Dakota   \n",
       "5635965        54  ...                                    North Dakota   \n",
       "5635966        40  ...  U.S. Pacific Trust Territories and Possessions   \n",
       "\n",
       "         origin_WAC dest_airport_ID  dest_city_market_ID        dest_city  \\\n",
       "0                74           11433                31295      Detroit, MI   \n",
       "1                74           11433                31295      Detroit, MI   \n",
       "2                74           11433                31295      Detroit, MI   \n",
       "3                74           11433                31295      Detroit, MI   \n",
       "4                74           11433                31295      Detroit, MI   \n",
       "...             ...             ...                  ...              ...   \n",
       "5635962          66           11447                31447  Devils Lake, ND   \n",
       "5635963          66           11447                31447  Devils Lake, ND   \n",
       "5635964          66           11447                31447  Devils Lake, ND   \n",
       "5635965          66           11447                31447  Devils Lake, ND   \n",
       "5635966           5           14955                34955       Saipan, TT   \n",
       "\n",
       "        dest_state_ID dest_abr dest_FIPS  \\\n",
       "0                  MI       MI        26   \n",
       "1                  MI       MI        26   \n",
       "2                  MI       MI        26   \n",
       "3                  MI       MI        26   \n",
       "4                  MI       MI        26   \n",
       "...               ...      ...       ...   \n",
       "5635962            ND       ND        38   \n",
       "5635963            ND       ND        38   \n",
       "5635964            ND       ND        38   \n",
       "5635965            ND       ND        38   \n",
       "5635966            TT       TT        75   \n",
       "\n",
       "                                              dest_name dest_WAC  \n",
       "0                                              Michigan       43  \n",
       "1                                              Michigan       43  \n",
       "2                                              Michigan       43  \n",
       "3                                              Michigan       43  \n",
       "4                                              Michigan       43  \n",
       "...                                                 ...      ...  \n",
       "5635962                                    North Dakota       66  \n",
       "5635963                                    North Dakota       66  \n",
       "5635964                                    North Dakota       66  \n",
       "5635965                                    North Dakota       66  \n",
       "5635966  U.S. Pacific Trust Territories and Possessions        5  \n",
       "\n",
       "[5635967 rows x 29 columns]"
      ]
     },
     "execution_count": 49,
     "metadata": {},
     "output_type": "execute_result"
    }
   ],
   "source": [
    "df_merged = df_merged.drop(columns=['airport_seq_ID'])\n",
    "df_merged.rename(columns={\n",
    "    'airport_ID': 'dest_airport_ID',\n",
    "    'city_market_ID': 'dest_city_market_ID',\n",
    "    'city': 'dest_city',\n",
    "    'state_ID': 'dest_state_ID',\n",
    "    'abr': 'dest_abr',\n",
    "    'FIPS': 'dest_FIPS',\n",
    "    'name': 'dest_name',\n",
    "    'WAC': 'dest_WAC'\n",
    "    }, inplace=True)\n",
    "df_merged"
   ]
  },
  {
   "cell_type": "code",
   "execution_count": 50,
   "metadata": {},
   "outputs": [],
   "source": [
    "df_merged = df_merged.drop(columns=['dest_abr'])\n",
    "df_merged = df_merged.drop(columns=['origin_abr'])\n"
   ]
  },
  {
   "cell_type": "code",
   "execution_count": 51,
   "metadata": {},
   "outputs": [
    {
     "data": {
      "text/html": [
       "<div>\n",
       "<style scoped>\n",
       "    .dataframe tbody tr th:only-of-type {\n",
       "        vertical-align: middle;\n",
       "    }\n",
       "\n",
       "    .dataframe tbody tr th {\n",
       "        vertical-align: top;\n",
       "    }\n",
       "\n",
       "    .dataframe thead th {\n",
       "        text-align: right;\n",
       "    }\n",
       "</style>\n",
       "<table border=\"1\" class=\"dataframe\">\n",
       "  <thead>\n",
       "    <tr style=\"text-align: right;\">\n",
       "      <th></th>\n",
       "      <th>ID</th>\n",
       "      <th>date</th>\n",
       "      <th>airline_ID</th>\n",
       "      <th>tail_num</th>\n",
       "      <th>fl_num</th>\n",
       "      <th>origin_airport_seq_ID</th>\n",
       "      <th>dest_airport_seq_ID</th>\n",
       "      <th>dep_time</th>\n",
       "      <th>arr_time</th>\n",
       "      <th>duration</th>\n",
       "      <th>...</th>\n",
       "      <th>origin_FIPS</th>\n",
       "      <th>origin_name</th>\n",
       "      <th>origin_WAC</th>\n",
       "      <th>dest_airport_ID</th>\n",
       "      <th>dest_city_market_ID</th>\n",
       "      <th>dest_city</th>\n",
       "      <th>dest_state_ID</th>\n",
       "      <th>dest_FIPS</th>\n",
       "      <th>dest_name</th>\n",
       "      <th>dest_WAC</th>\n",
       "    </tr>\n",
       "  </thead>\n",
       "  <tbody>\n",
       "    <tr>\n",
       "      <th>0</th>\n",
       "      <td>1</td>\n",
       "      <td>2016-01-06</td>\n",
       "      <td>19805</td>\n",
       "      <td>N4YBAA</td>\n",
       "      <td>43</td>\n",
       "      <td>1129804</td>\n",
       "      <td>1143302</td>\n",
       "      <td>1100</td>\n",
       "      <td>1438</td>\n",
       "      <td>158</td>\n",
       "      <td>...</td>\n",
       "      <td>48</td>\n",
       "      <td>Texas</td>\n",
       "      <td>74</td>\n",
       "      <td>11433</td>\n",
       "      <td>31295</td>\n",
       "      <td>Detroit, MI</td>\n",
       "      <td>MI</td>\n",
       "      <td>26</td>\n",
       "      <td>Michigan</td>\n",
       "      <td>43</td>\n",
       "    </tr>\n",
       "    <tr>\n",
       "      <th>1</th>\n",
       "      <td>2</td>\n",
       "      <td>2016-01-07</td>\n",
       "      <td>19805</td>\n",
       "      <td>N434AA</td>\n",
       "      <td>43</td>\n",
       "      <td>1129804</td>\n",
       "      <td>1143302</td>\n",
       "      <td>1100</td>\n",
       "      <td>1438</td>\n",
       "      <td>158</td>\n",
       "      <td>...</td>\n",
       "      <td>48</td>\n",
       "      <td>Texas</td>\n",
       "      <td>74</td>\n",
       "      <td>11433</td>\n",
       "      <td>31295</td>\n",
       "      <td>Detroit, MI</td>\n",
       "      <td>MI</td>\n",
       "      <td>26</td>\n",
       "      <td>Michigan</td>\n",
       "      <td>43</td>\n",
       "    </tr>\n",
       "    <tr>\n",
       "      <th>2</th>\n",
       "      <td>3</td>\n",
       "      <td>2016-01-08</td>\n",
       "      <td>19805</td>\n",
       "      <td>N541AA</td>\n",
       "      <td>43</td>\n",
       "      <td>1129804</td>\n",
       "      <td>1143302</td>\n",
       "      <td>1100</td>\n",
       "      <td>1438</td>\n",
       "      <td>158</td>\n",
       "      <td>...</td>\n",
       "      <td>48</td>\n",
       "      <td>Texas</td>\n",
       "      <td>74</td>\n",
       "      <td>11433</td>\n",
       "      <td>31295</td>\n",
       "      <td>Detroit, MI</td>\n",
       "      <td>MI</td>\n",
       "      <td>26</td>\n",
       "      <td>Michigan</td>\n",
       "      <td>43</td>\n",
       "    </tr>\n",
       "    <tr>\n",
       "      <th>3</th>\n",
       "      <td>4</td>\n",
       "      <td>2016-01-09</td>\n",
       "      <td>19805</td>\n",
       "      <td>N489AA</td>\n",
       "      <td>43</td>\n",
       "      <td>1129804</td>\n",
       "      <td>1143302</td>\n",
       "      <td>1100</td>\n",
       "      <td>1438</td>\n",
       "      <td>158</td>\n",
       "      <td>...</td>\n",
       "      <td>48</td>\n",
       "      <td>Texas</td>\n",
       "      <td>74</td>\n",
       "      <td>11433</td>\n",
       "      <td>31295</td>\n",
       "      <td>Detroit, MI</td>\n",
       "      <td>MI</td>\n",
       "      <td>26</td>\n",
       "      <td>Michigan</td>\n",
       "      <td>43</td>\n",
       "    </tr>\n",
       "    <tr>\n",
       "      <th>4</th>\n",
       "      <td>5</td>\n",
       "      <td>2016-01-10</td>\n",
       "      <td>19805</td>\n",
       "      <td>N439AA</td>\n",
       "      <td>43</td>\n",
       "      <td>1129804</td>\n",
       "      <td>1143302</td>\n",
       "      <td>1100</td>\n",
       "      <td>1438</td>\n",
       "      <td>158</td>\n",
       "      <td>...</td>\n",
       "      <td>48</td>\n",
       "      <td>Texas</td>\n",
       "      <td>74</td>\n",
       "      <td>11433</td>\n",
       "      <td>31295</td>\n",
       "      <td>Detroit, MI</td>\n",
       "      <td>MI</td>\n",
       "      <td>26</td>\n",
       "      <td>Michigan</td>\n",
       "      <td>43</td>\n",
       "    </tr>\n",
       "    <tr>\n",
       "      <th>...</th>\n",
       "      <td>...</td>\n",
       "      <td>...</td>\n",
       "      <td>...</td>\n",
       "      <td>...</td>\n",
       "      <td>...</td>\n",
       "      <td>...</td>\n",
       "      <td>...</td>\n",
       "      <td>...</td>\n",
       "      <td>...</td>\n",
       "      <td>...</td>\n",
       "      <td>...</td>\n",
       "      <td>...</td>\n",
       "      <td>...</td>\n",
       "      <td>...</td>\n",
       "      <td>...</td>\n",
       "      <td>...</td>\n",
       "      <td>...</td>\n",
       "      <td>...</td>\n",
       "      <td>...</td>\n",
       "      <td>...</td>\n",
       "      <td>...</td>\n",
       "    </tr>\n",
       "    <tr>\n",
       "      <th>5635962</th>\n",
       "      <td>5515254</td>\n",
       "      <td>2016-12-09</td>\n",
       "      <td>20304</td>\n",
       "      <td>N908SW</td>\n",
       "      <td>5102</td>\n",
       "      <td>1251902</td>\n",
       "      <td>1144703</td>\n",
       "      <td>1311</td>\n",
       "      <td>1359</td>\n",
       "      <td>48</td>\n",
       "      <td>...</td>\n",
       "      <td>38</td>\n",
       "      <td>North Dakota</td>\n",
       "      <td>66</td>\n",
       "      <td>11447</td>\n",
       "      <td>31447</td>\n",
       "      <td>Devils Lake, ND</td>\n",
       "      <td>ND</td>\n",
       "      <td>38</td>\n",
       "      <td>North Dakota</td>\n",
       "      <td>66</td>\n",
       "    </tr>\n",
       "    <tr>\n",
       "      <th>5635963</th>\n",
       "      <td>5515257</td>\n",
       "      <td>2016-12-09</td>\n",
       "      <td>20304</td>\n",
       "      <td>N908SW</td>\n",
       "      <td>5104</td>\n",
       "      <td>1251902</td>\n",
       "      <td>1144703</td>\n",
       "      <td>2320</td>\n",
       "      <td>8</td>\n",
       "      <td>48</td>\n",
       "      <td>...</td>\n",
       "      <td>38</td>\n",
       "      <td>North Dakota</td>\n",
       "      <td>66</td>\n",
       "      <td>11447</td>\n",
       "      <td>31447</td>\n",
       "      <td>Devils Lake, ND</td>\n",
       "      <td>ND</td>\n",
       "      <td>38</td>\n",
       "      <td>North Dakota</td>\n",
       "      <td>66</td>\n",
       "    </tr>\n",
       "    <tr>\n",
       "      <th>5635964</th>\n",
       "      <td>5517324</td>\n",
       "      <td>2016-12-19</td>\n",
       "      <td>20304</td>\n",
       "      <td>N937SW</td>\n",
       "      <td>5102</td>\n",
       "      <td>1251902</td>\n",
       "      <td>1144703</td>\n",
       "      <td>1313</td>\n",
       "      <td>1407</td>\n",
       "      <td>54</td>\n",
       "      <td>...</td>\n",
       "      <td>38</td>\n",
       "      <td>North Dakota</td>\n",
       "      <td>66</td>\n",
       "      <td>11447</td>\n",
       "      <td>31447</td>\n",
       "      <td>Devils Lake, ND</td>\n",
       "      <td>ND</td>\n",
       "      <td>38</td>\n",
       "      <td>North Dakota</td>\n",
       "      <td>66</td>\n",
       "    </tr>\n",
       "    <tr>\n",
       "      <th>5635965</th>\n",
       "      <td>5517327</td>\n",
       "      <td>2016-12-19</td>\n",
       "      <td>20304</td>\n",
       "      <td>N915SW</td>\n",
       "      <td>5104</td>\n",
       "      <td>1251902</td>\n",
       "      <td>1144703</td>\n",
       "      <td>2320</td>\n",
       "      <td>14</td>\n",
       "      <td>54</td>\n",
       "      <td>...</td>\n",
       "      <td>38</td>\n",
       "      <td>North Dakota</td>\n",
       "      <td>66</td>\n",
       "      <td>11447</td>\n",
       "      <td>31447</td>\n",
       "      <td>Devils Lake, ND</td>\n",
       "      <td>ND</td>\n",
       "      <td>38</td>\n",
       "      <td>North Dakota</td>\n",
       "      <td>66</td>\n",
       "    </tr>\n",
       "    <tr>\n",
       "      <th>5635966</th>\n",
       "      <td>4692220</td>\n",
       "      <td>2016-10-21</td>\n",
       "      <td>19977</td>\n",
       "      <td>N33294</td>\n",
       "      <td>165</td>\n",
       "      <td>1201602</td>\n",
       "      <td>1495503</td>\n",
       "      <td>630</td>\n",
       "      <td>710</td>\n",
       "      <td>40</td>\n",
       "      <td>...</td>\n",
       "      <td>75</td>\n",
       "      <td>U.S. Pacific Trust Territories and Possessions</td>\n",
       "      <td>5</td>\n",
       "      <td>14955</td>\n",
       "      <td>34955</td>\n",
       "      <td>Saipan, TT</td>\n",
       "      <td>TT</td>\n",
       "      <td>75</td>\n",
       "      <td>U.S. Pacific Trust Territories and Possessions</td>\n",
       "      <td>5</td>\n",
       "    </tr>\n",
       "  </tbody>\n",
       "</table>\n",
       "<p>5635967 rows × 27 columns</p>\n",
       "</div>"
      ],
      "text/plain": [
       "              ID       date  airline_ID tail_num  fl_num  \\\n",
       "0              1 2016-01-06       19805   N4YBAA      43   \n",
       "1              2 2016-01-07       19805   N434AA      43   \n",
       "2              3 2016-01-08       19805   N541AA      43   \n",
       "3              4 2016-01-09       19805   N489AA      43   \n",
       "4              5 2016-01-10       19805   N439AA      43   \n",
       "...          ...        ...         ...      ...     ...   \n",
       "5635962  5515254 2016-12-09       20304   N908SW    5102   \n",
       "5635963  5515257 2016-12-09       20304   N908SW    5104   \n",
       "5635964  5517324 2016-12-19       20304   N937SW    5102   \n",
       "5635965  5517327 2016-12-19       20304   N915SW    5104   \n",
       "5635966  4692220 2016-10-21       19977   N33294     165   \n",
       "\n",
       "         origin_airport_seq_ID  dest_airport_seq_ID  dep_time  arr_time  \\\n",
       "0                      1129804              1143302      1100      1438   \n",
       "1                      1129804              1143302      1100      1438   \n",
       "2                      1129804              1143302      1100      1438   \n",
       "3                      1129804              1143302      1100      1438   \n",
       "4                      1129804              1143302      1100      1438   \n",
       "...                        ...                  ...       ...       ...   \n",
       "5635962                1251902              1144703      1311      1359   \n",
       "5635963                1251902              1144703      2320         8   \n",
       "5635964                1251902              1144703      1313      1407   \n",
       "5635965                1251902              1144703      2320        14   \n",
       "5635966                1201602              1495503       630       710   \n",
       "\n",
       "         duration  ...  origin_FIPS  \\\n",
       "0             158  ...           48   \n",
       "1             158  ...           48   \n",
       "2             158  ...           48   \n",
       "3             158  ...           48   \n",
       "4             158  ...           48   \n",
       "...           ...  ...          ...   \n",
       "5635962        48  ...           38   \n",
       "5635963        48  ...           38   \n",
       "5635964        54  ...           38   \n",
       "5635965        54  ...           38   \n",
       "5635966        40  ...           75   \n",
       "\n",
       "                                            origin_name origin_WAC  \\\n",
       "0                                                 Texas         74   \n",
       "1                                                 Texas         74   \n",
       "2                                                 Texas         74   \n",
       "3                                                 Texas         74   \n",
       "4                                                 Texas         74   \n",
       "...                                                 ...        ...   \n",
       "5635962                                    North Dakota         66   \n",
       "5635963                                    North Dakota         66   \n",
       "5635964                                    North Dakota         66   \n",
       "5635965                                    North Dakota         66   \n",
       "5635966  U.S. Pacific Trust Territories and Possessions          5   \n",
       "\n",
       "         dest_airport_ID  dest_city_market_ID        dest_city dest_state_ID  \\\n",
       "0                  11433                31295      Detroit, MI            MI   \n",
       "1                  11433                31295      Detroit, MI            MI   \n",
       "2                  11433                31295      Detroit, MI            MI   \n",
       "3                  11433                31295      Detroit, MI            MI   \n",
       "4                  11433                31295      Detroit, MI            MI   \n",
       "...                  ...                  ...              ...           ...   \n",
       "5635962            11447                31447  Devils Lake, ND            ND   \n",
       "5635963            11447                31447  Devils Lake, ND            ND   \n",
       "5635964            11447                31447  Devils Lake, ND            ND   \n",
       "5635965            11447                31447  Devils Lake, ND            ND   \n",
       "5635966            14955                34955       Saipan, TT            TT   \n",
       "\n",
       "         dest_FIPS                                       dest_name  dest_WAC  \n",
       "0               26                                        Michigan        43  \n",
       "1               26                                        Michigan        43  \n",
       "2               26                                        Michigan        43  \n",
       "3               26                                        Michigan        43  \n",
       "4               26                                        Michigan        43  \n",
       "...            ...                                             ...       ...  \n",
       "5635962         38                                    North Dakota        66  \n",
       "5635963         38                                    North Dakota        66  \n",
       "5635964         38                                    North Dakota        66  \n",
       "5635965         38                                    North Dakota        66  \n",
       "5635966         75  U.S. Pacific Trust Territories and Possessions         5  \n",
       "\n",
       "[5635967 rows x 27 columns]"
      ]
     },
     "execution_count": 51,
     "metadata": {},
     "output_type": "execute_result"
    }
   ],
   "source": [
    "df_merged"
   ]
  },
  {
   "cell_type": "code",
   "execution_count": 53,
   "metadata": {},
   "outputs": [
    {
     "data": {
      "text/html": [
       "<div>\n",
       "<style scoped>\n",
       "    .dataframe tbody tr th:only-of-type {\n",
       "        vertical-align: middle;\n",
       "    }\n",
       "\n",
       "    .dataframe tbody tr th {\n",
       "        vertical-align: top;\n",
       "    }\n",
       "\n",
       "    .dataframe thead th {\n",
       "        text-align: right;\n",
       "    }\n",
       "</style>\n",
       "<table border=\"1\" class=\"dataframe\">\n",
       "  <thead>\n",
       "    <tr style=\"text-align: right;\">\n",
       "      <th></th>\n",
       "      <th>ID</th>\n",
       "      <th>date</th>\n",
       "      <th>airline_ID</th>\n",
       "      <th>tail_num</th>\n",
       "      <th>fl_num</th>\n",
       "      <th>origin_airport_seq_ID</th>\n",
       "      <th>dest_airport_seq_ID</th>\n",
       "      <th>dep_time_x</th>\n",
       "      <th>arr_time_x</th>\n",
       "      <th>duration</th>\n",
       "      <th>...</th>\n",
       "      <th>arr_delay_group</th>\n",
       "      <th>cancelled</th>\n",
       "      <th>diverted</th>\n",
       "      <th>actual_elapsed_time</th>\n",
       "      <th>air_time</th>\n",
       "      <th>carrier_delay</th>\n",
       "      <th>weather_delay</th>\n",
       "      <th>nas_delay</th>\n",
       "      <th>security_delay</th>\n",
       "      <th>late_aircraft_delay</th>\n",
       "    </tr>\n",
       "  </thead>\n",
       "  <tbody>\n",
       "    <tr>\n",
       "      <th>0</th>\n",
       "      <td>1</td>\n",
       "      <td>2016-01-06</td>\n",
       "      <td>19805</td>\n",
       "      <td>N4YBAA</td>\n",
       "      <td>43</td>\n",
       "      <td>1129804</td>\n",
       "      <td>1143302</td>\n",
       "      <td>1100</td>\n",
       "      <td>1438</td>\n",
       "      <td>158</td>\n",
       "      <td>...</td>\n",
       "      <td>-1.0</td>\n",
       "      <td>0</td>\n",
       "      <td>0</td>\n",
       "      <td>155.0</td>\n",
       "      <td>132.0</td>\n",
       "      <td>NaN</td>\n",
       "      <td>NaN</td>\n",
       "      <td>NaN</td>\n",
       "      <td>NaN</td>\n",
       "      <td>NaN</td>\n",
       "    </tr>\n",
       "    <tr>\n",
       "      <th>1</th>\n",
       "      <td>2</td>\n",
       "      <td>2016-01-07</td>\n",
       "      <td>19805</td>\n",
       "      <td>N434AA</td>\n",
       "      <td>43</td>\n",
       "      <td>1129804</td>\n",
       "      <td>1143302</td>\n",
       "      <td>1100</td>\n",
       "      <td>1438</td>\n",
       "      <td>158</td>\n",
       "      <td>...</td>\n",
       "      <td>-1.0</td>\n",
       "      <td>0</td>\n",
       "      <td>0</td>\n",
       "      <td>150.0</td>\n",
       "      <td>126.0</td>\n",
       "      <td>NaN</td>\n",
       "      <td>NaN</td>\n",
       "      <td>NaN</td>\n",
       "      <td>NaN</td>\n",
       "      <td>NaN</td>\n",
       "    </tr>\n",
       "    <tr>\n",
       "      <th>2</th>\n",
       "      <td>3</td>\n",
       "      <td>2016-01-08</td>\n",
       "      <td>19805</td>\n",
       "      <td>N541AA</td>\n",
       "      <td>43</td>\n",
       "      <td>1129804</td>\n",
       "      <td>1143302</td>\n",
       "      <td>1100</td>\n",
       "      <td>1438</td>\n",
       "      <td>158</td>\n",
       "      <td>...</td>\n",
       "      <td>0.0</td>\n",
       "      <td>0</td>\n",
       "      <td>0</td>\n",
       "      <td>170.0</td>\n",
       "      <td>135.0</td>\n",
       "      <td>NaN</td>\n",
       "      <td>NaN</td>\n",
       "      <td>NaN</td>\n",
       "      <td>NaN</td>\n",
       "      <td>NaN</td>\n",
       "    </tr>\n",
       "    <tr>\n",
       "      <th>3</th>\n",
       "      <td>4</td>\n",
       "      <td>2016-01-09</td>\n",
       "      <td>19805</td>\n",
       "      <td>N489AA</td>\n",
       "      <td>43</td>\n",
       "      <td>1129804</td>\n",
       "      <td>1143302</td>\n",
       "      <td>1100</td>\n",
       "      <td>1438</td>\n",
       "      <td>158</td>\n",
       "      <td>...</td>\n",
       "      <td>-1.0</td>\n",
       "      <td>0</td>\n",
       "      <td>0</td>\n",
       "      <td>151.0</td>\n",
       "      <td>129.0</td>\n",
       "      <td>NaN</td>\n",
       "      <td>NaN</td>\n",
       "      <td>NaN</td>\n",
       "      <td>NaN</td>\n",
       "      <td>NaN</td>\n",
       "    </tr>\n",
       "    <tr>\n",
       "      <th>4</th>\n",
       "      <td>5</td>\n",
       "      <td>2016-01-10</td>\n",
       "      <td>19805</td>\n",
       "      <td>N439AA</td>\n",
       "      <td>43</td>\n",
       "      <td>1129804</td>\n",
       "      <td>1143302</td>\n",
       "      <td>1100</td>\n",
       "      <td>1438</td>\n",
       "      <td>158</td>\n",
       "      <td>...</td>\n",
       "      <td>7.0</td>\n",
       "      <td>0</td>\n",
       "      <td>0</td>\n",
       "      <td>171.0</td>\n",
       "      <td>137.0</td>\n",
       "      <td>0.0</td>\n",
       "      <td>0.0</td>\n",
       "      <td>47.0</td>\n",
       "      <td>0.0</td>\n",
       "      <td>66.0</td>\n",
       "    </tr>\n",
       "    <tr>\n",
       "      <th>...</th>\n",
       "      <td>...</td>\n",
       "      <td>...</td>\n",
       "      <td>...</td>\n",
       "      <td>...</td>\n",
       "      <td>...</td>\n",
       "      <td>...</td>\n",
       "      <td>...</td>\n",
       "      <td>...</td>\n",
       "      <td>...</td>\n",
       "      <td>...</td>\n",
       "      <td>...</td>\n",
       "      <td>...</td>\n",
       "      <td>...</td>\n",
       "      <td>...</td>\n",
       "      <td>...</td>\n",
       "      <td>...</td>\n",
       "      <td>...</td>\n",
       "      <td>...</td>\n",
       "      <td>...</td>\n",
       "      <td>...</td>\n",
       "      <td>...</td>\n",
       "    </tr>\n",
       "    <tr>\n",
       "      <th>5635962</th>\n",
       "      <td>5515254</td>\n",
       "      <td>2016-12-09</td>\n",
       "      <td>20304</td>\n",
       "      <td>N908SW</td>\n",
       "      <td>5102</td>\n",
       "      <td>1251902</td>\n",
       "      <td>1144703</td>\n",
       "      <td>1311</td>\n",
       "      <td>1359</td>\n",
       "      <td>48</td>\n",
       "      <td>...</td>\n",
       "      <td>-1.0</td>\n",
       "      <td>0</td>\n",
       "      <td>0</td>\n",
       "      <td>48.0</td>\n",
       "      <td>23.0</td>\n",
       "      <td>NaN</td>\n",
       "      <td>NaN</td>\n",
       "      <td>NaN</td>\n",
       "      <td>NaN</td>\n",
       "      <td>NaN</td>\n",
       "    </tr>\n",
       "    <tr>\n",
       "      <th>5635963</th>\n",
       "      <td>5515257</td>\n",
       "      <td>2016-12-09</td>\n",
       "      <td>20304</td>\n",
       "      <td>N908SW</td>\n",
       "      <td>5104</td>\n",
       "      <td>1251902</td>\n",
       "      <td>1144703</td>\n",
       "      <td>2320</td>\n",
       "      <td>8</td>\n",
       "      <td>48</td>\n",
       "      <td>...</td>\n",
       "      <td>-2.0</td>\n",
       "      <td>0</td>\n",
       "      <td>0</td>\n",
       "      <td>36.0</td>\n",
       "      <td>19.0</td>\n",
       "      <td>NaN</td>\n",
       "      <td>NaN</td>\n",
       "      <td>NaN</td>\n",
       "      <td>NaN</td>\n",
       "      <td>NaN</td>\n",
       "    </tr>\n",
       "    <tr>\n",
       "      <th>5635964</th>\n",
       "      <td>5517324</td>\n",
       "      <td>2016-12-19</td>\n",
       "      <td>20304</td>\n",
       "      <td>N937SW</td>\n",
       "      <td>5102</td>\n",
       "      <td>1251902</td>\n",
       "      <td>1144703</td>\n",
       "      <td>1313</td>\n",
       "      <td>1407</td>\n",
       "      <td>54</td>\n",
       "      <td>...</td>\n",
       "      <td>-2.0</td>\n",
       "      <td>0</td>\n",
       "      <td>0</td>\n",
       "      <td>36.0</td>\n",
       "      <td>20.0</td>\n",
       "      <td>NaN</td>\n",
       "      <td>NaN</td>\n",
       "      <td>NaN</td>\n",
       "      <td>NaN</td>\n",
       "      <td>NaN</td>\n",
       "    </tr>\n",
       "    <tr>\n",
       "      <th>5635965</th>\n",
       "      <td>5517327</td>\n",
       "      <td>2016-12-19</td>\n",
       "      <td>20304</td>\n",
       "      <td>N915SW</td>\n",
       "      <td>5104</td>\n",
       "      <td>1251902</td>\n",
       "      <td>1144703</td>\n",
       "      <td>2320</td>\n",
       "      <td>14</td>\n",
       "      <td>54</td>\n",
       "      <td>...</td>\n",
       "      <td>-2.0</td>\n",
       "      <td>0</td>\n",
       "      <td>0</td>\n",
       "      <td>35.0</td>\n",
       "      <td>22.0</td>\n",
       "      <td>NaN</td>\n",
       "      <td>NaN</td>\n",
       "      <td>NaN</td>\n",
       "      <td>NaN</td>\n",
       "      <td>NaN</td>\n",
       "    </tr>\n",
       "    <tr>\n",
       "      <th>5635966</th>\n",
       "      <td>4692220</td>\n",
       "      <td>2016-10-21</td>\n",
       "      <td>19977</td>\n",
       "      <td>N33294</td>\n",
       "      <td>165</td>\n",
       "      <td>1201602</td>\n",
       "      <td>1495503</td>\n",
       "      <td>630</td>\n",
       "      <td>710</td>\n",
       "      <td>40</td>\n",
       "      <td>...</td>\n",
       "      <td>-1.0</td>\n",
       "      <td>0</td>\n",
       "      <td>0</td>\n",
       "      <td>38.0</td>\n",
       "      <td>24.0</td>\n",
       "      <td>NaN</td>\n",
       "      <td>NaN</td>\n",
       "      <td>NaN</td>\n",
       "      <td>NaN</td>\n",
       "      <td>NaN</td>\n",
       "    </tr>\n",
       "  </tbody>\n",
       "</table>\n",
       "<p>5635967 rows × 46 columns</p>\n",
       "</div>"
      ],
      "text/plain": [
       "              ID       date  airline_ID tail_num  fl_num  \\\n",
       "0              1 2016-01-06       19805   N4YBAA      43   \n",
       "1              2 2016-01-07       19805   N434AA      43   \n",
       "2              3 2016-01-08       19805   N541AA      43   \n",
       "3              4 2016-01-09       19805   N489AA      43   \n",
       "4              5 2016-01-10       19805   N439AA      43   \n",
       "...          ...        ...         ...      ...     ...   \n",
       "5635962  5515254 2016-12-09       20304   N908SW    5102   \n",
       "5635963  5515257 2016-12-09       20304   N908SW    5104   \n",
       "5635964  5517324 2016-12-19       20304   N937SW    5102   \n",
       "5635965  5517327 2016-12-19       20304   N915SW    5104   \n",
       "5635966  4692220 2016-10-21       19977   N33294     165   \n",
       "\n",
       "         origin_airport_seq_ID  dest_airport_seq_ID  dep_time_x  arr_time_x  \\\n",
       "0                      1129804              1143302        1100        1438   \n",
       "1                      1129804              1143302        1100        1438   \n",
       "2                      1129804              1143302        1100        1438   \n",
       "3                      1129804              1143302        1100        1438   \n",
       "4                      1129804              1143302        1100        1438   \n",
       "...                        ...                  ...         ...         ...   \n",
       "5635962                1251902              1144703        1311        1359   \n",
       "5635963                1251902              1144703        2320           8   \n",
       "5635964                1251902              1144703        1313        1407   \n",
       "5635965                1251902              1144703        2320          14   \n",
       "5635966                1201602              1495503         630         710   \n",
       "\n",
       "         duration  ...  arr_delay_group  cancelled diverted  \\\n",
       "0             158  ...             -1.0          0        0   \n",
       "1             158  ...             -1.0          0        0   \n",
       "2             158  ...              0.0          0        0   \n",
       "3             158  ...             -1.0          0        0   \n",
       "4             158  ...              7.0          0        0   \n",
       "...           ...  ...              ...        ...      ...   \n",
       "5635962        48  ...             -1.0          0        0   \n",
       "5635963        48  ...             -2.0          0        0   \n",
       "5635964        54  ...             -2.0          0        0   \n",
       "5635965        54  ...             -2.0          0        0   \n",
       "5635966        40  ...             -1.0          0        0   \n",
       "\n",
       "         actual_elapsed_time  air_time carrier_delay weather_delay  nas_delay  \\\n",
       "0                      155.0     132.0           NaN           NaN        NaN   \n",
       "1                      150.0     126.0           NaN           NaN        NaN   \n",
       "2                      170.0     135.0           NaN           NaN        NaN   \n",
       "3                      151.0     129.0           NaN           NaN        NaN   \n",
       "4                      171.0     137.0           0.0           0.0       47.0   \n",
       "...                      ...       ...           ...           ...        ...   \n",
       "5635962                 48.0      23.0           NaN           NaN        NaN   \n",
       "5635963                 36.0      19.0           NaN           NaN        NaN   \n",
       "5635964                 36.0      20.0           NaN           NaN        NaN   \n",
       "5635965                 35.0      22.0           NaN           NaN        NaN   \n",
       "5635966                 38.0      24.0           NaN           NaN        NaN   \n",
       "\n",
       "        security_delay  late_aircraft_delay  \n",
       "0                  NaN                  NaN  \n",
       "1                  NaN                  NaN  \n",
       "2                  NaN                  NaN  \n",
       "3                  NaN                  NaN  \n",
       "4                  0.0                 66.0  \n",
       "...                ...                  ...  \n",
       "5635962            NaN                  NaN  \n",
       "5635963            NaN                  NaN  \n",
       "5635964            NaN                  NaN  \n",
       "5635965            NaN                  NaN  \n",
       "5635966            NaN                  NaN  \n",
       "\n",
       "[5635967 rows x 46 columns]"
      ]
     },
     "execution_count": 53,
     "metadata": {},
     "output_type": "execute_result"
    }
   ],
   "source": [
    "df = pd.merge(df_merged, df_delay, on='ID', how='inner')\n",
    "df"
   ]
  },
  {
   "cell_type": "code",
   "execution_count": 54,
   "metadata": {},
   "outputs": [
    {
     "data": {
      "text/plain": [
       "['ID',\n",
       " 'date',\n",
       " 'airline_ID',\n",
       " 'tail_num',\n",
       " 'fl_num',\n",
       " 'origin_airport_seq_ID',\n",
       " 'dest_airport_seq_ID',\n",
       " 'dep_time_x',\n",
       " 'arr_time_x',\n",
       " 'duration',\n",
       " 'distance',\n",
       " 'distance_group',\n",
       " 'carrier',\n",
       " 'origin_airport_ID',\n",
       " 'origin_city_market_ID',\n",
       " 'origin_city',\n",
       " 'origin_state_ID',\n",
       " 'origin_FIPS',\n",
       " 'origin_name',\n",
       " 'origin_WAC',\n",
       " 'dest_airport_ID',\n",
       " 'dest_city_market_ID',\n",
       " 'dest_city',\n",
       " 'dest_state_ID',\n",
       " 'dest_FIPS',\n",
       " 'dest_name',\n",
       " 'dest_WAC',\n",
       " 'dep_time_y',\n",
       " 'dep_delay',\n",
       " 'dep_delay_group',\n",
       " 'taxi_out',\n",
       " 'wheels_off',\n",
       " 'wheels_on',\n",
       " 'taxi_in',\n",
       " 'arr_time_y',\n",
       " 'arr_delay',\n",
       " 'arr_delay_group',\n",
       " 'cancelled',\n",
       " 'diverted',\n",
       " 'actual_elapsed_time',\n",
       " 'air_time',\n",
       " 'carrier_delay',\n",
       " 'weather_delay',\n",
       " 'nas_delay',\n",
       " 'security_delay',\n",
       " 'late_aircraft_delay']"
      ]
     },
     "execution_count": 54,
     "metadata": {},
     "output_type": "execute_result"
    }
   ],
   "source": [
    "df.columns.to_list()"
   ]
  },
  {
   "cell_type": "code",
   "execution_count": null,
   "metadata": {},
   "outputs": [],
   "source": [
    "# close_connection(con, cur)"
   ]
  },
  {
   "cell_type": "markdown",
   "metadata": {},
   "source": [
    "## Temporality"
   ]
  },
  {
   "cell_type": "markdown",
   "metadata": {},
   "source": [
    " 10,000,000 scheduled passenger flights handled by FAA yearly"
   ]
  },
  {
   "cell_type": "code",
   "execution_count": 59,
   "metadata": {},
   "outputs": [
    {
     "name": "stdout",
     "output_type": "stream",
     "text": [
      "Starting date of the data: 2016-01-01 00:00:00\n",
      "Ending date of the data: 2016-12-31 00:00:00\n"
     ]
    }
   ],
   "source": [
    "start_date = df['date'].min()\n",
    "end_date = df['date'].max()\n",
    "\n",
    "print(f\"Starting date of the data: {start_date}\")\n",
    "print(f\"Ending date of the data: {end_date}\")"
   ]
  },
  {
   "cell_type": "code",
   "execution_count": 57,
   "metadata": {},
   "outputs": [
    {
     "data": {
      "image/png": "[encoded data removed]",
      "text/plain": [
       "<Figure size 1000x600 with 1 Axes>"
      ]
     },
     "metadata": {},
     "output_type": "display_data"
    }
   ],
   "source": [
    "flights_per_day = df_flight.groupby('date').size()\n",
    "\n",
    "# Plot the number of flights per day\n",
    "plt.figure(figsize=(10, 6))\n",
    "flights_per_day.plot(kind='bar')\n",
    "plt.xlabel('Date')\n",
    "plt.ylabel('Number of Flights')\n",
    "plt.title('Number of Flights per Day')\n",
    "plt.xticks(rotation=45)\n",
    "plt.tight_layout()\n",
    "plt.show()"
   ]
  },
  {
   "cell_type": "code",
   "execution_count": 61,
   "metadata": {},
   "outputs": [
    {
     "data": {
      "image/png": "[encoded data removed]",
      "text/plain": [
       "<Figure size 1200x600 with 1 Axes>"
      ]
     },
     "metadata": {},
     "output_type": "display_data"
    }
   ],
   "source": [
    "# Create a new column for the start of the week\n",
    "df['week_start'] = df['date'].dt.to_period('W').apply(lambda r: r.start_time)\n",
    "\n",
    "# Group by the start of the week and count the number of flights per week\n",
    "flights_per_week = df.groupby('week_start').size().reset_index(name='flights')\n",
    "\n",
    "# Plot the number of flights per week\n",
    "plt.figure(figsize=(12, 6))\n",
    "plt.bar(flights_per_week['week_start'].astype(str), flights_per_week['flights'])\n",
    "plt.xlabel('Week Start Date')\n",
    "plt.ylabel('Number of Flights')\n",
    "plt.title('Number of domestic Flights per Week - 2016')\n",
    "plt.xticks([], [])  # This line removes the x-axis labels\n",
    "\n",
    "plt.tight_layout()\n",
    "plt.show()"
   ]
  },
  {
   "cell_type": "code",
   "execution_count": 62,
   "metadata": {},
   "outputs": [
    {
     "data": {
      "image/png": "[encoded data removed]",
      "text/plain": [
       "<Figure size 1200x600 with 1 Axes>"
      ]
     },
     "metadata": {},
     "output_type": "display_data"
    }
   ],
   "source": [
    "\n",
    "# Create a new column for the month and year\n",
    "df['month_year'] = df['date'].dt.to_period('M').astype(str)\n",
    "\n",
    "# Group by the month and count the number of flights per month\n",
    "flights_per_month = df.groupby('month_year').size().reset_index(name='flights')\n",
    "\n",
    "# Plot the number of flights per month\n",
    "plt.figure(figsize=(12, 6))\n",
    "plt.bar(flights_per_month['month_year'], flights_per_month['flights'])\n",
    "plt.xlabel('Month')\n",
    "plt.ylabel('Number of Flights')\n",
    "plt.title('Number of domestic Flights per Month - 2016')\n",
    "plt.xticks(rotation=45, ha='right')\n",
    "\n",
    "plt.tight_layout()\n",
    "plt.show()"
   ]
  },
  {
   "cell_type": "code",
   "execution_count": 63,
   "metadata": {},
   "outputs": [
    {
     "data": {
      "image/png": "[encoded data removed]",
      "text/plain": [
       "<Figure size 1000x600 with 1 Axes>"
      ]
     },
     "metadata": {},
     "output_type": "display_data"
    }
   ],
   "source": [
    "# Create a new column for the day of the week\n",
    "df['day_of_week'] = df['date'].dt.day_name()\n",
    "\n",
    "# Group by the day of the week and count the number of flights per day\n",
    "flights_per_day = df.groupby('day_of_week').size().reset_index(name='flights')\n",
    "\n",
    "# To ensure the days are ordered correctly\n",
    "days_of_week_order = [\"Monday\", \"Tuesday\", \"Wednesday\", \"Thursday\", \"Friday\", \"Saturday\", \"Sunday\"]\n",
    "flights_per_day['day_of_week'] = pd.Categorical(flights_per_day['day_of_week'], categories=days_of_week_order, ordered=True)\n",
    "flights_per_day = flights_per_day.sort_values('day_of_week')\n",
    "\n",
    "# Plot the number of flights per day of the week\n",
    "plt.figure(figsize=(10, 6))\n",
    "plt.bar(flights_per_day['day_of_week'], flights_per_day['flights'])\n",
    "plt.xlabel('Day of the Week')\n",
    "plt.ylabel('Number of Flights')\n",
    "plt.title('Number of domestic Flights per Day of the Week - 2016')\n",
    "plt.xticks(rotation=45, ha='right')\n",
    "\n",
    "plt.tight_layout()\n",
    "plt.show()"
   ]
  },
  {
   "cell_type": "code",
   "execution_count": 65,
   "metadata": {},
   "outputs": [],
   "source": [
    "df['arr_delay_bool'] = df['arr_delay'].apply(lambda x: 1 if x > 0 else 0)"
   ]
  },
  {
   "cell_type": "code",
   "execution_count": 66,
   "metadata": {},
   "outputs": [
    {
     "data": {
      "image/png": "[encoded data removed]",
      "text/plain": [
       "<Figure size 800x600 with 1 Axes>"
      ]
     },
     "metadata": {},
     "output_type": "display_data"
    }
   ],
   "source": [
    "delay_counts = df['arr_delay_bool'].value_counts()\n",
    "\n",
    "# Plot the pie chart\n",
    "labels = ['On Time', 'Delay']\n",
    "colors = ['#1f77b4', '#ff7f0e']  # Customize colors if desired\n",
    "\n",
    "plt.figure(figsize=(8, 6))\n",
    "plt.pie(delay_counts, labels=labels, colors=colors, autopct='%1.1f%%', startangle=140)\n",
    "plt.title('Percentage of On-Time and Delayed Flights')\n",
    "plt.axis('equal')  # Equal aspect ratio ensures that pie is drawn as a circle.\n",
    "plt.show()"
   ]
  },
  {
   "cell_type": "code",
   "execution_count": 67,
   "metadata": {},
   "outputs": [],
   "source": [
    "df['arr_delay_pos'] = np.where(df['arr_delay'] > 0, df['arr_delay'], 0)"
   ]
  },
  {
   "cell_type": "code",
   "execution_count": 73,
   "metadata": {},
   "outputs": [
    {
     "data": {
      "text/plain": [
       "ID                       int64\n",
       "dep_time               float64\n",
       "dep_delay              float64\n",
       "dep_delay_group        float64\n",
       "taxi_out               float64\n",
       "wheels_off             float64\n",
       "wheels_on              float64\n",
       "taxi_in                float64\n",
       "arr_time               float64\n",
       "arr_delay              float64\n",
       "arr_delay_group        float64\n",
       "cancelled                int64\n",
       "diverted                 int64\n",
       "actual_elapsed_time    float64\n",
       "air_time               float64\n",
       "carrier_delay          float64\n",
       "weather_delay          float64\n",
       "nas_delay              float64\n",
       "security_delay         float64\n",
       "late_aircraft_delay    float64\n",
       "dtype: object"
      ]
     },
     "execution_count": 73,
     "metadata": {},
     "output_type": "execute_result"
    }
   ],
   "source": []
  },
  {
   "cell_type": "code",
   "execution_count": 75,
   "metadata": {},
   "outputs": [
    {
     "data": {
      "image/png": "[encoded data removed]",
      "text/plain": [
       "<Figure size 1000x600 with 1 Axes>"
      ]
     },
     "metadata": {},
     "output_type": "display_data"
    }
   ],
   "source": [
    "\n",
    "# Create arr_delay_pos column\n",
    "df['arr_delay_pos'] = np.where(df['arr_delay'] > 0, df['arr_delay'], 0)\n",
    "\n",
    "# Filter positive values\n",
    "positive_delays = df[df['arr_delay_pos'] > 0]['arr_delay_pos']\n",
    "\n",
    "# Plot the distribution of positive values\n",
    "plt.figure(figsize=(10, 6))\n",
    "plt.hist(positive_delays, bins=range(1, int(positive_delays.max()) + 2), edgecolor='black')\n",
    "plt.xlabel('Positive Arrival Delay (minutes)')\n",
    "plt.ylabel('Frequency')\n",
    "plt.title('Distribution of Positive Arrival Delays')\n",
    "plt.xticks(range(1, int(positive_delays.max()) + 1))\n",
    "plt.tight_layout()\n",
    "plt.show()"
   ]
  },
  {
   "cell_type": "code",
   "execution_count": 76,
   "metadata": {},
   "outputs": [
    {
     "data": {
      "image/png": "[encoded data removed]",
      "text/plain": [
       "<Figure size 1000x600 with 1 Axes>"
      ]
     },
     "metadata": {},
     "output_type": "display_data"
    }
   ],
   "source": [
    "# Filter positive values and limit to a maximum of 100\n",
    "positive_delays = df[df['arr_delay_pos'] > 0]['arr_delay_pos']\n",
    "positive_delays = positive_delays[positive_delays <= 100]\n",
    "\n",
    "# Plot the distribution of positive values with bins of size 10\n",
    "plt.figure(figsize=(10, 6))\n",
    "plt.hist(positive_delays, bins=range(0, 110, 10), edgecolor='black')\n",
    "plt.xlabel('Positive Arrival Delay (minutes)')\n",
    "plt.ylabel('Frequency')\n",
    "plt.title('Distribution of Positive Arrival Delays')\n",
    "plt.xticks(range(0, 110, 10))\n",
    "plt.tight_layout()\n",
    "plt.show()"
   ]
  },
  {
   "cell_type": "code",
   "execution_count": 77,
   "metadata": {},
   "outputs": [
    {
     "data": {
      "image/png": "[encoded data removed]",
      "text/plain": [
       "<Figure size 800x600 with 1 Axes>"
      ]
     },
     "metadata": {},
     "output_type": "display_data"
    }
   ],
   "source": [
    "# Count the occurrences of each value in the 'cancelled' column\n",
    "cancelled_counts = df['cancelled'].value_counts()\n",
    "\n",
    "# Plot the pie chart\n",
    "labels = ['Not Cancelled', 'Cancelled']\n",
    "colors = ['#1f77b4', '#ff7f0e']  # Customize colors if desired\n",
    "\n",
    "plt.figure(figsize=(8, 6))\n",
    "plt.pie(cancelled_counts, labels=labels, colors=colors, autopct='%1.1f%%', startangle=140)\n",
    "plt.title('Percentage of Cancelled and Not Cancelled Flights')\n",
    "plt.axis('equal')  # Equal aspect ratio ensures that pie is drawn as a circle.\n",
    "plt.show()"
   ]
  },
  {
   "cell_type": "code",
   "execution_count": 78,
   "metadata": {},
   "outputs": [
    {
     "data": {
      "image/png": "[encoded data removed]",
      "text/plain": [
       "<Figure size 800x600 with 1 Axes>"
      ]
     },
     "metadata": {},
     "output_type": "display_data"
    }
   ],
   "source": [
    "\n",
    "# Count the occurrences of each value in the 'diverted' column\n",
    "diverted_counts = df['diverted'].value_counts()\n",
    "\n",
    "# Plot the pie chart\n",
    "labels = ['Not Diverted', 'Diverted']\n",
    "colors = ['#1f77b4', '#ff7f0e']  # Customize colors if desired\n",
    "\n",
    "plt.figure(figsize=(8, 6))\n",
    "plt.pie(diverted_counts, labels=labels, colors=colors, autopct='%1.1f%%', startangle=140)\n",
    "plt.title('Percentage of Diverted and Not Diverted Flights')\n",
    "plt.axis('equal')  # Equal aspect ratio ensures that pie is drawn as a circle.\n",
    "plt.show()"
   ]
  },
  {
   "cell_type": "code",
   "execution_count": 80,
   "metadata": {},
   "outputs": [
    {
     "data": {
      "image/png": "[encoded data removed]",
      "text/plain": [
       "<Figure size 1000x600 with 1 Axes>"
      ]
     },
     "metadata": {},
     "output_type": "display_data"
    }
   ],
   "source": [
    "delay_counts = {\n",
    "    'Carrier Delay': df['carrier_delay'].sum(),\n",
    "    'Weather Delay': df['weather_delay'].sum(),\n",
    "    'NAS Delay': df['nas_delay'].sum(),\n",
    "    'Security Delay': df['security_delay'].sum(),\n",
    "    'Late Aircraft Delay': df['late_aircraft_delay'].sum()\n",
    "}\n",
    "\n",
    "# Calculate total delays\n",
    "total_delays = sum(delay_counts.values())\n",
    "\n",
    "# Calculate the proportion percentage for each delay type\n",
    "delay_proportions = {k: (v / total_delays) * 100 for k, v in delay_counts.items()}\n",
    "\n",
    "# Plot the bar plot\n",
    "plt.figure(figsize=(10, 6))\n",
    "plt.bar(delay_proportions.keys(), delay_proportions.values(), color=['blue', 'orange', 'green', 'red', 'purple'])\n",
    "plt.xlabel('Delay Type')\n",
    "plt.ylabel('Proportion (%)')\n",
    "plt.title('Proportion of Each Delay Type')\n",
    "plt.tight_layout()\n",
    "plt.show()"
   ]
  },
  {
   "cell_type": "markdown",
   "metadata": {},
   "source": [
    "Carrier Delay\n",
    "Definition: Delays caused by the airline itself.\n",
    "\n",
    "Examples:\n",
    "\n",
    "Aircraft maintenance or crew issues.\n",
    "Baggage loading problems.\n",
    "Late arrival of the aircraft from a previous flight.\n",
    "Weather Delay\n",
    "Definition: Delays caused by weather conditions.\n",
    "\n",
    "Examples:\n",
    "\n",
    "Severe weather conditions such as thunderstorms, snowstorms, fog, or hurricanes.\n",
    "Low visibility or other weather-related factors that affect flight safety.\n",
    "NAS Delay (National Airspace System Delay)\n",
    "Definition: Delays caused by the national airspace system.\n",
    "\n",
    "Examples:\n",
    "\n",
    "Air traffic control delays.\n",
    "Airport operations issues (e.g., long queues for takeoff).\n",
    "Heavy air traffic volume.\n",
    "Security Delay\n",
    "Definition: Delays caused by security-related issues.\n",
    "\n",
    "Examples:\n",
    "\n",
    "Security breaches or threats.\n",
    "Increased security checks and procedures.\n",
    "Evacuations or other security protocols.\n",
    "Late Aircraft Delay\n",
    "Definition: Delays caused by the late arrival of the aircraft from a previous flight.\n",
    "\n",
    "Examples:\n",
    "\n",
    "The aircraft arriving late from a previous route, thus delaying the next scheduled departure.\n",
    "Knock-on effects from earlier delays."
   ]
  },
  {
   "cell_type": "code",
   "execution_count": 82,
   "metadata": {},
   "outputs": [
    {
     "data": {
      "text/plain": [
       "0          TX\n",
       "1          TX\n",
       "2          TX\n",
       "3          TX\n",
       "4          TX\n",
       "           ..\n",
       "5635962    ND\n",
       "5635963    ND\n",
       "5635964    ND\n",
       "5635965    ND\n",
       "5635966    TT\n",
       "Name: origin_state_ID, Length: 5635967, dtype: object"
      ]
     },
     "execution_count": 82,
     "metadata": {},
     "output_type": "execute_result"
    }
   ],
   "source": [
    "df['origin_state_ID']"
   ]
  },
  {
   "cell_type": "code",
   "execution_count": 83,
   "metadata": {},
   "outputs": [
    {
     "data": {
      "application/vnd.plotly.v1+json": {
       "config": {
        "plotlyServerURL": "https://plot.ly"
       },
       "data": [
        {
         "coloraxis": "coloraxis",
         "geo": "geo",
         "hovertemplate": "state=%{location}<br>flights=%{z}<extra></extra>",
         "locationmode": "USA-states",
         "locations": [
          "CA",
          "TX",
          "FL",
          "GA",
          "IL",
          "NY",
          "CO",
          "AZ",
          "NV",
          "NC",
          "MI",
          "WA",
          "VA",
          "MN",
          "MA",
          "NJ",
          "UT",
          "PA",
          "MO",
          "HI",
          "MD",
          "TN",
          "OH",
          "OR",
          "LA",
          "WI",
          "IN",
          "AK",
          "SC",
          "KY",
          "OK",
          "PR",
          "AL",
          "NE",
          "NM",
          "ID",
          "CT",
          "MT",
          "AR",
          "ND",
          "RI",
          "IA",
          "MS",
          "KS",
          "WY",
          "SD",
          "ME",
          "NH",
          "VI",
          "VT",
          "WV",
          "TT"
         ],
         "name": "",
         "type": "choropleth",
         "z": [
          725508,
          582450,
          450029,
          410132,
          342405,
          254436,
          248102,
          176075,
          164984,
          155796,
          154444,
          144252,
          144180,
          138771,
          122648,
          122606,
          113273,
          105631,
          102809,
          100415,
          96055,
          80342,
          69709,
          67689,
          67612,
          51151,
          39332,
          34560,
          32527,
          32117,
          31242,
          29669,
          25159,
          21531,
          21331,
          21129,
          20394,
          17142,
          16377,
          12805,
          12681,
          12229,
          11382,
          9038,
          8715,
          8081,
          6963,
          6720,
          6105,
          4141,
          2604,
          489
         ]
        }
       ],
       "layout": {
        "coloraxis": {
         "colorbar": {
          "title": {
           "text": "flights"
          }
         },
         "colorscale": [
          [
           0,
           "rgb(255,247,236)"
          ],
          [
           0.125,
           "rgb(254,232,200)"
          ],
          [
           0.25,
           "rgb(253,212,158)"
          ],
          [
           0.375,
           "rgb(253,187,132)"
          ],
          [
           0.5,
           "rgb(252,141,89)"
          ],
          [
           0.625,
           "rgb(239,101,72)"
          ],
          [
           0.75,
           "rgb(215,48,31)"
          ],
          [
           0.875,
           "rgb(179,0,0)"
          ],
          [
           1,
           "rgb(127,0,0)"
          ]
         ]
        },
        "geo": {
         "center": {},
         "domain": {
          "x": [
           0,
           1
          ],
          "y": [
           0,
           1
          ]
         },
         "scope": "usa"
        },
        "legend": {
         "tracegroupgap": 0
        },
        "template": {
         "data": {
          "bar": [
           {
            "error_x": {
             "color": "#2a3f5f"
            },
            "error_y": {
             "color": "#2a3f5f"
            },
            "marker": {
             "line": {
              "color": "#E5ECF6",
              "width": 0.5
             },
             "pattern": {
              "fillmode": "overlay",
              "size": 10,
              "solidity": 0.2
             }
            },
            "type": "bar"
           }
          ],
          "barpolar": [
           {
            "marker": {
             "line": {
              "color": "#E5ECF6",
              "width": 0.5
             },
             "pattern": {
              "fillmode": "overlay",
              "size": 10,
              "solidity": 0.2
             }
            },
            "type": "barpolar"
           }
          ],
          "carpet": [
           {
            "aaxis": {
             "endlinecolor": "#2a3f5f",
             "gridcolor": "white",
             "linecolor": "white",
             "minorgridcolor": "white",
             "startlinecolor": "#2a3f5f"
            },
            "baxis": {
             "endlinecolor": "#2a3f5f",
             "gridcolor": "white",
             "linecolor": "white",
             "minorgridcolor": "white",
             "startlinecolor": "#2a3f5f"
            },
            "type": "carpet"
           }
          ],
          "choropleth": [
           {
            "colorbar": {
             "outlinewidth": 0,
             "ticks": ""
            },
            "type": "choropleth"
           }
          ],
          "contour": [
           {
            "colorbar": {
             "outlinewidth": 0,
             "ticks": ""
            },
            "colorscale": [
             [
              0,
              "#0d0887"
             ],
             [
              0.1111111111111111,
              "#46039f"
             ],
             [
              0.2222222222222222,
              "#7201a8"
             ],
             [
              0.3333333333333333,
              "#9c179e"
             ],
             [
              0.4444444444444444,
              "#bd3786"
             ],
             [
              0.5555555555555556,
              "#d8576b"
             ],
             [
              0.6666666666666666,
              "#ed7953"
             ],
             [
              0.7777777777777778,
              "#fb9f3a"
             ],
             [
              0.8888888888888888,
              "#fdca26"
             ],
             [
              1,
              "#f0f921"
             ]
            ],
            "type": "contour"
           }
          ],
          "contourcarpet": [
           {
            "colorbar": {
             "outlinewidth": 0,
             "ticks": ""
            },
            "type": "contourcarpet"
           }
          ],
          "heatmap": [
           {
            "colorbar": {
             "outlinewidth": 0,
             "ticks": ""
            },
            "colorscale": [
             [
              0,
              "#0d0887"
             ],
             [
              0.1111111111111111,
              "#46039f"
             ],
             [
              0.2222222222222222,
              "#7201a8"
             ],
             [
              0.3333333333333333,
              "#9c179e"
             ],
             [
              0.4444444444444444,
              "#bd3786"
             ],
             [
              0.5555555555555556,
              "#d8576b"
             ],
             [
              0.6666666666666666,
              "#ed7953"
             ],
             [
              0.7777777777777778,
              "#fb9f3a"
             ],
             [
              0.8888888888888888,
              "#fdca26"
             ],
             [
              1,
              "#f0f921"
             ]
            ],
            "type": "heatmap"
           }
          ],
          "heatmapgl": [
           {
            "colorbar": {
             "outlinewidth": 0,
             "ticks": ""
            },
            "colorscale": [
             [
              0,
              "#0d0887"
             ],
             [
              0.1111111111111111,
              "#46039f"
             ],
             [
              0.2222222222222222,
              "#7201a8"
             ],
             [
              0.3333333333333333,
              "#9c179e"
             ],
             [
              0.4444444444444444,
              "#bd3786"
             ],
             [
              0.5555555555555556,
              "#d8576b"
             ],
             [
              0.6666666666666666,
              "#ed7953"
             ],
             [
              0.7777777777777778,
              "#fb9f3a"
             ],
             [
              0.8888888888888888,
              "#fdca26"
             ],
             [
              1,
              "#f0f921"
             ]
            ],
            "type": "heatmapgl"
           }
          ],
          "histogram": [
           {
            "marker": {
             "pattern": {
              "fillmode": "overlay",
              "size": 10,
              "solidity": 0.2
             }
            },
            "type": "histogram"
           }
          ],
          "histogram2d": [
           {
            "colorbar": {
             "outlinewidth": 0,
             "ticks": ""
            },
            "colorscale": [
             [
              0,
              "#0d0887"
             ],
             [
              0.1111111111111111,
              "#46039f"
             ],
             [
              0.2222222222222222,
              "#7201a8"
             ],
             [
              0.3333333333333333,
              "#9c179e"
             ],
             [
              0.4444444444444444,
              "#bd3786"
             ],
             [
              0.5555555555555556,
              "#d8576b"
             ],
             [
              0.6666666666666666,
              "#ed7953"
             ],
             [
              0.7777777777777778,
              "#fb9f3a"
             ],
             [
              0.8888888888888888,
              "#fdca26"
             ],
             [
              1,
              "#f0f921"
             ]
            ],
            "type": "histogram2d"
           }
          ],
          "histogram2dcontour": [
           {
            "colorbar": {
             "outlinewidth": 0,
             "ticks": ""
            },
            "colorscale": [
             [
              0,
              "#0d0887"
             ],
             [
              0.1111111111111111,
              "#46039f"
             ],
             [
              0.2222222222222222,
              "#7201a8"
             ],
             [
              0.3333333333333333,
              "#9c179e"
             ],
             [
              0.4444444444444444,
              "#bd3786"
             ],
             [
              0.5555555555555556,
              "#d8576b"
             ],
             [
              0.6666666666666666,
              "#ed7953"
             ],
             [
              0.7777777777777778,
              "#fb9f3a"
             ],
             [
              0.8888888888888888,
              "#fdca26"
             ],
             [
              1,
              "#f0f921"
             ]
            ],
            "type": "histogram2dcontour"
           }
          ],
          "mesh3d": [
           {
            "colorbar": {
             "outlinewidth": 0,
             "ticks": ""
            },
            "type": "mesh3d"
           }
          ],
          "parcoords": [
           {
            "line": {
             "colorbar": {
              "outlinewidth": 0,
              "ticks": ""
             }
            },
            "type": "parcoords"
           }
          ],
          "pie": [
           {
            "automargin": true,
            "type": "pie"
           }
          ],
          "scatter": [
           {
            "fillpattern": {
             "fillmode": "overlay",
             "size": 10,
             "solidity": 0.2
            },
            "type": "scatter"
           }
          ],
          "scatter3d": [
           {
            "line": {
             "colorbar": {
              "outlinewidth": 0,
              "ticks": ""
             }
            },
            "marker": {
             "colorbar": {
              "outlinewidth": 0,
              "ticks": ""
             }
            },
            "type": "scatter3d"
           }
          ],
          "scattercarpet": [
           {
            "marker": {
             "colorbar": {
              "outlinewidth": 0,
              "ticks": ""
             }
            },
            "type": "scattercarpet"
           }
          ],
          "scattergeo": [
           {
            "marker": {
             "colorbar": {
              "outlinewidth": 0,
              "ticks": ""
             }
            },
            "type": "scattergeo"
           }
          ],
          "scattergl": [
           {
            "marker": {
             "colorbar": {
              "outlinewidth": 0,
              "ticks": ""
             }
            },
            "type": "scattergl"
           }
          ],
          "scattermapbox": [
           {
            "marker": {
             "colorbar": {
              "outlinewidth": 0,
              "ticks": ""
             }
            },
            "type": "scattermapbox"
           }
          ],
          "scatterpolar": [
           {
            "marker": {
             "colorbar": {
              "outlinewidth": 0,
              "ticks": ""
             }
            },
            "type": "scatterpolar"
           }
          ],
          "scatterpolargl": [
           {
            "marker": {
             "colorbar": {
              "outlinewidth": 0,
              "ticks": ""
             }
            },
            "type": "scatterpolargl"
           }
          ],
          "scatterternary": [
           {
            "marker": {
             "colorbar": {
              "outlinewidth": 0,
              "ticks": ""
             }
            },
            "type": "scatterternary"
           }
          ],
          "surface": [
           {
            "colorbar": {
             "outlinewidth": 0,
             "ticks": ""
            },
            "colorscale": [
             [
              0,
              "#0d0887"
             ],
             [
              0.1111111111111111,
              "#46039f"
             ],
             [
              0.2222222222222222,
              "#7201a8"
             ],
             [
              0.3333333333333333,
              "#9c179e"
             ],
             [
              0.4444444444444444,
              "#bd3786"
             ],
             [
              0.5555555555555556,
              "#d8576b"
             ],
             [
              0.6666666666666666,
              "#ed7953"
             ],
             [
              0.7777777777777778,
              "#fb9f3a"
             ],
             [
              0.8888888888888888,
              "#fdca26"
             ],
             [
              1,
              "#f0f921"
             ]
            ],
            "type": "surface"
           }
          ],
          "table": [
           {
            "cells": {
             "fill": {
              "color": "#EBF0F8"
             },
             "line": {
              "color": "white"
             }
            },
            "header": {
             "fill": {
              "color": "#C8D4E3"
             },
             "line": {
              "color": "white"
             }
            },
            "type": "table"
           }
          ]
         },
         "layout": {
          "annotationdefaults": {
           "arrowcolor": "#2a3f5f",
           "arrowhead": 0,
           "arrowwidth": 1
          },
          "autotypenumbers": "strict",
          "coloraxis": {
           "colorbar": {
            "outlinewidth": 0,
            "ticks": ""
           }
          },
          "colorscale": {
           "diverging": [
            [
             0,
             "#8e0152"
            ],
            [
             0.1,
             "#c51b7d"
            ],
            [
             0.2,
             "#de77ae"
            ],
            [
             0.3,
             "#f1b6da"
            ],
            [
             0.4,
             "#fde0ef"
            ],
            [
             0.5,
             "#f7f7f7"
            ],
            [
             0.6,
             "#e6f5d0"
            ],
            [
             0.7,
             "#b8e186"
            ],
            [
             0.8,
             "#7fbc41"
            ],
            [
             0.9,
             "#4d9221"
            ],
            [
             1,
             "#276419"
            ]
           ],
           "sequential": [
            [
             0,
             "#0d0887"
            ],
            [
             0.1111111111111111,
             "#46039f"
            ],
            [
             0.2222222222222222,
             "#7201a8"
            ],
            [
             0.3333333333333333,
             "#9c179e"
            ],
            [
             0.4444444444444444,
             "#bd3786"
            ],
            [
             0.5555555555555556,
             "#d8576b"
            ],
            [
             0.6666666666666666,
             "#ed7953"
            ],
            [
             0.7777777777777778,
             "#fb9f3a"
            ],
            [
             0.8888888888888888,
             "#fdca26"
            ],
            [
             1,
             "#f0f921"
            ]
           ],
           "sequentialminus": [
            [
             0,
             "#0d0887"
            ],
            [
             0.1111111111111111,
             "#46039f"
            ],
            [
             0.2222222222222222,
             "#7201a8"
            ],
            [
             0.3333333333333333,
             "#9c179e"
            ],
            [
             0.4444444444444444,
             "#bd3786"
            ],
            [
             0.5555555555555556,
             "#d8576b"
            ],
            [
             0.6666666666666666,
             "#ed7953"
            ],
            [
             0.7777777777777778,
             "#fb9f3a"
            ],
            [
             0.8888888888888888,
             "#fdca26"
            ],
            [
             1,
             "#f0f921"
            ]
           ]
          },
          "colorway": [
           "#636efa",
           "#EF553B",
           "#00cc96",
           "#ab63fa",
           "#FFA15A",
           "#19d3f3",
           "#FF6692",
           "#B6E880",
           "#FF97FF",
           "#FECB52"
          ],
          "font": {
           "color": "#2a3f5f"
          },
          "geo": {
           "bgcolor": "white",
           "lakecolor": "white",
           "landcolor": "#E5ECF6",
           "showlakes": true,
           "showland": true,
           "subunitcolor": "white"
          },
          "hoverlabel": {
           "align": "left"
          },
          "hovermode": "closest",
          "mapbox": {
           "style": "light"
          },
          "paper_bgcolor": "white",
          "plot_bgcolor": "#E5ECF6",
          "polar": {
           "angularaxis": {
            "gridcolor": "white",
            "linecolor": "white",
            "ticks": ""
           },
           "bgcolor": "#E5ECF6",
           "radialaxis": {
            "gridcolor": "white",
            "linecolor": "white",
            "ticks": ""
           }
          },
          "scene": {
           "xaxis": {
            "backgroundcolor": "#E5ECF6",
            "gridcolor": "white",
            "gridwidth": 2,
            "linecolor": "white",
            "showbackground": true,
            "ticks": "",
            "zerolinecolor": "white"
           },
           "yaxis": {
            "backgroundcolor": "#E5ECF6",
            "gridcolor": "white",
            "gridwidth": 2,
            "linecolor": "white",
            "showbackground": true,
            "ticks": "",
            "zerolinecolor": "white"
           },
           "zaxis": {
            "backgroundcolor": "#E5ECF6",
            "gridcolor": "white",
            "gridwidth": 2,
            "linecolor": "white",
            "showbackground": true,
            "ticks": "",
            "zerolinecolor": "white"
           }
          },
          "shapedefaults": {
           "line": {
            "color": "#2a3f5f"
           }
          },
          "ternary": {
           "aaxis": {
            "gridcolor": "white",
            "linecolor": "white",
            "ticks": ""
           },
           "baxis": {
            "gridcolor": "white",
            "linecolor": "white",
            "ticks": ""
           },
           "bgcolor": "#E5ECF6",
           "caxis": {
            "gridcolor": "white",
            "linecolor": "white",
            "ticks": ""
           }
          },
          "title": {
           "x": 0.05
          },
          "xaxis": {
           "automargin": true,
           "gridcolor": "white",
           "linecolor": "white",
           "ticks": "",
           "title": {
            "standoff": 15
           },
           "zerolinecolor": "white",
           "zerolinewidth": 2
          },
          "yaxis": {
           "automargin": true,
           "gridcolor": "white",
           "linecolor": "white",
           "ticks": "",
           "title": {
            "standoff": 15
           },
           "zerolinecolor": "white",
           "zerolinewidth": 2
          }
         }
        },
        "title": {
         "text": "Flight Distribution by Origin State"
        }
       }
      }
     },
     "metadata": {},
     "output_type": "display_data"
    }
   ],
   "source": [
    "import plotly.express as px\n",
    "\n",
    "state_counts = df['origin_state_ID'].value_counts().reset_index()\n",
    "state_counts.columns = ['state', 'flights']\n",
    "\n",
    "fig = px.choropleth(\n",
    "    state_counts,\n",
    "    locations='state',\n",
    "    locationmode='USA-states',\n",
    "    color='flights',\n",
    "    color_continuous_scale='OrRd',\n",
    "    scope='usa',\n",
    "    title='Flight Distribution by Origin State'\n",
    ")\n",
    "\n",
    "fig.show()"
   ]
  },
  {
   "cell_type": "code",
   "execution_count": 84,
   "metadata": {},
   "outputs": [
    {
     "data": {
      "application/vnd.plotly.v1+json": {
       "config": {
        "plotlyServerURL": "https://plot.ly"
       },
       "data": [
        {
         "coloraxis": "coloraxis",
         "geo": "geo",
         "hovertemplate": "state=%{location}<br>flights=%{z}<extra></extra>",
         "locationmode": "USA-states",
         "locations": [
          "CA",
          "TX",
          "FL",
          "GA",
          "IL",
          "NY",
          "CO",
          "AZ",
          "NV",
          "NC",
          "MI",
          "VA",
          "WA",
          "MN",
          "NJ",
          "MA",
          "UT",
          "PA",
          "MO",
          "HI",
          "MD",
          "TN",
          "OH",
          "OR",
          "LA",
          "WI",
          "IN",
          "AK",
          "SC",
          "KY",
          "OK",
          "PR",
          "AL",
          "NE",
          "NM",
          "ID",
          "CT",
          "MT",
          "AR",
          "ND",
          "RI",
          "IA",
          "MS",
          "KS",
          "WY",
          "SD",
          "ME",
          "NH",
          "VI",
          "VT",
          "WV",
          "TT"
         ],
         "name": "",
         "type": "choropleth",
         "z": [
          725391,
          582587,
          450078,
          409777,
          342369,
          254686,
          248220,
          175956,
          165070,
          155658,
          154557,
          144351,
          144252,
          138668,
          122812,
          122623,
          113243,
          105623,
          102764,
          100401,
          96231,
          80438,
          69554,
          67689,
          67475,
          51126,
          39318,
          34554,
          32562,
          31950,
          31142,
          29618,
          25087,
          21586,
          21332,
          21085,
          20381,
          17170,
          16443,
          12796,
          12683,
          12313,
          11433,
          9045,
          8714,
          8077,
          7009,
          6711,
          6101,
          4161,
          2608,
          489
         ]
        }
       ],
       "layout": {
        "coloraxis": {
         "colorbar": {
          "title": {
           "text": "flights"
          }
         },
         "colorscale": [
          [
           0,
           "rgb(255,247,236)"
          ],
          [
           0.125,
           "rgb(254,232,200)"
          ],
          [
           0.25,
           "rgb(253,212,158)"
          ],
          [
           0.375,
           "rgb(253,187,132)"
          ],
          [
           0.5,
           "rgb(252,141,89)"
          ],
          [
           0.625,
           "rgb(239,101,72)"
          ],
          [
           0.75,
           "rgb(215,48,31)"
          ],
          [
           0.875,
           "rgb(179,0,0)"
          ],
          [
           1,
           "rgb(127,0,0)"
          ]
         ]
        },
        "geo": {
         "center": {},
         "domain": {
          "x": [
           0,
           1
          ],
          "y": [
           0,
           1
          ]
         },
         "scope": "usa"
        },
        "legend": {
         "tracegroupgap": 0
        },
        "template": {
         "data": {
          "bar": [
           {
            "error_x": {
             "color": "#2a3f5f"
            },
            "error_y": {
             "color": "#2a3f5f"
            },
            "marker": {
             "line": {
              "color": "#E5ECF6",
              "width": 0.5
             },
             "pattern": {
              "fillmode": "overlay",
              "size": 10,
              "solidity": 0.2
             }
            },
            "type": "bar"
           }
          ],
          "barpolar": [
           {
            "marker": {
             "line": {
              "color": "#E5ECF6",
              "width": 0.5
             },
             "pattern": {
              "fillmode": "overlay",
              "size": 10,
              "solidity": 0.2
             }
            },
            "type": "barpolar"
           }
          ],
          "carpet": [
           {
            "aaxis": {
             "endlinecolor": "#2a3f5f",
             "gridcolor": "white",
             "linecolor": "white",
             "minorgridcolor": "white",
             "startlinecolor": "#2a3f5f"
            },
            "baxis": {
             "endlinecolor": "#2a3f5f",
             "gridcolor": "white",
             "linecolor": "white",
             "minorgridcolor": "white",
             "startlinecolor": "#2a3f5f"
            },
            "type": "carpet"
           }
          ],
          "choropleth": [
           {
            "colorbar": {
             "outlinewidth": 0,
             "ticks": ""
            },
            "type": "choropleth"
           }
          ],
          "contour": [
           {
            "colorbar": {
             "outlinewidth": 0,
             "ticks": ""
            },
            "colorscale": [
             [
              0,
              "#0d0887"
             ],
             [
              0.1111111111111111,
              "#46039f"
             ],
             [
              0.2222222222222222,
              "#7201a8"
             ],
             [
              0.3333333333333333,
              "#9c179e"
             ],
             [
              0.4444444444444444,
              "#bd3786"
             ],
             [
              0.5555555555555556,
              "#d8576b"
             ],
             [
              0.6666666666666666,
              "#ed7953"
             ],
             [
              0.7777777777777778,
              "#fb9f3a"
             ],
             [
              0.8888888888888888,
              "#fdca26"
             ],
             [
              1,
              "#f0f921"
             ]
            ],
            "type": "contour"
           }
          ],
          "contourcarpet": [
           {
            "colorbar": {
             "outlinewidth": 0,
             "ticks": ""
            },
            "type": "contourcarpet"
           }
          ],
          "heatmap": [
           {
            "colorbar": {
             "outlinewidth": 0,
             "ticks": ""
            },
            "colorscale": [
             [
              0,
              "#0d0887"
             ],
             [
              0.1111111111111111,
              "#46039f"
             ],
             [
              0.2222222222222222,
              "#7201a8"
             ],
             [
              0.3333333333333333,
              "#9c179e"
             ],
             [
              0.4444444444444444,
              "#bd3786"
             ],
             [
              0.5555555555555556,
              "#d8576b"
             ],
             [
              0.6666666666666666,
              "#ed7953"
             ],
             [
              0.7777777777777778,
              "#fb9f3a"
             ],
             [
              0.8888888888888888,
              "#fdca26"
             ],
             [
              1,
              "#f0f921"
             ]
            ],
            "type": "heatmap"
           }
          ],
          "heatmapgl": [
           {
            "colorbar": {
             "outlinewidth": 0,
             "ticks": ""
            },
            "colorscale": [
             [
              0,
              "#0d0887"
             ],
             [
              0.1111111111111111,
              "#46039f"
             ],
             [
              0.2222222222222222,
              "#7201a8"
             ],
             [
              0.3333333333333333,
              "#9c179e"
             ],
             [
              0.4444444444444444,
              "#bd3786"
             ],
             [
              0.5555555555555556,
              "#d8576b"
             ],
             [
              0.6666666666666666,
              "#ed7953"
             ],
             [
              0.7777777777777778,
              "#fb9f3a"
             ],
             [
              0.8888888888888888,
              "#fdca26"
             ],
             [
              1,
              "#f0f921"
             ]
            ],
            "type": "heatmapgl"
           }
          ],
          "histogram": [
           {
            "marker": {
             "pattern": {
              "fillmode": "overlay",
              "size": 10,
              "solidity": 0.2
             }
            },
            "type": "histogram"
           }
          ],
          "histogram2d": [
           {
            "colorbar": {
             "outlinewidth": 0,
             "ticks": ""
            },
            "colorscale": [
             [
              0,
              "#0d0887"
             ],
             [
              0.1111111111111111,
              "#46039f"
             ],
             [
              0.2222222222222222,
              "#7201a8"
             ],
             [
              0.3333333333333333,
              "#9c179e"
             ],
             [
              0.4444444444444444,
              "#bd3786"
             ],
             [
              0.5555555555555556,
              "#d8576b"
             ],
             [
              0.6666666666666666,
              "#ed7953"
             ],
             [
              0.7777777777777778,
              "#fb9f3a"
             ],
             [
              0.8888888888888888,
              "#fdca26"
             ],
             [
              1,
              "#f0f921"
             ]
            ],
            "type": "histogram2d"
           }
          ],
          "histogram2dcontour": [
           {
            "colorbar": {
             "outlinewidth": 0,
             "ticks": ""
            },
            "colorscale": [
             [
              0,
              "#0d0887"
             ],
             [
              0.1111111111111111,
              "#46039f"
             ],
             [
              0.2222222222222222,
              "#7201a8"
             ],
             [
              0.3333333333333333,
              "#9c179e"
             ],
             [
              0.4444444444444444,
              "#bd3786"
             ],
             [
              0.5555555555555556,
              "#d8576b"
             ],
             [
              0.6666666666666666,
              "#ed7953"
             ],
             [
              0.7777777777777778,
              "#fb9f3a"
             ],
             [
              0.8888888888888888,
              "#fdca26"
             ],
             [
              1,
              "#f0f921"
             ]
            ],
            "type": "histogram2dcontour"
           }
          ],
          "mesh3d": [
           {
            "colorbar": {
             "outlinewidth": 0,
             "ticks": ""
            },
            "type": "mesh3d"
           }
          ],
          "parcoords": [
           {
            "line": {
             "colorbar": {
              "outlinewidth": 0,
              "ticks": ""
             }
            },
            "type": "parcoords"
           }
          ],
          "pie": [
           {
            "automargin": true,
            "type": "pie"
           }
          ],
          "scatter": [
           {
            "fillpattern": {
             "fillmode": "overlay",
             "size": 10,
             "solidity": 0.2
            },
            "type": "scatter"
           }
          ],
          "scatter3d": [
           {
            "line": {
             "colorbar": {
              "outlinewidth": 0,
              "ticks": ""
             }
            },
            "marker": {
             "colorbar": {
              "outlinewidth": 0,
              "ticks": ""
             }
            },
            "type": "scatter3d"
           }
          ],
          "scattercarpet": [
           {
            "marker": {
             "colorbar": {
              "outlinewidth": 0,
              "ticks": ""
             }
            },
            "type": "scattercarpet"
           }
          ],
          "scattergeo": [
           {
            "marker": {
             "colorbar": {
              "outlinewidth": 0,
              "ticks": ""
             }
            },
            "type": "scattergeo"
           }
          ],
          "scattergl": [
           {
            "marker": {
             "colorbar": {
              "outlinewidth": 0,
              "ticks": ""
             }
            },
            "type": "scattergl"
           }
          ],
          "scattermapbox": [
           {
            "marker": {
             "colorbar": {
              "outlinewidth": 0,
              "ticks": ""
             }
            },
            "type": "scattermapbox"
           }
          ],
          "scatterpolar": [
           {
            "marker": {
             "colorbar": {
              "outlinewidth": 0,
              "ticks": ""
             }
            },
            "type": "scatterpolar"
           }
          ],
          "scatterpolargl": [
           {
            "marker": {
             "colorbar": {
              "outlinewidth": 0,
              "ticks": ""
             }
            },
            "type": "scatterpolargl"
           }
          ],
          "scatterternary": [
           {
            "marker": {
             "colorbar": {
              "outlinewidth": 0,
              "ticks": ""
             }
            },
            "type": "scatterternary"
           }
          ],
          "surface": [
           {
            "colorbar": {
             "outlinewidth": 0,
             "ticks": ""
            },
            "colorscale": [
             [
              0,
              "#0d0887"
             ],
             [
              0.1111111111111111,
              "#46039f"
             ],
             [
              0.2222222222222222,
              "#7201a8"
             ],
             [
              0.3333333333333333,
              "#9c179e"
             ],
             [
              0.4444444444444444,
              "#bd3786"
             ],
             [
              0.5555555555555556,
              "#d8576b"
             ],
             [
              0.6666666666666666,
              "#ed7953"
             ],
             [
              0.7777777777777778,
              "#fb9f3a"
             ],
             [
              0.8888888888888888,
              "#fdca26"
             ],
             [
              1,
              "#f0f921"
             ]
            ],
            "type": "surface"
           }
          ],
          "table": [
           {
            "cells": {
             "fill": {
              "color": "#EBF0F8"
             },
             "line": {
              "color": "white"
             }
            },
            "header": {
             "fill": {
              "color": "#C8D4E3"
             },
             "line": {
              "color": "white"
             }
            },
            "type": "table"
           }
          ]
         },
         "layout": {
          "annotationdefaults": {
           "arrowcolor": "#2a3f5f",
           "arrowhead": 0,
           "arrowwidth": 1
          },
          "autotypenumbers": "strict",
          "coloraxis": {
           "colorbar": {
            "outlinewidth": 0,
            "ticks": ""
           }
          },
          "colorscale": {
           "diverging": [
            [
             0,
             "#8e0152"
            ],
            [
             0.1,
             "#c51b7d"
            ],
            [
             0.2,
             "#de77ae"
            ],
            [
             0.3,
             "#f1b6da"
            ],
            [
             0.4,
             "#fde0ef"
            ],
            [
             0.5,
             "#f7f7f7"
            ],
            [
             0.6,
             "#e6f5d0"
            ],
            [
             0.7,
             "#b8e186"
            ],
            [
             0.8,
             "#7fbc41"
            ],
            [
             0.9,
             "#4d9221"
            ],
            [
             1,
             "#276419"
            ]
           ],
           "sequential": [
            [
             0,
             "#0d0887"
            ],
            [
             0.1111111111111111,
             "#46039f"
            ],
            [
             0.2222222222222222,
             "#7201a8"
            ],
            [
             0.3333333333333333,
             "#9c179e"
            ],
            [
             0.4444444444444444,
             "#bd3786"
            ],
            [
             0.5555555555555556,
             "#d8576b"
            ],
            [
             0.6666666666666666,
             "#ed7953"
            ],
            [
             0.7777777777777778,
             "#fb9f3a"
            ],
            [
             0.8888888888888888,
             "#fdca26"
            ],
            [
             1,
             "#f0f921"
            ]
           ],
           "sequentialminus": [
            [
             0,
             "#0d0887"
            ],
            [
             0.1111111111111111,
             "#46039f"
            ],
            [
             0.2222222222222222,
             "#7201a8"
            ],
            [
             0.3333333333333333,
             "#9c179e"
            ],
            [
             0.4444444444444444,
             "#bd3786"
            ],
            [
             0.5555555555555556,
             "#d8576b"
            ],
            [
             0.6666666666666666,
             "#ed7953"
            ],
            [
             0.7777777777777778,
             "#fb9f3a"
            ],
            [
             0.8888888888888888,
             "#fdca26"
            ],
            [
             1,
             "#f0f921"
            ]
           ]
          },
          "colorway": [
           "#636efa",
           "#EF553B",
           "#00cc96",
           "#ab63fa",
           "#FFA15A",
           "#19d3f3",
           "#FF6692",
           "#B6E880",
           "#FF97FF",
           "#FECB52"
          ],
          "font": {
           "color": "#2a3f5f"
          },
          "geo": {
           "bgcolor": "white",
           "lakecolor": "white",
           "landcolor": "#E5ECF6",
           "showlakes": true,
           "showland": true,
           "subunitcolor": "white"
          },
          "hoverlabel": {
           "align": "left"
          },
          "hovermode": "closest",
          "mapbox": {
           "style": "light"
          },
          "paper_bgcolor": "white",
          "plot_bgcolor": "#E5ECF6",
          "polar": {
           "angularaxis": {
            "gridcolor": "white",
            "linecolor": "white",
            "ticks": ""
           },
           "bgcolor": "#E5ECF6",
           "radialaxis": {
            "gridcolor": "white",
            "linecolor": "white",
            "ticks": ""
           }
          },
          "scene": {
           "xaxis": {
            "backgroundcolor": "#E5ECF6",
            "gridcolor": "white",
            "gridwidth": 2,
            "linecolor": "white",
            "showbackground": true,
            "ticks": "",
            "zerolinecolor": "white"
           },
           "yaxis": {
            "backgroundcolor": "#E5ECF6",
            "gridcolor": "white",
            "gridwidth": 2,
            "linecolor": "white",
            "showbackground": true,
            "ticks": "",
            "zerolinecolor": "white"
           },
           "zaxis": {
            "backgroundcolor": "#E5ECF6",
            "gridcolor": "white",
            "gridwidth": 2,
            "linecolor": "white",
            "showbackground": true,
            "ticks": "",
            "zerolinecolor": "white"
           }
          },
          "shapedefaults": {
           "line": {
            "color": "#2a3f5f"
           }
          },
          "ternary": {
           "aaxis": {
            "gridcolor": "white",
            "linecolor": "white",
            "ticks": ""
           },
           "baxis": {
            "gridcolor": "white",
            "linecolor": "white",
            "ticks": ""
           },
           "bgcolor": "#E5ECF6",
           "caxis": {
            "gridcolor": "white",
            "linecolor": "white",
            "ticks": ""
           }
          },
          "title": {
           "x": 0.05
          },
          "xaxis": {
           "automargin": true,
           "gridcolor": "white",
           "linecolor": "white",
           "ticks": "",
           "title": {
            "standoff": 15
           },
           "zerolinecolor": "white",
           "zerolinewidth": 2
          },
          "yaxis": {
           "automargin": true,
           "gridcolor": "white",
           "linecolor": "white",
           "ticks": "",
           "title": {
            "standoff": 15
           },
           "zerolinecolor": "white",
           "zerolinewidth": 2
          }
         }
        },
        "title": {
         "text": "Flight Distribution by Destination State"
        }
       }
      }
     },
     "metadata": {},
     "output_type": "display_data"
    }
   ],
   "source": [
    "\n",
    "\n",
    "state_counts = df['dest_state_ID'].value_counts().reset_index()\n",
    "state_counts.columns = ['state', 'flights']\n",
    "\n",
    "fig = px.choropleth(\n",
    "    state_counts,\n",
    "    locations='state',\n",
    "    locationmode='USA-states',\n",
    "    color='flights',\n",
    "    color_continuous_scale='OrRd',\n",
    "    scope='usa',\n",
    "    title='Flight Distribution by Destination State'\n",
    ")\n",
    "\n",
    "fig.show()"
   ]
  },
  {
   "cell_type": "code",
   "execution_count": 85,
   "metadata": {},
   "outputs": [
    {
     "data": {
      "image/png": "[encoded data removed]",
      "text/plain": [
       "<Figure size 1000x600 with 1 Axes>"
      ]
     },
     "metadata": {},
     "output_type": "display_data"
    }
   ],
   "source": [
    "state_delay = df.groupby('origin_state_ID')['arr_delay_pos'].sum().reset_index()\n",
    "state_delay.columns = ['state', 'total_delay']\n",
    "\n",
    "# Find the state with the maximum total delay\n",
    "most_late_state = state_delay.loc[state_delay['total_delay'].idxmax()]\n",
    "\n",
    "# Plot the total delay for each state\n",
    "plt.figure(figsize=(10, 6))\n",
    "plt.bar(state_delay['state'], state_delay['total_delay'], color='orange')\n",
    "plt.xlabel('State')\n",
    "plt.ylabel('Total Delay (minutes)')\n",
    "plt.title('Total Delay by Origin State')\n",
    "plt.tight_layout()\n",
    "plt.show()"
   ]
  },
  {
   "cell_type": "code",
   "execution_count": 92,
   "metadata": {},
   "outputs": [
    {
     "data": {
      "application/vnd.plotly.v1+json": {
       "config": {
        "plotlyServerURL": "https://plot.ly"
       },
       "data": [
        {
         "coloraxis": "coloraxis",
         "geo": "geo",
         "hovertemplate": "state=%{location}<br>delay_percentage=%{z}<extra></extra>",
         "locationmode": "USA-states",
         "locations": [
          "AK",
          "AL",
          "AR",
          "AZ",
          "CA",
          "CO",
          "CT",
          "FL",
          "GA",
          "HI",
          "IA",
          "ID",
          "IL",
          "IN",
          "KS",
          "KY",
          "LA",
          "MA",
          "MD",
          "ME",
          "MI",
          "MN",
          "MO",
          "MS",
          "MT",
          "NC",
          "ND",
          "NE",
          "NH",
          "NJ",
          "NM",
          "NV",
          "NY",
          "OH",
          "OK",
          "OR",
          "PA",
          "PR",
          "RI",
          "SC",
          "SD",
          "TN",
          "TT",
          "TX",
          "UT",
          "VA",
          "VI",
          "VT",
          "WA",
          "WI",
          "WV",
          "WY"
         ],
         "name": "",
         "type": "choropleth",
         "z": [
          633.0989583333334,
          1129.7825827735603,
          1147.2797215607254,
          1014.632968905296,
          1239.8914967167834,
          1155.7214371508492,
          938.9722467392371,
          1302.9762526414966,
          984.8512186320502,
          593.1125827814569,
          1184.7003025594897,
          1036.7457049552747,
          1362.7686511587156,
          1152.4356757856199,
          1166.8178800619605,
          1218.055858268207,
          1176.1876589954445,
          1194.714141282369,
          1033.5339128624225,
          1440.1981904351574,
          1181.0630390303281,
          1126.3628567928456,
          1053.6558083436273,
          1304.4368300825865,
          831.781589079454,
          1166.5774474312564,
          1231.7844591956266,
          1034.0996702429056,
          897.3214285714287,
          1493.6528391758968,
          1136.9087243917302,
          1211.435654366484,
          1482.5358832869563,
          1122.1277023052976,
          925.817809359196,
          985.7805551862194,
          1154.671450615823,
          1143.0887458289797,
          877.1705701443103,
          1243.0288683247763,
          1201.9923276822176,
          1148.3707151925519,
          2209.20245398773,
          1198.1423298137179,
          864.864530823762,
          1226.140934942433,
          1259.4594594594594,
          1527.0707558560734,
          913.3856029725757,
          1053.2345408691913,
          1588.9400921658985,
          1237.6133103843947
         ]
        }
       ],
       "layout": {
        "coloraxis": {
         "colorbar": {
          "title": {
           "text": "delay_percentage"
          }
         },
         "colorscale": [
          [
           0,
           "rgb(255,247,236)"
          ],
          [
           0.125,
           "rgb(254,232,200)"
          ],
          [
           0.25,
           "rgb(253,212,158)"
          ],
          [
           0.375,
           "rgb(253,187,132)"
          ],
          [
           0.5,
           "rgb(252,141,89)"
          ],
          [
           0.625,
           "rgb(239,101,72)"
          ],
          [
           0.75,
           "rgb(215,48,31)"
          ],
          [
           0.875,
           "rgb(179,0,0)"
          ],
          [
           1,
           "rgb(127,0,0)"
          ]
         ]
        },
        "geo": {
         "center": {},
         "domain": {
          "x": [
           0,
           1
          ],
          "y": [
           0,
           1
          ]
         },
         "scope": "usa"
        },
        "legend": {
         "tracegroupgap": 0
        },
        "template": {
         "data": {
          "bar": [
           {
            "error_x": {
             "color": "#2a3f5f"
            },
            "error_y": {
             "color": "#2a3f5f"
            },
            "marker": {
             "line": {
              "color": "#E5ECF6",
              "width": 0.5
             },
             "pattern": {
              "fillmode": "overlay",
              "size": 10,
              "solidity": 0.2
             }
            },
            "type": "bar"
           }
          ],
          "barpolar": [
           {
            "marker": {
             "line": {
              "color": "#E5ECF6",
              "width": 0.5
             },
             "pattern": {
              "fillmode": "overlay",
              "size": 10,
              "solidity": 0.2
             }
            },
            "type": "barpolar"
           }
          ],
          "carpet": [
           {
            "aaxis": {
             "endlinecolor": "#2a3f5f",
             "gridcolor": "white",
             "linecolor": "white",
             "minorgridcolor": "white",
             "startlinecolor": "#2a3f5f"
            },
            "baxis": {
             "endlinecolor": "#2a3f5f",
             "gridcolor": "white",
             "linecolor": "white",
             "minorgridcolor": "white",
             "startlinecolor": "#2a3f5f"
            },
            "type": "carpet"
           }
          ],
          "choropleth": [
           {
            "colorbar": {
             "outlinewidth": 0,
             "ticks": ""
            },
            "type": "choropleth"
           }
          ],
          "contour": [
           {
            "colorbar": {
             "outlinewidth": 0,
             "ticks": ""
            },
            "colorscale": [
             [
              0,
              "#0d0887"
             ],
             [
              0.1111111111111111,
              "#46039f"
             ],
             [
              0.2222222222222222,
              "#7201a8"
             ],
             [
              0.3333333333333333,
              "#9c179e"
             ],
             [
              0.4444444444444444,
              "#bd3786"
             ],
             [
              0.5555555555555556,
              "#d8576b"
             ],
             [
              0.6666666666666666,
              "#ed7953"
             ],
             [
              0.7777777777777778,
              "#fb9f3a"
             ],
             [
              0.8888888888888888,
              "#fdca26"
             ],
             [
              1,
              "#f0f921"
             ]
            ],
            "type": "contour"
           }
          ],
          "contourcarpet": [
           {
            "colorbar": {
             "outlinewidth": 0,
             "ticks": ""
            },
            "type": "contourcarpet"
           }
          ],
          "heatmap": [
           {
            "colorbar": {
             "outlinewidth": 0,
             "ticks": ""
            },
            "colorscale": [
             [
              0,
              "#0d0887"
             ],
             [
              0.1111111111111111,
              "#46039f"
             ],
             [
              0.2222222222222222,
              "#7201a8"
             ],
             [
              0.3333333333333333,
              "#9c179e"
             ],
             [
              0.4444444444444444,
              "#bd3786"
             ],
             [
              0.5555555555555556,
              "#d8576b"
             ],
             [
              0.6666666666666666,
              "#ed7953"
             ],
             [
              0.7777777777777778,
              "#fb9f3a"
             ],
             [
              0.8888888888888888,
              "#fdca26"
             ],
             [
              1,
              "#f0f921"
             ]
            ],
            "type": "heatmap"
           }
          ],
          "heatmapgl": [
           {
            "colorbar": {
             "outlinewidth": 0,
             "ticks": ""
            },
            "colorscale": [
             [
              0,
              "#0d0887"
             ],
             [
              0.1111111111111111,
              "#46039f"
             ],
             [
              0.2222222222222222,
              "#7201a8"
             ],
             [
              0.3333333333333333,
              "#9c179e"
             ],
             [
              0.4444444444444444,
              "#bd3786"
             ],
             [
              0.5555555555555556,
              "#d8576b"
             ],
             [
              0.6666666666666666,
              "#ed7953"
             ],
             [
              0.7777777777777778,
              "#fb9f3a"
             ],
             [
              0.8888888888888888,
              "#fdca26"
             ],
             [
              1,
              "#f0f921"
             ]
            ],
            "type": "heatmapgl"
           }
          ],
          "histogram": [
           {
            "marker": {
             "pattern": {
              "fillmode": "overlay",
              "size": 10,
              "solidity": 0.2
             }
            },
            "type": "histogram"
           }
          ],
          "histogram2d": [
           {
            "colorbar": {
             "outlinewidth": 0,
             "ticks": ""
            },
            "colorscale": [
             [
              0,
              "#0d0887"
             ],
             [
              0.1111111111111111,
              "#46039f"
             ],
             [
              0.2222222222222222,
              "#7201a8"
             ],
             [
              0.3333333333333333,
              "#9c179e"
             ],
             [
              0.4444444444444444,
              "#bd3786"
             ],
             [
              0.5555555555555556,
              "#d8576b"
             ],
             [
              0.6666666666666666,
              "#ed7953"
             ],
             [
              0.7777777777777778,
              "#fb9f3a"
             ],
             [
              0.8888888888888888,
              "#fdca26"
             ],
             [
              1,
              "#f0f921"
             ]
            ],
            "type": "histogram2d"
           }
          ],
          "histogram2dcontour": [
           {
            "colorbar": {
             "outlinewidth": 0,
             "ticks": ""
            },
            "colorscale": [
             [
              0,
              "#0d0887"
             ],
             [
              0.1111111111111111,
              "#46039f"
             ],
             [
              0.2222222222222222,
              "#7201a8"
             ],
             [
              0.3333333333333333,
              "#9c179e"
             ],
             [
              0.4444444444444444,
              "#bd3786"
             ],
             [
              0.5555555555555556,
              "#d8576b"
             ],
             [
              0.6666666666666666,
              "#ed7953"
             ],
             [
              0.7777777777777778,
              "#fb9f3a"
             ],
             [
              0.8888888888888888,
              "#fdca26"
             ],
             [
              1,
              "#f0f921"
             ]
            ],
            "type": "histogram2dcontour"
           }
          ],
          "mesh3d": [
           {
            "colorbar": {
             "outlinewidth": 0,
             "ticks": ""
            },
            "type": "mesh3d"
           }
          ],
          "parcoords": [
           {
            "line": {
             "colorbar": {
              "outlinewidth": 0,
              "ticks": ""
             }
            },
            "type": "parcoords"
           }
          ],
          "pie": [
           {
            "automargin": true,
            "type": "pie"
           }
          ],
          "scatter": [
           {
            "fillpattern": {
             "fillmode": "overlay",
             "size": 10,
             "solidity": 0.2
            },
            "type": "scatter"
           }
          ],
          "scatter3d": [
           {
            "line": {
             "colorbar": {
              "outlinewidth": 0,
              "ticks": ""
             }
            },
            "marker": {
             "colorbar": {
              "outlinewidth": 0,
              "ticks": ""
             }
            },
            "type": "scatter3d"
           }
          ],
          "scattercarpet": [
           {
            "marker": {
             "colorbar": {
              "outlinewidth": 0,
              "ticks": ""
             }
            },
            "type": "scattercarpet"
           }
          ],
          "scattergeo": [
           {
            "marker": {
             "colorbar": {
              "outlinewidth": 0,
              "ticks": ""
             }
            },
            "type": "scattergeo"
           }
          ],
          "scattergl": [
           {
            "marker": {
             "colorbar": {
              "outlinewidth": 0,
              "ticks": ""
             }
            },
            "type": "scattergl"
           }
          ],
          "scattermapbox": [
           {
            "marker": {
             "colorbar": {
              "outlinewidth": 0,
              "ticks": ""
             }
            },
            "type": "scattermapbox"
           }
          ],
          "scatterpolar": [
           {
            "marker": {
             "colorbar": {
              "outlinewidth": 0,
              "ticks": ""
             }
            },
            "type": "scatterpolar"
           }
          ],
          "scatterpolargl": [
           {
            "marker": {
             "colorbar": {
              "outlinewidth": 0,
              "ticks": ""
             }
            },
            "type": "scatterpolargl"
           }
          ],
          "scatterternary": [
           {
            "marker": {
             "colorbar": {
              "outlinewidth": 0,
              "ticks": ""
             }
            },
            "type": "scatterternary"
           }
          ],
          "surface": [
           {
            "colorbar": {
             "outlinewidth": 0,
             "ticks": ""
            },
            "colorscale": [
             [
              0,
              "#0d0887"
             ],
             [
              0.1111111111111111,
              "#46039f"
             ],
             [
              0.2222222222222222,
              "#7201a8"
             ],
             [
              0.3333333333333333,
              "#9c179e"
             ],
             [
              0.4444444444444444,
              "#bd3786"
             ],
             [
              0.5555555555555556,
              "#d8576b"
             ],
             [
              0.6666666666666666,
              "#ed7953"
             ],
             [
              0.7777777777777778,
              "#fb9f3a"
             ],
             [
              0.8888888888888888,
              "#fdca26"
             ],
             [
              1,
              "#f0f921"
             ]
            ],
            "type": "surface"
           }
          ],
          "table": [
           {
            "cells": {
             "fill": {
              "color": "#EBF0F8"
             },
             "line": {
              "color": "white"
             }
            },
            "header": {
             "fill": {
              "color": "#C8D4E3"
             },
             "line": {
              "color": "white"
             }
            },
            "type": "table"
           }
          ]
         },
         "layout": {
          "annotationdefaults": {
           "arrowcolor": "#2a3f5f",
           "arrowhead": 0,
           "arrowwidth": 1
          },
          "autotypenumbers": "strict",
          "coloraxis": {
           "colorbar": {
            "outlinewidth": 0,
            "ticks": ""
           }
          },
          "colorscale": {
           "diverging": [
            [
             0,
             "#8e0152"
            ],
            [
             0.1,
             "#c51b7d"
            ],
            [
             0.2,
             "#de77ae"
            ],
            [
             0.3,
             "#f1b6da"
            ],
            [
             0.4,
             "#fde0ef"
            ],
            [
             0.5,
             "#f7f7f7"
            ],
            [
             0.6,
             "#e6f5d0"
            ],
            [
             0.7,
             "#b8e186"
            ],
            [
             0.8,
             "#7fbc41"
            ],
            [
             0.9,
             "#4d9221"
            ],
            [
             1,
             "#276419"
            ]
           ],
           "sequential": [
            [
             0,
             "#0d0887"
            ],
            [
             0.1111111111111111,
             "#46039f"
            ],
            [
             0.2222222222222222,
             "#7201a8"
            ],
            [
             0.3333333333333333,
             "#9c179e"
            ],
            [
             0.4444444444444444,
             "#bd3786"
            ],
            [
             0.5555555555555556,
             "#d8576b"
            ],
            [
             0.6666666666666666,
             "#ed7953"
            ],
            [
             0.7777777777777778,
             "#fb9f3a"
            ],
            [
             0.8888888888888888,
             "#fdca26"
            ],
            [
             1,
             "#f0f921"
            ]
           ],
           "sequentialminus": [
            [
             0,
             "#0d0887"
            ],
            [
             0.1111111111111111,
             "#46039f"
            ],
            [
             0.2222222222222222,
             "#7201a8"
            ],
            [
             0.3333333333333333,
             "#9c179e"
            ],
            [
             0.4444444444444444,
             "#bd3786"
            ],
            [
             0.5555555555555556,
             "#d8576b"
            ],
            [
             0.6666666666666666,
             "#ed7953"
            ],
            [
             0.7777777777777778,
             "#fb9f3a"
            ],
            [
             0.8888888888888888,
             "#fdca26"
            ],
            [
             1,
             "#f0f921"
            ]
           ]
          },
          "colorway": [
           "#636efa",
           "#EF553B",
           "#00cc96",
           "#ab63fa",
           "#FFA15A",
           "#19d3f3",
           "#FF6692",
           "#B6E880",
           "#FF97FF",
           "#FECB52"
          ],
          "font": {
           "color": "#2a3f5f"
          },
          "geo": {
           "bgcolor": "white",
           "lakecolor": "white",
           "landcolor": "#E5ECF6",
           "showlakes": true,
           "showland": true,
           "subunitcolor": "white"
          },
          "hoverlabel": {
           "align": "left"
          },
          "hovermode": "closest",
          "mapbox": {
           "style": "light"
          },
          "paper_bgcolor": "white",
          "plot_bgcolor": "#E5ECF6",
          "polar": {
           "angularaxis": {
            "gridcolor": "white",
            "linecolor": "white",
            "ticks": ""
           },
           "bgcolor": "#E5ECF6",
           "radialaxis": {
            "gridcolor": "white",
            "linecolor": "white",
            "ticks": ""
           }
          },
          "scene": {
           "xaxis": {
            "backgroundcolor": "#E5ECF6",
            "gridcolor": "white",
            "gridwidth": 2,
            "linecolor": "white",
            "showbackground": true,
            "ticks": "",
            "zerolinecolor": "white"
           },
           "yaxis": {
            "backgroundcolor": "#E5ECF6",
            "gridcolor": "white",
            "gridwidth": 2,
            "linecolor": "white",
            "showbackground": true,
            "ticks": "",
            "zerolinecolor": "white"
           },
           "zaxis": {
            "backgroundcolor": "#E5ECF6",
            "gridcolor": "white",
            "gridwidth": 2,
            "linecolor": "white",
            "showbackground": true,
            "ticks": "",
            "zerolinecolor": "white"
           }
          },
          "shapedefaults": {
           "line": {
            "color": "#2a3f5f"
           }
          },
          "ternary": {
           "aaxis": {
            "gridcolor": "white",
            "linecolor": "white",
            "ticks": ""
           },
           "baxis": {
            "gridcolor": "white",
            "linecolor": "white",
            "ticks": ""
           },
           "bgcolor": "#E5ECF6",
           "caxis": {
            "gridcolor": "white",
            "linecolor": "white",
            "ticks": ""
           }
          },
          "title": {
           "x": 0.05
          },
          "xaxis": {
           "automargin": true,
           "gridcolor": "white",
           "linecolor": "white",
           "ticks": "",
           "title": {
            "standoff": 15
           },
           "zerolinecolor": "white",
           "zerolinewidth": 2
          },
          "yaxis": {
           "automargin": true,
           "gridcolor": "white",
           "linecolor": "white",
           "ticks": "",
           "title": {
            "standoff": 15
           },
           "zerolinecolor": "white",
           "zerolinewidth": 2
          }
         }
        },
        "title": {
         "text": "Proportion of Delayed Flights by Origin State"
        }
       }
      }
     },
     "metadata": {},
     "output_type": "display_data"
    }
   ],
   "source": [
    "state_flight_counts = df.groupby('origin_state_ID').size().reset_index(name='total_flights')\n",
    "state_delay_counts = df.groupby('origin_state_ID')['arr_delay_pos'].sum().reset_index(name='total_delays')\n",
    "\n",
    "state_stats = pd.merge(state_flight_counts, state_delay_counts, on='origin_state_ID')\n",
    "\n",
    "state_stats['delay_percentage'] = (state_stats['total_delays'] / state_stats['total_flights']) * 100\n",
    "state_stats.columns = ['state', 'total_flights', 'total_delays', 'delay_percentage']\n",
    "\n",
    "fig = px.choropleth(\n",
    "    state_stats,\n",
    "    locations='state',\n",
    "    locationmode='USA-states',\n",
    "    color='delay_percentage',\n",
    "    color_continuous_scale='OrRd',\n",
    "    scope='usa',\n",
    "    title='Proportion of Delayed Flights by Origin State'\n",
    ")\n",
    "\n",
    "fig.show()"
   ]
  },
  {
   "cell_type": "code",
   "execution_count": 97,
   "metadata": {},
   "outputs": [],
   "source": [
    "state_coords = {\n",
    "    'AL': (-86.902298, 32.318231),\n",
    "    'AK': (-149.493673, 64.200841),\n",
    "    'AZ': (-111.093731, 34.048928),\n",
    "    'AR': (-92.131378, 35.20105),\n",
    "    'CA': (-119.417932, 36.778261),\n",
    "    'CO': (-105.782067, 39.550051),\n",
    "    'CT': (-72.755371, 41.603221),\n",
    "    'DE': (-75.52767, 38.910832),\n",
    "    'FL': (-81.515754, 27.664827),\n",
    "    'GA': (-82.907123, 32.157435),\n",
    "    'HI': (-155.582782, 19.896766),\n",
    "    'ID': (-114.742041, 44.068202),\n",
    "    'IL': (-89.398528, 40.633125),\n",
    "    'IN': (-86.134902, 40.267194),\n",
    "    'IA': (-93.097702, 41.878003),\n",
    "    'KS': (-98.484246, 39.011902),\n",
    "    'KY': (-84.270018, 37.839333),\n",
    "    'LA': (-91.962333, 30.984298),\n",
    "    'ME': (-69.445469, 45.253783),\n",
    "    'MD': (-76.641271, 39.045755),\n",
    "    'MA': (-71.382437, 42.407211),\n",
    "    'MI': (-85.602364, 44.314844),\n",
    "    'MN': (-94.6859, 46.729553),\n",
    "    'MS': (-89.398528, 32.354668),\n",
    "    'MO': (-91.831833, 37.964253),\n",
    "    'MT': (-110.362566, 46.879682),\n",
    "    'NE': (-99.901813, 41.492537),\n",
    "    'NV': (-116.419389, 38.80261),\n",
    "    'NH': (-71.572395, 43.193852),\n",
    "    'NJ': (-74.405661, 40.058324),\n",
    "    'NM': (-105.87009, 34.51994),\n",
    "    'NY': (-74.217933, 43.299428),\n",
    "    'NC': (-79.0193, 35.759573),\n",
    "    'ND': (-101.002012, 47.551493),\n",
    "    'OH': (-82.907123, 40.417287),\n",
    "    'OK': (-97.516428, 35.007752),\n",
    "    'OR': (-120.554201, 43.804133),\n",
    "    'PA': (-77.194525, 41.203322),\n",
    "    'RI': (-71.477429, 41.580095),\n",
    "    'SC': (-81.163725, 33.836081),\n",
    "    'SD': (-99.901813, 43.969515),\n",
    "    'TN': (-86.580447, 35.517491),\n",
    "    'TX': (-99.901813, 31.968599),\n",
    "    'UT': (-111.093731, 39.32098),\n",
    "    'VT': (-72.577841, 44.558803),\n",
    "    'VA': (-78.656894, 37.431573),\n",
    "    'WA': (-120.740139, 47.751074),\n",
    "    'WV': (-80.454903, 38.597626),\n",
    "    'WI': (-89.616508, 43.78444),\n",
    "    'WY': (-107.290284, 43.075968)\n",
    "}"
   ]
  },
  {
   "cell_type": "code",
   "execution_count": 98,
   "metadata": {},
   "outputs": [
    {
     "data": {
      "text/html": [
       "<div>\n",
       "<style scoped>\n",
       "    .dataframe tbody tr th:only-of-type {\n",
       "        vertical-align: middle;\n",
       "    }\n",
       "\n",
       "    .dataframe tbody tr th {\n",
       "        vertical-align: top;\n",
       "    }\n",
       "\n",
       "    .dataframe thead th {\n",
       "        text-align: right;\n",
       "    }\n",
       "</style>\n",
       "<table border=\"1\" class=\"dataframe\">\n",
       "  <thead>\n",
       "    <tr style=\"text-align: right;\">\n",
       "      <th></th>\n",
       "      <th>ID</th>\n",
       "      <th>date</th>\n",
       "      <th>airline_ID</th>\n",
       "      <th>tail_num</th>\n",
       "      <th>fl_num</th>\n",
       "      <th>origin_airport_seq_ID</th>\n",
       "      <th>dest_airport_seq_ID</th>\n",
       "      <th>dep_time_x</th>\n",
       "      <th>arr_time_x</th>\n",
       "      <th>duration</th>\n",
       "      <th>...</th>\n",
       "      <th>weather_delay</th>\n",
       "      <th>nas_delay</th>\n",
       "      <th>security_delay</th>\n",
       "      <th>late_aircraft_delay</th>\n",
       "      <th>week</th>\n",
       "      <th>week_start</th>\n",
       "      <th>month_year</th>\n",
       "      <th>day_of_week</th>\n",
       "      <th>arr_delay_bool</th>\n",
       "      <th>arr_delay_pos</th>\n",
       "    </tr>\n",
       "  </thead>\n",
       "  <tbody>\n",
       "    <tr>\n",
       "      <th>0</th>\n",
       "      <td>1</td>\n",
       "      <td>2016-01-06</td>\n",
       "      <td>19805</td>\n",
       "      <td>N4YBAA</td>\n",
       "      <td>43</td>\n",
       "      <td>1129804</td>\n",
       "      <td>1143302</td>\n",
       "      <td>1100</td>\n",
       "      <td>1438</td>\n",
       "      <td>158</td>\n",
       "      <td>...</td>\n",
       "      <td>NaN</td>\n",
       "      <td>NaN</td>\n",
       "      <td>NaN</td>\n",
       "      <td>NaN</td>\n",
       "      <td>2016-01-04</td>\n",
       "      <td>2016-01-04</td>\n",
       "      <td>2016-01</td>\n",
       "      <td>Wednesday</td>\n",
       "      <td>0</td>\n",
       "      <td>0.0</td>\n",
       "    </tr>\n",
       "    <tr>\n",
       "      <th>1</th>\n",
       "      <td>2</td>\n",
       "      <td>2016-01-07</td>\n",
       "      <td>19805</td>\n",
       "      <td>N434AA</td>\n",
       "      <td>43</td>\n",
       "      <td>1129804</td>\n",
       "      <td>1143302</td>\n",
       "      <td>1100</td>\n",
       "      <td>1438</td>\n",
       "      <td>158</td>\n",
       "      <td>...</td>\n",
       "      <td>NaN</td>\n",
       "      <td>NaN</td>\n",
       "      <td>NaN</td>\n",
       "      <td>NaN</td>\n",
       "      <td>2016-01-04</td>\n",
       "      <td>2016-01-04</td>\n",
       "      <td>2016-01</td>\n",
       "      <td>Thursday</td>\n",
       "      <td>0</td>\n",
       "      <td>0.0</td>\n",
       "    </tr>\n",
       "    <tr>\n",
       "      <th>2</th>\n",
       "      <td>3</td>\n",
       "      <td>2016-01-08</td>\n",
       "      <td>19805</td>\n",
       "      <td>N541AA</td>\n",
       "      <td>43</td>\n",
       "      <td>1129804</td>\n",
       "      <td>1143302</td>\n",
       "      <td>1100</td>\n",
       "      <td>1438</td>\n",
       "      <td>158</td>\n",
       "      <td>...</td>\n",
       "      <td>NaN</td>\n",
       "      <td>NaN</td>\n",
       "      <td>NaN</td>\n",
       "      <td>NaN</td>\n",
       "      <td>2016-01-04</td>\n",
       "      <td>2016-01-04</td>\n",
       "      <td>2016-01</td>\n",
       "      <td>Friday</td>\n",
       "      <td>1</td>\n",
       "      <td>7.0</td>\n",
       "    </tr>\n",
       "    <tr>\n",
       "      <th>3</th>\n",
       "      <td>4</td>\n",
       "      <td>2016-01-09</td>\n",
       "      <td>19805</td>\n",
       "      <td>N489AA</td>\n",
       "      <td>43</td>\n",
       "      <td>1129804</td>\n",
       "      <td>1143302</td>\n",
       "      <td>1100</td>\n",
       "      <td>1438</td>\n",
       "      <td>158</td>\n",
       "      <td>...</td>\n",
       "      <td>NaN</td>\n",
       "      <td>NaN</td>\n",
       "      <td>NaN</td>\n",
       "      <td>NaN</td>\n",
       "      <td>2016-01-04</td>\n",
       "      <td>2016-01-04</td>\n",
       "      <td>2016-01</td>\n",
       "      <td>Saturday</td>\n",
       "      <td>0</td>\n",
       "      <td>0.0</td>\n",
       "    </tr>\n",
       "    <tr>\n",
       "      <th>4</th>\n",
       "      <td>5</td>\n",
       "      <td>2016-01-10</td>\n",
       "      <td>19805</td>\n",
       "      <td>N439AA</td>\n",
       "      <td>43</td>\n",
       "      <td>1129804</td>\n",
       "      <td>1143302</td>\n",
       "      <td>1100</td>\n",
       "      <td>1438</td>\n",
       "      <td>158</td>\n",
       "      <td>...</td>\n",
       "      <td>0.0</td>\n",
       "      <td>47.0</td>\n",
       "      <td>0.0</td>\n",
       "      <td>66.0</td>\n",
       "      <td>2016-01-04</td>\n",
       "      <td>2016-01-04</td>\n",
       "      <td>2016-01</td>\n",
       "      <td>Sunday</td>\n",
       "      <td>1</td>\n",
       "      <td>113.0</td>\n",
       "    </tr>\n",
       "    <tr>\n",
       "      <th>...</th>\n",
       "      <td>...</td>\n",
       "      <td>...</td>\n",
       "      <td>...</td>\n",
       "      <td>...</td>\n",
       "      <td>...</td>\n",
       "      <td>...</td>\n",
       "      <td>...</td>\n",
       "      <td>...</td>\n",
       "      <td>...</td>\n",
       "      <td>...</td>\n",
       "      <td>...</td>\n",
       "      <td>...</td>\n",
       "      <td>...</td>\n",
       "      <td>...</td>\n",
       "      <td>...</td>\n",
       "      <td>...</td>\n",
       "      <td>...</td>\n",
       "      <td>...</td>\n",
       "      <td>...</td>\n",
       "      <td>...</td>\n",
       "      <td>...</td>\n",
       "    </tr>\n",
       "    <tr>\n",
       "      <th>5635962</th>\n",
       "      <td>5515254</td>\n",
       "      <td>2016-12-09</td>\n",
       "      <td>20304</td>\n",
       "      <td>N908SW</td>\n",
       "      <td>5102</td>\n",
       "      <td>1251902</td>\n",
       "      <td>1144703</td>\n",
       "      <td>1311</td>\n",
       "      <td>1359</td>\n",
       "      <td>48</td>\n",
       "      <td>...</td>\n",
       "      <td>NaN</td>\n",
       "      <td>NaN</td>\n",
       "      <td>NaN</td>\n",
       "      <td>NaN</td>\n",
       "      <td>2016-12-05</td>\n",
       "      <td>2016-12-05</td>\n",
       "      <td>2016-12</td>\n",
       "      <td>Friday</td>\n",
       "      <td>0</td>\n",
       "      <td>0.0</td>\n",
       "    </tr>\n",
       "    <tr>\n",
       "      <th>5635963</th>\n",
       "      <td>5515257</td>\n",
       "      <td>2016-12-09</td>\n",
       "      <td>20304</td>\n",
       "      <td>N908SW</td>\n",
       "      <td>5104</td>\n",
       "      <td>1251902</td>\n",
       "      <td>1144703</td>\n",
       "      <td>2320</td>\n",
       "      <td>8</td>\n",
       "      <td>48</td>\n",
       "      <td>...</td>\n",
       "      <td>NaN</td>\n",
       "      <td>NaN</td>\n",
       "      <td>NaN</td>\n",
       "      <td>NaN</td>\n",
       "      <td>2016-12-05</td>\n",
       "      <td>2016-12-05</td>\n",
       "      <td>2016-12</td>\n",
       "      <td>Friday</td>\n",
       "      <td>0</td>\n",
       "      <td>0.0</td>\n",
       "    </tr>\n",
       "    <tr>\n",
       "      <th>5635964</th>\n",
       "      <td>5517324</td>\n",
       "      <td>2016-12-19</td>\n",
       "      <td>20304</td>\n",
       "      <td>N937SW</td>\n",
       "      <td>5102</td>\n",
       "      <td>1251902</td>\n",
       "      <td>1144703</td>\n",
       "      <td>1313</td>\n",
       "      <td>1407</td>\n",
       "      <td>54</td>\n",
       "      <td>...</td>\n",
       "      <td>NaN</td>\n",
       "      <td>NaN</td>\n",
       "      <td>NaN</td>\n",
       "      <td>NaN</td>\n",
       "      <td>2016-12-19</td>\n",
       "      <td>2016-12-19</td>\n",
       "      <td>2016-12</td>\n",
       "      <td>Monday</td>\n",
       "      <td>0</td>\n",
       "      <td>0.0</td>\n",
       "    </tr>\n",
       "    <tr>\n",
       "      <th>5635965</th>\n",
       "      <td>5517327</td>\n",
       "      <td>2016-12-19</td>\n",
       "      <td>20304</td>\n",
       "      <td>N915SW</td>\n",
       "      <td>5104</td>\n",
       "      <td>1251902</td>\n",
       "      <td>1144703</td>\n",
       "      <td>2320</td>\n",
       "      <td>14</td>\n",
       "      <td>54</td>\n",
       "      <td>...</td>\n",
       "      <td>NaN</td>\n",
       "      <td>NaN</td>\n",
       "      <td>NaN</td>\n",
       "      <td>NaN</td>\n",
       "      <td>2016-12-19</td>\n",
       "      <td>2016-12-19</td>\n",
       "      <td>2016-12</td>\n",
       "      <td>Monday</td>\n",
       "      <td>0</td>\n",
       "      <td>0.0</td>\n",
       "    </tr>\n",
       "    <tr>\n",
       "      <th>5635966</th>\n",
       "      <td>4692220</td>\n",
       "      <td>2016-10-21</td>\n",
       "      <td>19977</td>\n",
       "      <td>N33294</td>\n",
       "      <td>165</td>\n",
       "      <td>1201602</td>\n",
       "      <td>1495503</td>\n",
       "      <td>630</td>\n",
       "      <td>710</td>\n",
       "      <td>40</td>\n",
       "      <td>...</td>\n",
       "      <td>NaN</td>\n",
       "      <td>NaN</td>\n",
       "      <td>NaN</td>\n",
       "      <td>NaN</td>\n",
       "      <td>2016-10-17</td>\n",
       "      <td>2016-10-17</td>\n",
       "      <td>2016-10</td>\n",
       "      <td>Friday</td>\n",
       "      <td>0</td>\n",
       "      <td>0.0</td>\n",
       "    </tr>\n",
       "  </tbody>\n",
       "</table>\n",
       "<p>5635967 rows × 52 columns</p>\n",
       "</div>"
      ],
      "text/plain": [
       "              ID       date  airline_ID tail_num  fl_num  \\\n",
       "0              1 2016-01-06       19805   N4YBAA      43   \n",
       "1              2 2016-01-07       19805   N434AA      43   \n",
       "2              3 2016-01-08       19805   N541AA      43   \n",
       "3              4 2016-01-09       19805   N489AA      43   \n",
       "4              5 2016-01-10       19805   N439AA      43   \n",
       "...          ...        ...         ...      ...     ...   \n",
       "5635962  5515254 2016-12-09       20304   N908SW    5102   \n",
       "5635963  5515257 2016-12-09       20304   N908SW    5104   \n",
       "5635964  5517324 2016-12-19       20304   N937SW    5102   \n",
       "5635965  5517327 2016-12-19       20304   N915SW    5104   \n",
       "5635966  4692220 2016-10-21       19977   N33294     165   \n",
       "\n",
       "         origin_airport_seq_ID  dest_airport_seq_ID  dep_time_x  arr_time_x  \\\n",
       "0                      1129804              1143302        1100        1438   \n",
       "1                      1129804              1143302        1100        1438   \n",
       "2                      1129804              1143302        1100        1438   \n",
       "3                      1129804              1143302        1100        1438   \n",
       "4                      1129804              1143302        1100        1438   \n",
       "...                        ...                  ...         ...         ...   \n",
       "5635962                1251902              1144703        1311        1359   \n",
       "5635963                1251902              1144703        2320           8   \n",
       "5635964                1251902              1144703        1313        1407   \n",
       "5635965                1251902              1144703        2320          14   \n",
       "5635966                1201602              1495503         630         710   \n",
       "\n",
       "         duration  ...  weather_delay  nas_delay security_delay  \\\n",
       "0             158  ...            NaN        NaN            NaN   \n",
       "1             158  ...            NaN        NaN            NaN   \n",
       "2             158  ...            NaN        NaN            NaN   \n",
       "3             158  ...            NaN        NaN            NaN   \n",
       "4             158  ...            0.0       47.0            0.0   \n",
       "...           ...  ...            ...        ...            ...   \n",
       "5635962        48  ...            NaN        NaN            NaN   \n",
       "5635963        48  ...            NaN        NaN            NaN   \n",
       "5635964        54  ...            NaN        NaN            NaN   \n",
       "5635965        54  ...            NaN        NaN            NaN   \n",
       "5635966        40  ...            NaN        NaN            NaN   \n",
       "\n",
       "         late_aircraft_delay       week week_start month_year  day_of_week  \\\n",
       "0                        NaN 2016-01-04 2016-01-04    2016-01    Wednesday   \n",
       "1                        NaN 2016-01-04 2016-01-04    2016-01     Thursday   \n",
       "2                        NaN 2016-01-04 2016-01-04    2016-01       Friday   \n",
       "3                        NaN 2016-01-04 2016-01-04    2016-01     Saturday   \n",
       "4                       66.0 2016-01-04 2016-01-04    2016-01       Sunday   \n",
       "...                      ...        ...        ...        ...          ...   \n",
       "5635962                  NaN 2016-12-05 2016-12-05    2016-12       Friday   \n",
       "5635963                  NaN 2016-12-05 2016-12-05    2016-12       Friday   \n",
       "5635964                  NaN 2016-12-19 2016-12-19    2016-12       Monday   \n",
       "5635965                  NaN 2016-12-19 2016-12-19    2016-12       Monday   \n",
       "5635966                  NaN 2016-10-17 2016-10-17    2016-10       Friday   \n",
       "\n",
       "        arr_delay_bool  arr_delay_pos  \n",
       "0                    0            0.0  \n",
       "1                    0            0.0  \n",
       "2                    1            7.0  \n",
       "3                    0            0.0  \n",
       "4                    1          113.0  \n",
       "...                ...            ...  \n",
       "5635962              0            0.0  \n",
       "5635963              0            0.0  \n",
       "5635964              0            0.0  \n",
       "5635965              0            0.0  \n",
       "5635966              0            0.0  \n",
       "\n",
       "[5635967 rows x 52 columns]"
      ]
     },
     "execution_count": 98,
     "metadata": {},
     "output_type": "execute_result"
    }
   ],
   "source": [
    "df"
   ]
  },
  {
   "cell_type": "code",
   "execution_count": null,
   "metadata": {},
   "outputs": [],
   "source": []
  }
 ],
 "metadata": {
  "kernelspec": {
   "display_name": "Python 3",
   "language": "python",
   "name": "python3"
  },
  "language_info": {
   "codemirror_mode": {
    "name": "ipython",
    "version": 3
   },
   "file_extension": ".py",
   "mimetype": "text/x-python",
   "name": "python",
   "nbconvert_exporter": "python",
   "pygments_lexer": "ipython3",
   "version": "3.10.6"
  }
 },
 "nbformat": 4,
 "nbformat_minor": 2
}
